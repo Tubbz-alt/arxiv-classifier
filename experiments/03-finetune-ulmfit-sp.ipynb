{
 "cells": [
  {
   "cell_type": "markdown",
   "metadata": {},
   "source": [
    "# Fine-tune ULMFiT + sentencepiece langauge model on arxiv abstracts\n",
    "\n",
    "This notebook contains code for fine-tuning a language model using ULMFiT with sentencepiece unigram tokenization model. Both the tokenizator and language model were trained on corpus of 64K+ machine learning papers. In this notebook we fine-tune on arxiv data using only titles and abstracts. We use papers published before 2020 as a training set and after 2020 as a validation set, excluding arxiv test set from both sets."
   ]
  },
  {
   "cell_type": "code",
   "execution_count": 1,
   "metadata": {},
   "outputs": [
    {
     "name": "stdout",
     "output_type": "stream",
     "text": [
      "/home/ubuntu/paperswithcode/paper-extractor\n"
     ]
    }
   ],
   "source": [
    "%cd ~/paperswithcode/paper-extractor"
   ]
  },
  {
   "cell_type": "code",
   "execution_count": 2,
   "metadata": {},
   "outputs": [],
   "source": [
    "import pandas as pd, numpy as np\n",
    "from pathlib import Path\n",
    "\n",
    "DATA_PATH = Path(\"notebooks/shared-notebooks/arxiv-class\")\n",
    "TRAIN_PATH = DATA_PATH / \"arxiv-tag-classifier-data.json\"\n",
    "TEST_PATH = DATA_PATH / \"classifier.tsv\""
   ]
  },
  {
   "cell_type": "code",
   "execution_count": 3,
   "metadata": {},
   "outputs": [],
   "source": [
    "train_df = pd.read_pickle(DATA_PATH / \"train_df.pkl.gz\")\n",
    "valid_df = pd.read_pickle(DATA_PATH / \"valid_df.pkl.gz\")"
   ]
  },
  {
   "cell_type": "code",
   "execution_count": 7,
   "metadata": {},
   "outputs": [],
   "source": [
    "from fastai.text import *\n",
    "\n",
    "BASE_DIR = Path(\"./models/ulmfit_baseline\")\n",
    "VOCAB_PATH = BASE_DIR / \"data_lm_export_vocab.pkl\"\n",
    "MODELS_PATH = DATA_PATH / \"models\"\n",
    "\n",
    "processor = SPProcessor(sp_model=BASE_DIR / \"tmp\" / \"spm.model\", sp_vocab=BASE_DIR / \"tmp\" / \"spm.vocab\", n_cpus=8, mark_fields=True)\n",
    "vocab = Vocab.load(VOCAB_PATH)"
   ]
  },
  {
   "cell_type": "code",
   "execution_count": 8,
   "metadata": {},
   "outputs": [],
   "source": [
    "text_cols = [\"title\", \"abstract\"]\n",
    "valid_tl = TextList.from_df(valid_df, MODELS_PATH, cols=text_cols, processor=processor)"
   ]
  },
  {
   "cell_type": "code",
   "execution_count": 9,
   "metadata": {},
   "outputs": [],
   "source": [
    "train_tl = TextList.from_df(train_df, MODELS_PATH, cols=text_cols, processor=processor)"
   ]
  },
  {
   "cell_type": "code",
   "execution_count": 10,
   "metadata": {},
   "outputs": [],
   "source": [
    "data_lm = ItemLists(MODELS_PATH, train_tl, valid_tl)\\\n",
    "    .label_for_lm()\\\n",
    "    .databunch(bs=256)"
   ]
  },
  {
   "cell_type": "code",
   "execution_count": 11,
   "metadata": {},
   "outputs": [
    {
     "name": "stderr",
     "output_type": "stream",
     "text": [
      "/home/ubuntu/anaconda3/envs/fastai/lib/python3.7/site-packages/torch/serialization.py:292: UserWarning: Couldn't retrieve source code for container of type CrossEntropyLoss. It won't be checked for correctness upon loading.\n",
      "  \"type \" + obj.__name__ + \". It won't be checked \"\n"
     ]
    }
   ],
   "source": [
    "data_lm.save('data_lm_abs.pkl')"
   ]
  },
  {
   "cell_type": "code",
   "execution_count": 12,
   "metadata": {},
   "outputs": [
    {
     "data": {
      "text/html": [
       "<table border=\"1\" class=\"dataframe\">\n",
       "  <thead>\n",
       "    <tr style=\"text-align: left;\">\n",
       "      <th>epoch</th>\n",
       "      <th>train_loss</th>\n",
       "      <th>valid_loss</th>\n",
       "      <th>accuracy</th>\n",
       "      <th>time</th>\n",
       "    </tr>\n",
       "  </thead>\n",
       "  <tbody>\n",
       "    <tr>\n",
       "      <td>0</td>\n",
       "      <td>3.729671</td>\n",
       "      <td>3.633713</td>\n",
       "      <td>0.357466</td>\n",
       "      <td>1:37:35</td>\n",
       "    </tr>\n",
       "  </tbody>\n",
       "</table>"
      ],
      "text/plain": [
       "<IPython.core.display.HTML object>"
      ]
     },
     "metadata": {},
     "output_type": "display_data"
    }
   ],
   "source": [
    "learn = language_model_learner(data_lm, AWD_LSTM, drop_mult=0.5)\n",
    "learn.fit_one_cycle(1, 1e-2)"
   ]
  },
  {
   "cell_type": "code",
   "execution_count": 13,
   "metadata": {},
   "outputs": [
    {
     "data": {
      "text/html": [
       "<table border=\"1\" class=\"dataframe\">\n",
       "  <thead>\n",
       "    <tr style=\"text-align: left;\">\n",
       "      <th>epoch</th>\n",
       "      <th>train_loss</th>\n",
       "      <th>valid_loss</th>\n",
       "      <th>accuracy</th>\n",
       "      <th>time</th>\n",
       "    </tr>\n",
       "  </thead>\n",
       "  <tbody>\n",
       "    <tr>\n",
       "      <td>0</td>\n",
       "      <td>3.063642</td>\n",
       "      <td>3.065155</td>\n",
       "      <td>0.424697</td>\n",
       "      <td>1:56:45</td>\n",
       "    </tr>\n",
       "  </tbody>\n",
       "</table>"
      ],
      "text/plain": [
       "<IPython.core.display.HTML object>"
      ]
     },
     "metadata": {},
     "output_type": "display_data"
    }
   ],
   "source": [
    "learn.unfreeze()\n",
    "learn.fit_one_cycle(1, 1e-3)"
   ]
  },
  {
   "cell_type": "code",
   "execution_count": 14,
   "metadata": {},
   "outputs": [],
   "source": [
    "learn.save_encoder(\"arxiv_enc_sp30k_1_1_abstracts.pkl\")"
   ]
  }
 ],
 "metadata": {
  "kernelspec": {
   "display_name": "Python (fastai)",
   "language": "python",
   "name": "fastai"
  },
  "language_info": {
   "codemirror_mode": {
    "name": "ipython",
    "version": 3
   },
   "file_extension": ".py",
   "mimetype": "text/x-python",
   "name": "python",
   "nbconvert_exporter": "python",
   "pygments_lexer": "ipython3",
   "version": "3.7.4"
  }
 },
 "nbformat": 4,
 "nbformat_minor": 2
}
