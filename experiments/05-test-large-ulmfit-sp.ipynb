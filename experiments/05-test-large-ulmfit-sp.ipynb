{
 "cells": [
  {
   "cell_type": "markdown",
   "metadata": {},
   "source": [
    "# Test ULMFiT + sentencepiece arxiv categories large classifier"
   ]
  },
  {
   "cell_type": "markdown",
   "metadata": {},
   "source": [
    "## Load model and data"
   ]
  },
  {
   "cell_type": "code",
   "execution_count": 1,
   "metadata": {
    "scrolled": true
   },
   "outputs": [
    {
     "name": "stdout",
     "output_type": "stream",
     "text": [
      "/home/ubuntu/paperswithcode/paper-extractor\n"
     ]
    }
   ],
   "source": [
    "%cd ~/paperswithcode/paper-extractor"
   ]
  },
  {
   "cell_type": "code",
   "execution_count": 2,
   "metadata": {},
   "outputs": [],
   "source": [
    "import pandas as pd, numpy as np\n",
    "from pathlib import Path\n",
    "import pickle\n",
    "\n",
    "DATA_PATH = Path(\"notebooks/shared-notebooks/arxiv-class\")\n",
    "TRAIN_PATH = DATA_PATH / \"arxiv-tag-classifier-data.json\"\n",
    "TEST_PATH = DATA_PATH / \"classifier.tsv\""
   ]
  },
  {
   "cell_type": "code",
   "execution_count": 3,
   "metadata": {},
   "outputs": [],
   "source": [
    "test_df = pd.read_pickle(DATA_PATH / \"test_df.pkl.gz\")\n",
    "test = pd.read_csv(TEST_PATH, sep=\"\\t\", header=None, names=[\"arxiv_id\", \"tags\", \"output\"])"
   ]
  },
  {
   "cell_type": "code",
   "execution_count": 4,
   "metadata": {},
   "outputs": [],
   "source": [
    "# keep only test papers for which we have abstracts\n",
    "\n",
    "import re\n",
    "aidv_re = re.compile(\"(v\\d+)?$\")\n",
    "test[\"no_version\"] = test.arxiv_id.str.replace(aidv_re, \"\")\n",
    "test = test.drop_duplicates([\"no_version\"])\n",
    "\n",
    "test_df = test_df[test_df.arxiv_id.isin(test.no_version)]\n",
    "test_df = test_df.drop_duplicates([\"arxiv_id\"])\n",
    "\n",
    "test = test[test.no_version.isin(test_df.arxiv_id)]\n",
    "\n",
    "test = test.sort_values(\"no_version\")\n",
    "test_df = test_df.sort_values(\"arxiv_id\")"
   ]
  },
  {
   "cell_type": "code",
   "execution_count": 6,
   "metadata": {},
   "outputs": [],
   "source": [
    "from fastai.text import *\n",
    "\n",
    "BASE_DIR = Path(\"./models/ulmfit_baseline\")\n",
    "VOCAB_PATH = BASE_DIR / \"data_lm_export_vocab.pkl\"\n",
    "MODELS_PATH = DATA_PATH / \"models\"\n",
    "\n",
    "processor = SPProcessor(sp_model=BASE_DIR / \"tmp\" / \"spm.model\", sp_vocab=BASE_DIR / \"tmp\" / \"spm.vocab\", n_cpus=4, mark_fields=True)\n",
    "vocab = Vocab.load(VOCAB_PATH)\n"
   ]
  },
  {
   "cell_type": "code",
   "execution_count": 26,
   "metadata": {},
   "outputs": [],
   "source": [
    "data_clas = load_data(MODELS_PATH, \"data_clas_abs.pkl\")"
   ]
  },
  {
   "cell_type": "code",
   "execution_count": 7,
   "metadata": {},
   "outputs": [],
   "source": [
    "lin_ftrs = [len(data_clas.valid_dl.y.classes) * 2] # 352\n",
    "learn = text_classifier_learner(data_clas, AWD_LSTM, lin_ftrs=lin_ftrs)"
   ]
  },
  {
   "cell_type": "code",
   "execution_count": 8,
   "metadata": {
    "scrolled": true
   },
   "outputs": [],
   "source": [
    "learn.load(\"arxiv_large_class_sp30k_1_1_ft_1_1_6_abstracts.pkl\");"
   ]
  },
  {
   "cell_type": "code",
   "execution_count": 9,
   "metadata": {},
   "outputs": [],
   "source": [
    "text_cols = [\"title\", \"abstract\"]\n",
    "test_tl = TextList.from_df(test_df, MODELS_PATH, cols=text_cols, processor=processor)\n",
    "\n",
    "learn.data.add_test(test_tl)"
   ]
  },
  {
   "cell_type": "markdown",
   "metadata": {},
   "source": [
    "## Get predictions"
   ]
  },
  {
   "cell_type": "code",
   "execution_count": 7,
   "metadata": {},
   "outputs": [],
   "source": [
    "def dump_test_preds(preds, classes, name, desc, info=None):\n",
    "    with (DATA_PATH / \"preds\" / \"test\" / f\"{name}.pkl\").open(\"wb\") as f:\n",
    "        pickle.dump((preds, classes, name, desc, info), f)\n",
    "\n",
    "def load_test_preds(name):\n",
    "    with (DATA_PATH / \"preds\" / \"test\" / f\"{name}.pkl\").open(\"rb\") as f:\n",
    "        preds, classes, name, desc, info = pickle.load(f)\n",
    "    return preds, classes, name, desc, info"
   ]
  },
  {
   "cell_type": "code",
   "execution_count": 8,
   "metadata": {},
   "outputs": [],
   "source": [
    "def get_test_stats(test_preds, test_labels, threshold=0.5):\n",
    "    y_true = test_labels\n",
    "    if threshold <= 1.0:\n",
    "        y_pred = test_preds.cpu().numpy() > threshold\n",
    "    else:\n",
    "        idx = test_preds.cpu().argmax(1, keepdim=True)\n",
    "        one_hot = torch.FloatTensor(probs.shape)\n",
    "        y_pred = test_preds.cpu().numpy().argmax()\n",
    "    return precision_score(y_true, y_pred, average='micro'), recall_score(y_true, y_pred, average='micro')"
   ]
  },
  {
   "cell_type": "code",
   "execution_count": 23,
   "metadata": {},
   "outputs": [],
   "source": [
    "from sklearn.metrics import multilabel_confusion_matrix, precision_score, recall_score, f1_score\n",
    "import json\n",
    "\n",
    "def get_cm(preds, threshold=0.5):\n",
    "    y_true = preds[1].cpu().numpy() > 0.5\n",
    "    y_pred = preds[0].cpu().numpy() > threshold\n",
    "    return multilabel_confusion_matrix(y_true, y_pred)\n",
    "\n",
    "def get_test_stats(test_preds, test_labels, threshold=0.5):\n",
    "    y_true = test_labels\n",
    "    if isinstance(threshold, str) and threshold.startswith(\"top-\"):\n",
    "        topk = int(threshold[4:])\n",
    "        indices = test_preds.cpu().topk(topk, dim=1)[1]\n",
    "        y_pred = torch.zeros_like(test_preds)\n",
    "        y_pred.scatter_(1, indices, 1)\n",
    "    else:\n",
    "        y_pred = test_preds.cpu().numpy() > threshold\n",
    "\n",
    "    stats = {}\n",
    "    stats['micro p'] = precision_score(y_true, y_pred, average='micro')\n",
    "    stats['micro r'] = recall_score(y_true, y_pred, average='micro')\n",
    "    stats['micro f1'] = f1_score(y_true, y_pred, average='micro')\n",
    "    stats['macro p'] = precision_score(y_true, y_pred, average='macro')\n",
    "    stats['macro r'] = recall_score(y_true, y_pred, average='macro')\n",
    "    stats['macro f1'] = f1_score(y_true, y_pred, average='macro')\n",
    "    cm = multilabel_confusion_matrix(y_true, y_pred)\n",
    "    return stats, cm\n",
    "    \n",
    "def get_test_labels(test_df, c2i):\n",
    "    out = np.zeros((len(test_df), len(c2i)), dtype=np.int8)\n",
    "    for i, (_, row) in enumerate(test_df.iterrows()):\n",
    "        for x in row.categories.split(' '):\n",
    "            out[i, c2i[x]] = 1\n",
    "    return out\n",
    "\n",
    "def sigmoid(x):\n",
    "    return 1.0 / (1.0 + np.exp(-x))\n",
    "\n",
    "def get_current_arxiv_preds(test, c2i):\n",
    "    out = np.zeros((len(test), len(c2i)), dtype=np.float)\n",
    "    for i, (_, row) in enumerate(test.iterrows()):\n",
    "        for x in json.loads(row.output)['classifier']:\n",
    "            category = x['category']\n",
    "            pred = sigmoid(float(x['logodds']))\n",
    "            out[i, c2i[category]] = pred\n",
    "    return torch.FloatTensor(out)"
   ]
  },
  {
   "cell_type": "code",
   "execution_count": 13,
   "metadata": {},
   "outputs": [],
   "source": [
    "test_preds, _ = learn.get_preds(DatasetType.Test, ordered=True)"
   ]
  },
  {
   "cell_type": "code",
   "execution_count": 14,
   "metadata": {},
   "outputs": [],
   "source": [
    "current_arxiv_preds = get_current_arxiv_preds(test, data_clas.valid_ds.y.c2i)"
   ]
  },
  {
   "cell_type": "code",
   "execution_count": 27,
   "metadata": {},
   "outputs": [],
   "source": [
    "test_labels = get_test_labels(test_df, data_clas.valid_ds.y.c2i)"
   ]
  },
  {
   "cell_type": "code",
   "execution_count": 13,
   "metadata": {},
   "outputs": [],
   "source": [
    "mixes = {\n",
    "    'avg': lambda a,b: (a+b)/2,\n",
    "    'max': lambda a,b: torch.max(a, b),\n",
    "    'geom': lambda a,b: (a * b).sqrt(),\n",
    "    'min': lambda a,b: torch.min(a,b),\n",
    "    'l2': lambda a,b: (a*a+b*b).sqrt(),\n",
    "}"
   ]
  },
  {
   "cell_type": "code",
   "execution_count": 76,
   "metadata": {},
   "outputs": [
    {
     "data": {
      "text/html": [
       "<div>\n",
       "<style scoped>\n",
       "    .dataframe tbody tr th:only-of-type {\n",
       "        vertical-align: middle;\n",
       "    }\n",
       "\n",
       "    .dataframe tbody tr th {\n",
       "        vertical-align: top;\n",
       "    }\n",
       "\n",
       "    .dataframe thead th {\n",
       "        text-align: right;\n",
       "    }\n",
       "</style>\n",
       "<table border=\"1\" class=\"dataframe\">\n",
       "  <thead>\n",
       "    <tr style=\"text-align: right;\">\n",
       "      <th></th>\n",
       "      <th>arxiv_id</th>\n",
       "      <th>tags</th>\n",
       "      <th>output</th>\n",
       "      <th>no_version</th>\n",
       "    </tr>\n",
       "  </thead>\n",
       "  <tbody>\n",
       "    <tr>\n",
       "      <th>4625</th>\n",
       "      <td>math/0306214v2</td>\n",
       "      <td>math.DS math-ph math.MG math.MP</td>\n",
       "      <td>{\"flags\":{},\"classifier\":[{\"topwords\":[{\"recur...</td>\n",
       "      <td>math/0306214</td>\n",
       "    </tr>\n",
       "    <tr>\n",
       "      <th>92</th>\n",
       "      <td>math/0603190v5</td>\n",
       "      <td>math.DG gr-qc math-ph math.MP</td>\n",
       "      <td>{\"flags\":{},\"classifier\":[{\"topwords\":[{\"loren...</td>\n",
       "      <td>math/0603190</td>\n",
       "    </tr>\n",
       "    <tr>\n",
       "      <th>6684</th>\n",
       "      <td>math/0609574v2</td>\n",
       "      <td>math.CO</td>\n",
       "      <td>{\"flags\":{},\"classifier\":[{\"topwords\":[{\"graph...</td>\n",
       "      <td>math/0609574</td>\n",
       "    </tr>\n",
       "    <tr>\n",
       "      <th>1984</th>\n",
       "      <td>math/0702601v4</td>\n",
       "      <td>math.MG math.CO</td>\n",
       "      <td>{\"flags\":{},\"classifier\":[{\"topwords\":[{\"noneu...</td>\n",
       "      <td>math/0702601</td>\n",
       "    </tr>\n",
       "    <tr>\n",
       "      <th>7061</th>\n",
       "      <td>quant-ph/0701168v3</td>\n",
       "      <td>quant-ph cs.CR cs.IT math.IT</td>\n",
       "      <td>{\"flags\":{},\"classifier\":[{\"topwords\":[{\"secur...</td>\n",
       "      <td>quant-ph/0701168</td>\n",
       "    </tr>\n",
       "  </tbody>\n",
       "</table>\n",
       "</div>"
      ],
      "text/plain": [
       "                arxiv_id                             tags  \\\n",
       "4625      math/0306214v2  math.DS math-ph math.MG math.MP   \n",
       "92        math/0603190v5    math.DG gr-qc math-ph math.MP   \n",
       "6684      math/0609574v2                          math.CO   \n",
       "1984      math/0702601v4                  math.MG math.CO   \n",
       "7061  quant-ph/0701168v3     quant-ph cs.CR cs.IT math.IT   \n",
       "\n",
       "                                                 output        no_version  \n",
       "4625  {\"flags\":{},\"classifier\":[{\"topwords\":[{\"recur...      math/0306214  \n",
       "92    {\"flags\":{},\"classifier\":[{\"topwords\":[{\"loren...      math/0603190  \n",
       "6684  {\"flags\":{},\"classifier\":[{\"topwords\":[{\"graph...      math/0609574  \n",
       "1984  {\"flags\":{},\"classifier\":[{\"topwords\":[{\"noneu...      math/0702601  \n",
       "7061  {\"flags\":{},\"classifier\":[{\"topwords\":[{\"secur...  quant-ph/0701168  "
      ]
     },
     "execution_count": 76,
     "metadata": {},
     "output_type": "execute_result"
    }
   ],
   "source": [
    "test.tail()"
   ]
  },
  {
   "cell_type": "code",
   "execution_count": 78,
   "metadata": {},
   "outputs": [
    {
     "data": {
      "text/plain": [
       "9774"
      ]
     },
     "execution_count": 78,
     "metadata": {},
     "output_type": "execute_result"
    }
   ],
   "source": [
    "len(test)"
   ]
  },
  {
   "cell_type": "code",
   "execution_count": 96,
   "metadata": {},
   "outputs": [
    {
     "name": "stdout",
     "output_type": "stream",
     "text": [
      "math-ph, math.DS, math.MG, math.MP\n",
      "gr-qc, math-ph, math.DG, math.MP\n",
      "math.CO\n",
      "math.CO, math.MG\n",
      "cs.CR, cs.IT, math.IT, quant-ph\n"
     ]
    }
   ],
   "source": [
    "for row in test_labels[-5:]:\n",
    "    tags = [data_clas.valid_ds.y.classes[i] for i, p in enumerate(row) if p > 0.125]\n",
    "    print(', '.join(tags))"
   ]
  },
  {
   "cell_type": "code",
   "execution_count": 150,
   "metadata": {},
   "outputs": [
    {
     "name": "stdout",
     "output_type": "stream",
     "text": [
      "math.DS, math.MG, math.GT, math-ph, math.MP\n",
      "gr-qc, math.DG, math-ph, math.MP, hep-th\n",
      "math.CO, cs.DM, math.AC, math.MG, math.AT\n",
      "math.MG, math.CO, math.DG, math.GT, math.CA\n",
      "quant-ph, cs.CR, cs.IT, math.IT, cs.NI\n"
     ]
    }
   ],
   "source": [
    "# 0.218\n",
    "for row in all_preds['ulmfit']['preds'][-5:]:\n",
    "    tags = [(data_clas.valid_ds.y.classes[i],p) for i, p in enumerate(row) if p > 0.0]\n",
    "    tags = sorted(tags, key=lambda x: -x[1])[0:5]\n",
    "    print(', '.join([t[0] for t in tags]))"
   ]
  },
  {
   "cell_type": "code",
   "execution_count": 140,
   "metadata": {
    "scrolled": true
   },
   "outputs": [
    {
     "data": {
      "text/plain": [
       "[['math-ph', 'math.DS', 'math.GT', 'math.MG', 'math.MP'],\n",
       " ['gr-qc',\n",
       "  'hep-th',\n",
       "  'math-ph',\n",
       "  'math.DG',\n",
       "  'math.GT',\n",
       "  'math.MG',\n",
       "  'math.MP',\n",
       "  'physics.gen-ph'],\n",
       " ['cs.DM', 'math.CO'],\n",
       " ['cs.CG',\n",
       "  'math.AG',\n",
       "  'math.AT',\n",
       "  'math.CA',\n",
       "  'math.CO',\n",
       "  'math.CV',\n",
       "  'math.DG',\n",
       "  'math.FA',\n",
       "  'math.GR',\n",
       "  'math.GT',\n",
       "  'math.MG'],\n",
       " ['cs.CR', 'cs.IT', 'math.IT', 'quant-ph']]"
      ]
     },
     "execution_count": 140,
     "metadata": {},
     "output_type": "execute_result"
    }
   ],
   "source": [
    "[[data_clas.valid_ds.y.classes[i] for i, p in enumerate(row) if p > 0.0169] for row in all_preds['ulmfit']['preds'][-5:]]"
   ]
  },
  {
   "cell_type": "code",
   "execution_count": 151,
   "metadata": {},
   "outputs": [
    {
     "data": {
      "text/plain": [
       "(0.6, 1.0)"
      ]
     },
     "execution_count": 151,
     "metadata": {},
     "output_type": "execute_result"
    }
   ],
   "source": [
    "x = get_test_stats(all_preds['ulmfit']['preds'][-5:], test_labels[-5:], \"top-5\")[0]\n",
    "x['micro p'], x['micro r']"
   ]
  },
  {
   "cell_type": "code",
   "execution_count": 83,
   "metadata": {},
   "outputs": [
    {
     "data": {
      "text/plain": [
       "tensor([[False, False, False, False, False, False, False, False, False, False,\n",
       "         False, False, False, False, False, False, False, False, False, False,\n",
       "         False, False, False, False, False, False, False, False, False, False,\n",
       "         False, False, False, False, False, False, False, False, False, False,\n",
       "         False, False, False, False, False, False, False, False, False, False,\n",
       "         False, False, False, False, False, False, False, False, False, False,\n",
       "         False, False, False, False, False, False, False, False, False, False,\n",
       "         False, False, False, False, False, False, False, False, False, False,\n",
       "         False, False, False, False, False, False, False, False, False, False,\n",
       "         False,  True, False, False, False, False, False, False, False, False,\n",
       "         False, False, False, False, False, False, False, False, False, False,\n",
       "         False, False, False, False, False, False, False, False, False, False,\n",
       "         False, False, False, False, False, False, False, False, False, False,\n",
       "         False, False, False, False, False, False, False, False, False, False,\n",
       "         False, False, False, False, False, False, False, False, False, False,\n",
       "         False, False, False, False, False, False, False, False, False, False,\n",
       "         False, False, False, False, False, False, False, False, False, False,\n",
       "         False, False, False, False, False, False],\n",
       "        [False, False, False, False, False, False, False, False, False, False,\n",
       "         False, False, False, False, False, False, False, False, False, False,\n",
       "         False, False, False, False, False, False, False, False, False, False,\n",
       "         False, False, False, False, False, False, False, False, False, False,\n",
       "         False, False, False, False, False, False, False, False, False, False,\n",
       "         False, False, False, False, False, False, False, False, False, False,\n",
       "         False, False, False, False, False, False, False, False, False, False,\n",
       "         False, False, False, False, False, False,  True, False, False, False,\n",
       "         False, False, False, False, False, False, False, False, False, False,\n",
       "         False, False, False, False, False, False, False, False, False, False,\n",
       "         False, False, False, False, False, False, False, False, False, False,\n",
       "         False, False, False, False, False, False, False, False, False, False,\n",
       "         False, False, False, False, False, False, False, False, False, False,\n",
       "         False, False, False, False, False, False, False, False, False, False,\n",
       "         False, False, False, False, False, False, False, False, False, False,\n",
       "         False, False, False, False, False, False, False, False, False, False,\n",
       "         False, False, False, False, False, False, False, False, False, False,\n",
       "         False, False, False, False, False, False],\n",
       "        [False, False, False, False, False, False, False, False, False, False,\n",
       "         False, False, False, False, False, False, False, False, False, False,\n",
       "         False, False, False, False, False, False, False, False, False, False,\n",
       "         False, False, False, False, False, False, False, False, False, False,\n",
       "         False, False, False, False, False, False, False, False, False, False,\n",
       "         False, False, False, False, False, False, False, False, False, False,\n",
       "         False, False, False, False, False, False, False, False, False, False,\n",
       "         False, False, False, False, False, False, False, False, False, False,\n",
       "         False, False, False, False, False, False, False,  True, False, False,\n",
       "         False, False, False, False, False, False, False, False, False, False,\n",
       "         False, False, False, False, False, False, False, False, False, False,\n",
       "         False, False, False, False, False, False, False, False, False, False,\n",
       "         False, False, False, False, False, False, False, False, False, False,\n",
       "         False, False, False, False, False, False, False, False, False, False,\n",
       "         False, False, False, False, False, False, False, False, False, False,\n",
       "         False, False, False, False, False, False, False, False, False, False,\n",
       "         False, False, False, False, False, False, False, False, False, False,\n",
       "         False, False, False, False, False, False],\n",
       "        [False, False, False, False, False, False, False, False, False, False,\n",
       "         False, False, False, False, False, False, False, False, False, False,\n",
       "         False, False, False, False, False, False, False, False, False, False,\n",
       "         False, False, False, False, False, False, False, False, False, False,\n",
       "         False, False, False, False, False, False, False, False, False, False,\n",
       "         False, False, False, False, False, False, False, False, False, False,\n",
       "         False, False, False, False, False, False, False, False, False, False,\n",
       "         False, False, False, False, False, False, False, False, False, False,\n",
       "         False, False, False, False, False, False, False, False, False, False,\n",
       "         False, False, False, False, False, False, False, False, False, False,\n",
       "         False,  True, False, False, False, False, False, False, False, False,\n",
       "         False, False, False, False, False, False, False, False, False, False,\n",
       "         False, False, False, False, False, False, False, False, False, False,\n",
       "         False, False, False, False, False, False, False, False, False, False,\n",
       "         False, False, False, False, False, False, False, False, False, False,\n",
       "         False, False, False, False, False, False, False, False, False, False,\n",
       "         False, False, False, False, False, False, False, False, False, False,\n",
       "         False, False, False, False, False, False],\n",
       "        [False, False, False, False, False, False, False, False, False, False,\n",
       "         False, False, False, False, False, False, False, False, False, False,\n",
       "         False, False, False, False, False, False, False, False, False, False,\n",
       "         False, False, False,  True, False, False, False, False, False, False,\n",
       "         False, False, False, False, False, False, False, False, False, False,\n",
       "         False, False, False, False, False, False, False, False, False, False,\n",
       "         False, False, False, False, False, False, False, False, False, False,\n",
       "         False, False, False, False, False, False, False, False, False, False,\n",
       "         False, False, False, False, False, False, False, False, False, False,\n",
       "         False, False, False, False, False, False, False, False, False, False,\n",
       "         False, False, False, False, False, False, False, False, False, False,\n",
       "         False, False, False, False, False, False, False, False, False, False,\n",
       "         False, False, False, False, False, False, False, False, False, False,\n",
       "         False, False, False, False, False, False, False, False, False, False,\n",
       "         False, False, False, False, False, False, False, False, False, False,\n",
       "         False, False, False, False, False, False, False, False, False, False,\n",
       "         False, False, False, False, False, False, False,  True, False, False,\n",
       "         False, False, False, False, False, False]])"
      ]
     },
     "execution_count": 83,
     "metadata": {},
     "output_type": "execute_result"
    }
   ],
   "source": [
    "all_preds['ulmfit']['preds'][-5:] > 0.5"
   ]
  },
  {
   "cell_type": "code",
   "execution_count": 74,
   "metadata": {},
   "outputs": [
    {
     "data": {
      "text/plain": [
       "array([[0, 0, 0, 0, ..., 0, 0, 0, 0],\n",
       "       [0, 0, 0, 0, ..., 0, 0, 0, 0],\n",
       "       [0, 0, 0, 0, ..., 0, 0, 0, 0],\n",
       "       [0, 0, 0, 0, ..., 0, 0, 0, 0],\n",
       "       ...,\n",
       "       [0, 0, 0, 0, ..., 0, 0, 0, 0],\n",
       "       [0, 0, 0, 0, ..., 0, 0, 0, 0],\n",
       "       [0, 0, 0, 0, ..., 0, 0, 0, 0],\n",
       "       [0, 0, 0, 0, ..., 0, 0, 0, 0]], dtype=int8)"
      ]
     },
     "execution_count": 74,
     "metadata": {},
     "output_type": "execute_result"
    }
   ],
   "source": [
    "test_labels"
   ]
  },
  {
   "cell_type": "code",
   "execution_count": 17,
   "metadata": {},
   "outputs": [
    {
     "data": {
      "text/plain": [
       "array([0.01    , 0.030204, 0.050408, 0.070612, 0.090816, 0.11102 , 0.131224, 0.151429, 0.171633, 0.191837, 0.212041,\n",
       "       0.232245, 0.252449, 0.272653, 0.292857, 0.313061, 0.333265, 0.353469, 0.373673, 0.393878, 0.414082, 0.434286,\n",
       "       0.45449 , 0.474694, 0.494898, 0.515102, 0.535306, 0.55551 , 0.575714, 0.595918, 0.616122, 0.636327, 0.656531,\n",
       "       0.676735, 0.696939, 0.717143, 0.737347, 0.757551, 0.777755, 0.797959, 0.818163, 0.838367, 0.858571, 0.878776,\n",
       "       0.89898 , 0.919184, 0.939388, 0.959592, 0.979796, 1.      ])"
      ]
     },
     "execution_count": 17,
     "metadata": {},
     "output_type": "execute_result"
    }
   ],
   "source": [
    "np.linspace(0.01, 1.0)"
   ]
  },
  {
   "cell_type": "code",
   "execution_count": 15,
   "metadata": {},
   "outputs": [],
   "source": [
    "learn2 = text_classifier_learner(data_clas, AWD_LSTM)\n",
    "learn2.load(\"arxiv_class_sp30k_1_1_6_abstracts.pkl\");\n",
    "notune_test_preds, _ = learn2.get_preds(DatasetType.Test, ordered=True)"
   ]
  },
  {
   "cell_type": "code",
   "execution_count": 16,
   "metadata": {},
   "outputs": [],
   "source": [
    "learn3 = text_classifier_learner(data_clas, AWD_LSTM, lin_ftrs=lin_ftrs)\n",
    "learn3.load(\"arxiv_large_class_sp30k_1_1_ft_1_1_6_pos_weight_1_abstracts.pkl\");\n",
    "pw_test_preds, _ = learn3.get_preds(DatasetType.Test, ordered=True)"
   ]
  },
  {
   "cell_type": "code",
   "execution_count": 28,
   "metadata": {},
   "outputs": [],
   "source": [
    "dump_test_preds(test_preds, data_clas.valid_ds.y.classes, \"ulmfit\",\n",
    "               \"\"\"predictions of 'arxiv_large_class_sp30k_1_1_ft_1_1_6_abstracts.pkl'\"\"\",\n",
    "               info={'model': \"arxiv_large_class_sp30k_1_1_ft_1_1_6_abstracts.pkl\"})\n",
    "\n",
    "dump_test_preds(notune_test_preds, data_clas.valid_ds.y.classes, \"ulmfit-noft\",\n",
    "               \"\"\"predictions of 'arxiv_class_sp30k_1_1_6_abstracts.pkl'\"\"\",\n",
    "               info={'model': \"arxiv_class_sp30k_1_1_6_abstracts.pkl\"})\n",
    "\n",
    "dump_test_preds(pw_test_preds, data_clas.valid_ds.y.classes, \"ulmfit-pw\",\n",
    "               \"\"\"predictions of 'arxiv_large_class_sp30k_1_1_ft_1_1_6_pos_weight_1_abstracts.pkl'\"\"\",\n",
    "               info={'model': \"arxiv_large_class_sp30k_1_1_ft_1_1_6_pos_weight_1_abstracts.pkl\"})\n",
    "\n",
    "dump_test_preds(current_arxiv_preds, data_clas.valid_ds.y.classes, \"arxiv\",\n",
    "               \"\"\"predictions of arxiv classifier\"\"\")"
   ]
  },
  {
   "cell_type": "code",
   "execution_count": 10,
   "metadata": {},
   "outputs": [],
   "source": [
    "def get_preds(path):\n",
    "    classes = None\n",
    "    all_preds = {}\n",
    "    for preds_file in sorted(Path(path).glob(\"*.pkl\")):\n",
    "        print(preds_file)\n",
    "        preds, clss, name, desc, info = load_test_preds(preds_file.stem)\n",
    "        if classes is not None and classes != clss:\n",
    "            print(f\"[ERROR] {preds_file} has different classes\")\n",
    "        classes = clss\n",
    "        all_preds[name] = dict(\n",
    "            preds=preds,\n",
    "            name=name,\n",
    "            desc=desc\n",
    "        )\n",
    "    return all_preds"
   ]
  },
  {
   "cell_type": "code",
   "execution_count": 11,
   "metadata": {},
   "outputs": [
    {
     "name": "stdout",
     "output_type": "stream",
     "text": [
      "notebooks/shared-notebooks/arxiv-class/preds/test/arxiv.pkl\n",
      "notebooks/shared-notebooks/arxiv-class/preds/test/nbsvm.pkl\n",
      "notebooks/shared-notebooks/arxiv-class/preds/test/ulmfit-noft.pkl\n",
      "notebooks/shared-notebooks/arxiv-class/preds/test/ulmfit-pw.pkl\n",
      "notebooks/shared-notebooks/arxiv-class/preds/test/ulmfit.pkl\n"
     ]
    }
   ],
   "source": [
    "all_preds = get_preds(DATA_PATH / \"preds\" / \"test\")"
   ]
  },
  {
   "cell_type": "code",
   "execution_count": 14,
   "metadata": {},
   "outputs": [],
   "source": [
    "all_preds['l2'] = dict(\n",
    "    preds=mixes['l2'](all_preds['ulmfit']['preds'], all_preds['arxiv']['preds']),\n",
    "    name='l2'\n",
    ")"
   ]
  },
  {
   "cell_type": "code",
   "execution_count": 72,
   "metadata": {},
   "outputs": [],
   "source": [
    "test_stats_all_176 = test_stats_all"
   ]
  },
  {
   "cell_type": "code",
   "execution_count": 46,
   "metadata": {},
   "outputs": [],
   "source": [
    "test_stats_all = []\n",
    "# for threshold in [0.125, 0.25, 0.5, 0.75, 0.95, \"top-1\"]:\n",
    "for threshold in list(np.linspace(0.01, 1.0)) + [\"top-1\", \"top-5\"]: #, \"top-2\", \"top-3\", \"top-4\", \"top-5\"]:\n",
    "    for p in all_preds.values():\n",
    "        preds = torch.FloatTensor(p['preds'])\n",
    "        test_stats, test_cm = get_test_stats(preds[:, indices15], test_labels[:, indices15], threshold)\n",
    "        test_stats['threshold'] = threshold\n",
    "        test_stats['classifier'] = p['name']\n",
    "        test_stats_all.append(test_stats)\n",
    "    \n",
    "#     for n, f in mixes.items():\n",
    "#         mixed_preds = f(test_preds, current_arxiv_preds)\n",
    "#         test_stats, test_cm = get_test_stats(mixed_preds, test_labels, threshold)\n",
    "#         test_stats['threshold'] = threshold\n",
    "#         test_stats['classifier'] = n\n",
    "#         test_stats_all.append(test_stats)"
   ]
  },
  {
   "cell_type": "code",
   "execution_count": 33,
   "metadata": {},
   "outputs": [],
   "source": [
    "indices15 = np.array([data_clas.valid_ds.y.c2i[c] for c in classes15])"
   ]
  },
  {
   "cell_type": "code",
   "execution_count": 47,
   "metadata": {},
   "outputs": [],
   "source": [
    "stats_df = pd.DataFrame(test_stats_all)"
   ]
  },
  {
   "cell_type": "code",
   "execution_count": 41,
   "metadata": {},
   "outputs": [
    {
     "data": {
      "text/html": [
       "<style  type=\"text/css\" >\n",
       "    #T_e664aa5c_8249_11ea_adf2_2b8d7f92d289row2_col1 {\n",
       "            background-color:  yellow;\n",
       "        }    #T_e664aa5c_8249_11ea_adf2_2b8d7f92d289row2_col4 {\n",
       "            background-color:  yellow;\n",
       "        }    #T_e664aa5c_8249_11ea_adf2_2b8d7f92d289row3_col5 {\n",
       "            background-color:  yellow;\n",
       "        }    #T_e664aa5c_8249_11ea_adf2_2b8d7f92d289row8_col2 {\n",
       "            background-color:  yellow;\n",
       "        }    #T_e664aa5c_8249_11ea_adf2_2b8d7f92d289row13_col0 {\n",
       "            background-color:  yellow;\n",
       "        }    #T_e664aa5c_8249_11ea_adf2_2b8d7f92d289row14_col0 {\n",
       "            background-color:  yellow;\n",
       "        }    #T_e664aa5c_8249_11ea_adf2_2b8d7f92d289row16_col3 {\n",
       "            background-color:  yellow;\n",
       "        }</style><table id=\"T_e664aa5c_8249_11ea_adf2_2b8d7f92d289\" ><thead>    <tr>        <th class=\"blank level0\" ></th>        <th class=\"col_heading level0 col0\" >micro p</th>        <th class=\"col_heading level0 col1\" >micro r</th>        <th class=\"col_heading level0 col2\" >micro f1</th>        <th class=\"col_heading level0 col3\" >macro p</th>        <th class=\"col_heading level0 col4\" >macro r</th>        <th class=\"col_heading level0 col5\" >macro f1</th>        <th class=\"col_heading level0 col6\" >threshold</th>        <th class=\"col_heading level0 col7\" >classifier</th>    </tr></thead><tbody>\n",
       "                <tr>\n",
       "                        <th id=\"T_e664aa5c_8249_11ea_adf2_2b8d7f92d289level0_row0\" class=\"row_heading level0 row0\" >0</th>\n",
       "                        <td id=\"T_e664aa5c_8249_11ea_adf2_2b8d7f92d289row0_col0\" class=\"data row0 col0\" >0.499261</td>\n",
       "                        <td id=\"T_e664aa5c_8249_11ea_adf2_2b8d7f92d289row0_col1\" class=\"data row0 col1\" >0.820753</td>\n",
       "                        <td id=\"T_e664aa5c_8249_11ea_adf2_2b8d7f92d289row0_col2\" class=\"data row0 col2\" >0.620857</td>\n",
       "                        <td id=\"T_e664aa5c_8249_11ea_adf2_2b8d7f92d289row0_col3\" class=\"data row0 col3\" >0.389576</td>\n",
       "                        <td id=\"T_e664aa5c_8249_11ea_adf2_2b8d7f92d289row0_col4\" class=\"data row0 col4\" >0.607926</td>\n",
       "                        <td id=\"T_e664aa5c_8249_11ea_adf2_2b8d7f92d289row0_col5\" class=\"data row0 col5\" >0.463603</td>\n",
       "                        <td id=\"T_e664aa5c_8249_11ea_adf2_2b8d7f92d289row0_col6\" class=\"data row0 col6\" >0.125</td>\n",
       "                        <td id=\"T_e664aa5c_8249_11ea_adf2_2b8d7f92d289row0_col7\" class=\"data row0 col7\" >ulmfit</td>\n",
       "            </tr>\n",
       "            <tr>\n",
       "                        <th id=\"T_e664aa5c_8249_11ea_adf2_2b8d7f92d289level0_row1\" class=\"row_heading level0 row1\" >1</th>\n",
       "                        <td id=\"T_e664aa5c_8249_11ea_adf2_2b8d7f92d289row1_col0\" class=\"data row1 col0\" >0.275219</td>\n",
       "                        <td id=\"T_e664aa5c_8249_11ea_adf2_2b8d7f92d289row1_col1\" class=\"data row1 col1\" >0.837</td>\n",
       "                        <td id=\"T_e664aa5c_8249_11ea_adf2_2b8d7f92d289row1_col2\" class=\"data row1 col2\" >0.414232</td>\n",
       "                        <td id=\"T_e664aa5c_8249_11ea_adf2_2b8d7f92d289row1_col3\" class=\"data row1 col3\" >0.208787</td>\n",
       "                        <td id=\"T_e664aa5c_8249_11ea_adf2_2b8d7f92d289row1_col4\" class=\"data row1 col4\" >0.675549</td>\n",
       "                        <td id=\"T_e664aa5c_8249_11ea_adf2_2b8d7f92d289row1_col5\" class=\"data row1 col5\" >0.303395</td>\n",
       "                        <td id=\"T_e664aa5c_8249_11ea_adf2_2b8d7f92d289row1_col6\" class=\"data row1 col6\" >0.125</td>\n",
       "                        <td id=\"T_e664aa5c_8249_11ea_adf2_2b8d7f92d289row1_col7\" class=\"data row1 col7\" >arxiv</td>\n",
       "            </tr>\n",
       "            <tr>\n",
       "                        <th id=\"T_e664aa5c_8249_11ea_adf2_2b8d7f92d289level0_row2\" class=\"row_heading level0 row2\" >2</th>\n",
       "                        <td id=\"T_e664aa5c_8249_11ea_adf2_2b8d7f92d289row2_col0\" class=\"data row2 col0\" >0.278332</td>\n",
       "                        <td id=\"T_e664aa5c_8249_11ea_adf2_2b8d7f92d289row2_col1\" class=\"data row2 col1\" >0.897776</td>\n",
       "                        <td id=\"T_e664aa5c_8249_11ea_adf2_2b8d7f92d289row2_col2\" class=\"data row2 col2\" >0.424927</td>\n",
       "                        <td id=\"T_e664aa5c_8249_11ea_adf2_2b8d7f92d289row2_col3\" class=\"data row2 col3\" >0.219682</td>\n",
       "                        <td id=\"T_e664aa5c_8249_11ea_adf2_2b8d7f92d289row2_col4\" class=\"data row2 col4\" >0.71832</td>\n",
       "                        <td id=\"T_e664aa5c_8249_11ea_adf2_2b8d7f92d289row2_col5\" class=\"data row2 col5\" >0.319131</td>\n",
       "                        <td id=\"T_e664aa5c_8249_11ea_adf2_2b8d7f92d289row2_col6\" class=\"data row2 col6\" >0.125</td>\n",
       "                        <td id=\"T_e664aa5c_8249_11ea_adf2_2b8d7f92d289row2_col7\" class=\"data row2 col7\" >mixed</td>\n",
       "            </tr>\n",
       "            <tr>\n",
       "                        <th id=\"T_e664aa5c_8249_11ea_adf2_2b8d7f92d289level0_row3\" class=\"row_heading level0 row3\" >3</th>\n",
       "                        <td id=\"T_e664aa5c_8249_11ea_adf2_2b8d7f92d289row3_col0\" class=\"data row3 col0\" >0.621156</td>\n",
       "                        <td id=\"T_e664aa5c_8249_11ea_adf2_2b8d7f92d289row3_col1\" class=\"data row3 col1\" >0.731871</td>\n",
       "                        <td id=\"T_e664aa5c_8249_11ea_adf2_2b8d7f92d289row3_col2\" class=\"data row3 col2\" >0.671984</td>\n",
       "                        <td id=\"T_e664aa5c_8249_11ea_adf2_2b8d7f92d289row3_col3\" class=\"data row3 col3\" >0.477183</td>\n",
       "                        <td id=\"T_e664aa5c_8249_11ea_adf2_2b8d7f92d289row3_col4\" class=\"data row3 col4\" >0.500993</td>\n",
       "                        <td id=\"T_e664aa5c_8249_11ea_adf2_2b8d7f92d289row3_col5\" class=\"data row3 col5\" >0.474138</td>\n",
       "                        <td id=\"T_e664aa5c_8249_11ea_adf2_2b8d7f92d289row3_col6\" class=\"data row3 col6\" >0.25</td>\n",
       "                        <td id=\"T_e664aa5c_8249_11ea_adf2_2b8d7f92d289row3_col7\" class=\"data row3 col7\" >ulmfit</td>\n",
       "            </tr>\n",
       "            <tr>\n",
       "                        <th id=\"T_e664aa5c_8249_11ea_adf2_2b8d7f92d289level0_row4\" class=\"row_heading level0 row4\" >4</th>\n",
       "                        <td id=\"T_e664aa5c_8249_11ea_adf2_2b8d7f92d289row4_col0\" class=\"data row4 col0\" >0.275219</td>\n",
       "                        <td id=\"T_e664aa5c_8249_11ea_adf2_2b8d7f92d289row4_col1\" class=\"data row4 col1\" >0.837</td>\n",
       "                        <td id=\"T_e664aa5c_8249_11ea_adf2_2b8d7f92d289row4_col2\" class=\"data row4 col2\" >0.414232</td>\n",
       "                        <td id=\"T_e664aa5c_8249_11ea_adf2_2b8d7f92d289row4_col3\" class=\"data row4 col3\" >0.208787</td>\n",
       "                        <td id=\"T_e664aa5c_8249_11ea_adf2_2b8d7f92d289row4_col4\" class=\"data row4 col4\" >0.675549</td>\n",
       "                        <td id=\"T_e664aa5c_8249_11ea_adf2_2b8d7f92d289row4_col5\" class=\"data row4 col5\" >0.303395</td>\n",
       "                        <td id=\"T_e664aa5c_8249_11ea_adf2_2b8d7f92d289row4_col6\" class=\"data row4 col6\" >0.25</td>\n",
       "                        <td id=\"T_e664aa5c_8249_11ea_adf2_2b8d7f92d289row4_col7\" class=\"data row4 col7\" >arxiv</td>\n",
       "            </tr>\n",
       "            <tr>\n",
       "                        <th id=\"T_e664aa5c_8249_11ea_adf2_2b8d7f92d289level0_row5\" class=\"row_heading level0 row5\" >5</th>\n",
       "                        <td id=\"T_e664aa5c_8249_11ea_adf2_2b8d7f92d289row5_col0\" class=\"data row5 col0\" >0.286789</td>\n",
       "                        <td id=\"T_e664aa5c_8249_11ea_adf2_2b8d7f92d289row5_col1\" class=\"data row5 col1\" >0.870382</td>\n",
       "                        <td id=\"T_e664aa5c_8249_11ea_adf2_2b8d7f92d289row5_col2\" class=\"data row5 col2\" >0.431424</td>\n",
       "                        <td id=\"T_e664aa5c_8249_11ea_adf2_2b8d7f92d289row5_col3\" class=\"data row5 col3\" >0.227397</td>\n",
       "                        <td id=\"T_e664aa5c_8249_11ea_adf2_2b8d7f92d289row5_col4\" class=\"data row5 col4\" >0.696979</td>\n",
       "                        <td id=\"T_e664aa5c_8249_11ea_adf2_2b8d7f92d289row5_col5\" class=\"data row5 col5\" >0.322403</td>\n",
       "                        <td id=\"T_e664aa5c_8249_11ea_adf2_2b8d7f92d289row5_col6\" class=\"data row5 col6\" >0.25</td>\n",
       "                        <td id=\"T_e664aa5c_8249_11ea_adf2_2b8d7f92d289row5_col7\" class=\"data row5 col7\" >mixed</td>\n",
       "            </tr>\n",
       "            <tr>\n",
       "                        <th id=\"T_e664aa5c_8249_11ea_adf2_2b8d7f92d289level0_row6\" class=\"row_heading level0 row6\" >6</th>\n",
       "                        <td id=\"T_e664aa5c_8249_11ea_adf2_2b8d7f92d289row6_col0\" class=\"data row6 col0\" >0.760811</td>\n",
       "                        <td id=\"T_e664aa5c_8249_11ea_adf2_2b8d7f92d289row6_col1\" class=\"data row6 col1\" >0.585236</td>\n",
       "                        <td id=\"T_e664aa5c_8249_11ea_adf2_2b8d7f92d289row6_col2\" class=\"data row6 col2\" >0.661572</td>\n",
       "                        <td id=\"T_e664aa5c_8249_11ea_adf2_2b8d7f92d289row6_col3\" class=\"data row6 col3\" >0.57237</td>\n",
       "                        <td id=\"T_e664aa5c_8249_11ea_adf2_2b8d7f92d289row6_col4\" class=\"data row6 col4\" >0.370926</td>\n",
       "                        <td id=\"T_e664aa5c_8249_11ea_adf2_2b8d7f92d289row6_col5\" class=\"data row6 col5\" >0.42532</td>\n",
       "                        <td id=\"T_e664aa5c_8249_11ea_adf2_2b8d7f92d289row6_col6\" class=\"data row6 col6\" >0.5</td>\n",
       "                        <td id=\"T_e664aa5c_8249_11ea_adf2_2b8d7f92d289row6_col7\" class=\"data row6 col7\" >ulmfit</td>\n",
       "            </tr>\n",
       "            <tr>\n",
       "                        <th id=\"T_e664aa5c_8249_11ea_adf2_2b8d7f92d289level0_row7\" class=\"row_heading level0 row7\" >7</th>\n",
       "                        <td id=\"T_e664aa5c_8249_11ea_adf2_2b8d7f92d289row7_col0\" class=\"data row7 col0\" >0.286006</td>\n",
       "                        <td id=\"T_e664aa5c_8249_11ea_adf2_2b8d7f92d289row7_col1\" class=\"data row7 col1\" >0.815061</td>\n",
       "                        <td id=\"T_e664aa5c_8249_11ea_adf2_2b8d7f92d289row7_col2\" class=\"data row7 col2\" >0.423429</td>\n",
       "                        <td id=\"T_e664aa5c_8249_11ea_adf2_2b8d7f92d289row7_col3\" class=\"data row7 col3\" >0.219256</td>\n",
       "                        <td id=\"T_e664aa5c_8249_11ea_adf2_2b8d7f92d289row7_col4\" class=\"data row7 col4\" >0.658933</td>\n",
       "                        <td id=\"T_e664aa5c_8249_11ea_adf2_2b8d7f92d289row7_col5\" class=\"data row7 col5\" >0.310304</td>\n",
       "                        <td id=\"T_e664aa5c_8249_11ea_adf2_2b8d7f92d289row7_col6\" class=\"data row7 col6\" >0.5</td>\n",
       "                        <td id=\"T_e664aa5c_8249_11ea_adf2_2b8d7f92d289row7_col7\" class=\"data row7 col7\" >arxiv</td>\n",
       "            </tr>\n",
       "            <tr>\n",
       "                        <th id=\"T_e664aa5c_8249_11ea_adf2_2b8d7f92d289level0_row8\" class=\"row_heading level0 row8\" >8</th>\n",
       "                        <td id=\"T_e664aa5c_8249_11ea_adf2_2b8d7f92d289row8_col0\" class=\"data row8 col0\" >0.752827</td>\n",
       "                        <td id=\"T_e664aa5c_8249_11ea_adf2_2b8d7f92d289row8_col1\" class=\"data row8 col1\" >0.607886</td>\n",
       "                        <td id=\"T_e664aa5c_8249_11ea_adf2_2b8d7f92d289row8_col2\" class=\"data row8 col2\" >0.672637</td>\n",
       "                        <td id=\"T_e664aa5c_8249_11ea_adf2_2b8d7f92d289row8_col3\" class=\"data row8 col3\" >0.558522</td>\n",
       "                        <td id=\"T_e664aa5c_8249_11ea_adf2_2b8d7f92d289row8_col4\" class=\"data row8 col4\" >0.399716</td>\n",
       "                        <td id=\"T_e664aa5c_8249_11ea_adf2_2b8d7f92d289row8_col5\" class=\"data row8 col5\" >0.444758</td>\n",
       "                        <td id=\"T_e664aa5c_8249_11ea_adf2_2b8d7f92d289row8_col6\" class=\"data row8 col6\" >0.5</td>\n",
       "                        <td id=\"T_e664aa5c_8249_11ea_adf2_2b8d7f92d289row8_col7\" class=\"data row8 col7\" >mixed</td>\n",
       "            </tr>\n",
       "            <tr>\n",
       "                        <th id=\"T_e664aa5c_8249_11ea_adf2_2b8d7f92d289level0_row9\" class=\"row_heading level0 row9\" >9</th>\n",
       "                        <td id=\"T_e664aa5c_8249_11ea_adf2_2b8d7f92d289row9_col0\" class=\"data row9 col0\" >0.875</td>\n",
       "                        <td id=\"T_e664aa5c_8249_11ea_adf2_2b8d7f92d289row9_col1\" class=\"data row9 col1\" >0.414231</td>\n",
       "                        <td id=\"T_e664aa5c_8249_11ea_adf2_2b8d7f92d289row9_col2\" class=\"data row9 col2\" >0.562276</td>\n",
       "                        <td id=\"T_e664aa5c_8249_11ea_adf2_2b8d7f92d289row9_col3\" class=\"data row9 col3\" >0.589177</td>\n",
       "                        <td id=\"T_e664aa5c_8249_11ea_adf2_2b8d7f92d289row9_col4\" class=\"data row9 col4\" >0.245683</td>\n",
       "                        <td id=\"T_e664aa5c_8249_11ea_adf2_2b8d7f92d289row9_col5\" class=\"data row9 col5\" >0.324747</td>\n",
       "                        <td id=\"T_e664aa5c_8249_11ea_adf2_2b8d7f92d289row9_col6\" class=\"data row9 col6\" >0.75</td>\n",
       "                        <td id=\"T_e664aa5c_8249_11ea_adf2_2b8d7f92d289row9_col7\" class=\"data row9 col7\" >ulmfit</td>\n",
       "            </tr>\n",
       "            <tr>\n",
       "                        <th id=\"T_e664aa5c_8249_11ea_adf2_2b8d7f92d289level0_row10\" class=\"row_heading level0 row10\" >10</th>\n",
       "                        <td id=\"T_e664aa5c_8249_11ea_adf2_2b8d7f92d289row10_col0\" class=\"data row10 col0\" >0.924555</td>\n",
       "                        <td id=\"T_e664aa5c_8249_11ea_adf2_2b8d7f92d289row10_col1\" class=\"data row10 col1\" >0.156952</td>\n",
       "                        <td id=\"T_e664aa5c_8249_11ea_adf2_2b8d7f92d289row10_col2\" class=\"data row10 col2\" >0.26835</td>\n",
       "                        <td id=\"T_e664aa5c_8249_11ea_adf2_2b8d7f92d289row10_col3\" class=\"data row10 col3\" >0.593208</td>\n",
       "                        <td id=\"T_e664aa5c_8249_11ea_adf2_2b8d7f92d289row10_col4\" class=\"data row10 col4\" >0.107194</td>\n",
       "                        <td id=\"T_e664aa5c_8249_11ea_adf2_2b8d7f92d289row10_col5\" class=\"data row10 col5\" >0.164018</td>\n",
       "                        <td id=\"T_e664aa5c_8249_11ea_adf2_2b8d7f92d289row10_col6\" class=\"data row10 col6\" >0.75</td>\n",
       "                        <td id=\"T_e664aa5c_8249_11ea_adf2_2b8d7f92d289row10_col7\" class=\"data row10 col7\" >arxiv</td>\n",
       "            </tr>\n",
       "            <tr>\n",
       "                        <th id=\"T_e664aa5c_8249_11ea_adf2_2b8d7f92d289level0_row11\" class=\"row_heading level0 row11\" >11</th>\n",
       "                        <td id=\"T_e664aa5c_8249_11ea_adf2_2b8d7f92d289row11_col0\" class=\"data row11 col0\" >0.932062</td>\n",
       "                        <td id=\"T_e664aa5c_8249_11ea_adf2_2b8d7f92d289row11_col1\" class=\"data row11 col1\" >0.318885</td>\n",
       "                        <td id=\"T_e664aa5c_8249_11ea_adf2_2b8d7f92d289row11_col2\" class=\"data row11 col2\" >0.475193</td>\n",
       "                        <td id=\"T_e664aa5c_8249_11ea_adf2_2b8d7f92d289row11_col3\" class=\"data row11 col3\" >0.57271</td>\n",
       "                        <td id=\"T_e664aa5c_8249_11ea_adf2_2b8d7f92d289row11_col4\" class=\"data row11 col4\" >0.183365</td>\n",
       "                        <td id=\"T_e664aa5c_8249_11ea_adf2_2b8d7f92d289row11_col5\" class=\"data row11 col5\" >0.259205</td>\n",
       "                        <td id=\"T_e664aa5c_8249_11ea_adf2_2b8d7f92d289row11_col6\" class=\"data row11 col6\" >0.75</td>\n",
       "                        <td id=\"T_e664aa5c_8249_11ea_adf2_2b8d7f92d289row11_col7\" class=\"data row11 col7\" >mixed</td>\n",
       "            </tr>\n",
       "            <tr>\n",
       "                        <th id=\"T_e664aa5c_8249_11ea_adf2_2b8d7f92d289level0_row12\" class=\"row_heading level0 row12\" >12</th>\n",
       "                        <td id=\"T_e664aa5c_8249_11ea_adf2_2b8d7f92d289row12_col0\" class=\"data row12 col0\" >0.964066</td>\n",
       "                        <td id=\"T_e664aa5c_8249_11ea_adf2_2b8d7f92d289row12_col1\" class=\"data row12 col1\" >0.176579</td>\n",
       "                        <td id=\"T_e664aa5c_8249_11ea_adf2_2b8d7f92d289row12_col2\" class=\"data row12 col2\" >0.298487</td>\n",
       "                        <td id=\"T_e664aa5c_8249_11ea_adf2_2b8d7f92d289row12_col3\" class=\"data row12 col3\" >0.484145</td>\n",
       "                        <td id=\"T_e664aa5c_8249_11ea_adf2_2b8d7f92d289row12_col4\" class=\"data row12 col4\" >0.094447</td>\n",
       "                        <td id=\"T_e664aa5c_8249_11ea_adf2_2b8d7f92d289row12_col5\" class=\"data row12 col5\" >0.145596</td>\n",
       "                        <td id=\"T_e664aa5c_8249_11ea_adf2_2b8d7f92d289row12_col6\" class=\"data row12 col6\" >0.95</td>\n",
       "                        <td id=\"T_e664aa5c_8249_11ea_adf2_2b8d7f92d289row12_col7\" class=\"data row12 col7\" >ulmfit</td>\n",
       "            </tr>\n",
       "            <tr>\n",
       "                        <th id=\"T_e664aa5c_8249_11ea_adf2_2b8d7f92d289level0_row13\" class=\"row_heading level0 row13\" >13</th>\n",
       "                        <td id=\"T_e664aa5c_8249_11ea_adf2_2b8d7f92d289row13_col0\" class=\"data row13 col0\" >1</td>\n",
       "                        <td id=\"T_e664aa5c_8249_11ea_adf2_2b8d7f92d289row13_col1\" class=\"data row13 col1\" >0.000177883</td>\n",
       "                        <td id=\"T_e664aa5c_8249_11ea_adf2_2b8d7f92d289row13_col2\" class=\"data row13 col2\" >0.000355703</td>\n",
       "                        <td id=\"T_e664aa5c_8249_11ea_adf2_2b8d7f92d289row13_col3\" class=\"data row13 col3\" >0.0113636</td>\n",
       "                        <td id=\"T_e664aa5c_8249_11ea_adf2_2b8d7f92d289row13_col4\" class=\"data row13 col4\" >9.66324e-05</td>\n",
       "                        <td id=\"T_e664aa5c_8249_11ea_adf2_2b8d7f92d289row13_col5\" class=\"data row13 col5\" >0.000191633</td>\n",
       "                        <td id=\"T_e664aa5c_8249_11ea_adf2_2b8d7f92d289row13_col6\" class=\"data row13 col6\" >0.95</td>\n",
       "                        <td id=\"T_e664aa5c_8249_11ea_adf2_2b8d7f92d289row13_col7\" class=\"data row13 col7\" >arxiv</td>\n",
       "            </tr>\n",
       "            <tr>\n",
       "                        <th id=\"T_e664aa5c_8249_11ea_adf2_2b8d7f92d289level0_row14\" class=\"row_heading level0 row14\" >14</th>\n",
       "                        <td id=\"T_e664aa5c_8249_11ea_adf2_2b8d7f92d289row14_col0\" class=\"data row14 col0\" >1</td>\n",
       "                        <td id=\"T_e664aa5c_8249_11ea_adf2_2b8d7f92d289row14_col1\" class=\"data row14 col1\" >0.000711533</td>\n",
       "                        <td id=\"T_e664aa5c_8249_11ea_adf2_2b8d7f92d289row14_col2\" class=\"data row14 col2\" >0.00142205</td>\n",
       "                        <td id=\"T_e664aa5c_8249_11ea_adf2_2b8d7f92d289row14_col3\" class=\"data row14 col3\" >0.0284091</td>\n",
       "                        <td id=\"T_e664aa5c_8249_11ea_adf2_2b8d7f92d289row14_col4\" class=\"data row14 col4\" >0.000305721</td>\n",
       "                        <td id=\"T_e664aa5c_8249_11ea_adf2_2b8d7f92d289row14_col5\" class=\"data row14 col5\" >0.000596587</td>\n",
       "                        <td id=\"T_e664aa5c_8249_11ea_adf2_2b8d7f92d289row14_col6\" class=\"data row14 col6\" >0.95</td>\n",
       "                        <td id=\"T_e664aa5c_8249_11ea_adf2_2b8d7f92d289row14_col7\" class=\"data row14 col7\" >mixed</td>\n",
       "            </tr>\n",
       "            <tr>\n",
       "                        <th id=\"T_e664aa5c_8249_11ea_adf2_2b8d7f92d289level0_row15\" class=\"row_heading level0 row15\" >15</th>\n",
       "                        <td id=\"T_e664aa5c_8249_11ea_adf2_2b8d7f92d289row15_col0\" class=\"data row15 col0\" >0.797729</td>\n",
       "                        <td id=\"T_e664aa5c_8249_11ea_adf2_2b8d7f92d289row15_col1\" class=\"data row15 col1\" >0.462318</td>\n",
       "                        <td id=\"T_e664aa5c_8249_11ea_adf2_2b8d7f92d289row15_col2\" class=\"data row15 col2\" >0.585382</td>\n",
       "                        <td id=\"T_e664aa5c_8249_11ea_adf2_2b8d7f92d289row15_col3\" class=\"data row15 col3\" >0.546529</td>\n",
       "                        <td id=\"T_e664aa5c_8249_11ea_adf2_2b8d7f92d289row15_col4\" class=\"data row15 col4\" >0.307909</td>\n",
       "                        <td id=\"T_e664aa5c_8249_11ea_adf2_2b8d7f92d289row15_col5\" class=\"data row15 col5\" >0.375791</td>\n",
       "                        <td id=\"T_e664aa5c_8249_11ea_adf2_2b8d7f92d289row15_col6\" class=\"data row15 col6\" >top-1</td>\n",
       "                        <td id=\"T_e664aa5c_8249_11ea_adf2_2b8d7f92d289row15_col7\" class=\"data row15 col7\" >ulmfit</td>\n",
       "            </tr>\n",
       "            <tr>\n",
       "                        <th id=\"T_e664aa5c_8249_11ea_adf2_2b8d7f92d289level0_row16\" class=\"row_heading level0 row16\" >16</th>\n",
       "                        <td id=\"T_e664aa5c_8249_11ea_adf2_2b8d7f92d289row16_col0\" class=\"data row16 col0\" >0.847862</td>\n",
       "                        <td id=\"T_e664aa5c_8249_11ea_adf2_2b8d7f92d289row16_col1\" class=\"data row16 col1\" >0.491373</td>\n",
       "                        <td id=\"T_e664aa5c_8249_11ea_adf2_2b8d7f92d289row16_col2\" class=\"data row16 col2\" >0.622171</td>\n",
       "                        <td id=\"T_e664aa5c_8249_11ea_adf2_2b8d7f92d289row16_col3\" class=\"data row16 col3\" >0.648712</td>\n",
       "                        <td id=\"T_e664aa5c_8249_11ea_adf2_2b8d7f92d289row16_col4\" class=\"data row16 col4\" >0.361714</td>\n",
       "                        <td id=\"T_e664aa5c_8249_11ea_adf2_2b8d7f92d289row16_col5\" class=\"data row16 col5\" >0.442854</td>\n",
       "                        <td id=\"T_e664aa5c_8249_11ea_adf2_2b8d7f92d289row16_col6\" class=\"data row16 col6\" >top-1</td>\n",
       "                        <td id=\"T_e664aa5c_8249_11ea_adf2_2b8d7f92d289row16_col7\" class=\"data row16 col7\" >arxiv</td>\n",
       "            </tr>\n",
       "            <tr>\n",
       "                        <th id=\"T_e664aa5c_8249_11ea_adf2_2b8d7f92d289level0_row17\" class=\"row_heading level0 row17\" >17</th>\n",
       "                        <td id=\"T_e664aa5c_8249_11ea_adf2_2b8d7f92d289row17_col0\" class=\"data row17 col0\" >0.827911</td>\n",
       "                        <td id=\"T_e664aa5c_8249_11ea_adf2_2b8d7f92d289row17_col1\" class=\"data row17 col1\" >0.47981</td>\n",
       "                        <td id=\"T_e664aa5c_8249_11ea_adf2_2b8d7f92d289row17_col2\" class=\"data row17 col2\" >0.60753</td>\n",
       "                        <td id=\"T_e664aa5c_8249_11ea_adf2_2b8d7f92d289row17_col3\" class=\"data row17 col3\" >0.612276</td>\n",
       "                        <td id=\"T_e664aa5c_8249_11ea_adf2_2b8d7f92d289row17_col4\" class=\"data row17 col4\" >0.329036</td>\n",
       "                        <td id=\"T_e664aa5c_8249_11ea_adf2_2b8d7f92d289row17_col5\" class=\"data row17 col5\" >0.40618</td>\n",
       "                        <td id=\"T_e664aa5c_8249_11ea_adf2_2b8d7f92d289row17_col6\" class=\"data row17 col6\" >top-1</td>\n",
       "                        <td id=\"T_e664aa5c_8249_11ea_adf2_2b8d7f92d289row17_col7\" class=\"data row17 col7\" >mixed</td>\n",
       "            </tr>\n",
       "    </tbody></table>"
      ],
      "text/plain": [
       "<pandas.io.formats.style.Styler at 0x7fa9e53b3f90>"
      ]
     },
     "execution_count": 41,
     "metadata": {},
     "output_type": "execute_result"
    }
   ],
   "source": [
    "stats_df.style.highlight_max()"
   ]
  },
  {
   "cell_type": "code",
   "execution_count": 52,
   "metadata": {},
   "outputs": [
    {
     "data": {
      "text/plain": [
       "<matplotlib.legend.Legend at 0x7fa9d86e5150>"
      ]
     },
     "execution_count": 52,
     "metadata": {},
     "output_type": "execute_result"
    },
    {
     "data": {
      "image/png": "[encoded data removed]",
      "text/plain": [
       "<Figure size 720x720 with 1 Axes>"
      ]
     },
     "metadata": {
      "needs_background": "light"
     },
     "output_type": "display_data"
    }
   ],
   "source": [
    "stat = \"micro\"\n",
    "classifiers = [\"ulmfit\", \"arxiv\"] + list(mixes.keys())\n",
    "plt.figure(figsize=(10,10))\n",
    "for cls in classifiers:\n",
    "    x = stats_df[stats_df.classifier == cls][f\"{stat} p\"]\n",
    "    y = stats_df[stats_df.classifier == cls][f\"{stat} r\"]\n",
    "    plt.plot(x,y);\n",
    "plt.legend(classifiers)"
   ]
  },
  {
   "cell_type": "code",
   "execution_count": 70,
   "metadata": {},
   "outputs": [],
   "source": [
    "def plot_pr(stat=\"micro\", classifiers = [\"ulmfit\", \"ulmfit-noft\", \"arxiv\", \"l2\"]):\n",
    "#     stat = \"micro\"\n",
    "#     classifiers = [\"ulmfit\", \"ulmfit-noft\", \"arxiv\"] + [\"l2\"]#+ list(mixes.keys())\n",
    "    plt.figure(figsize=(10,10))\n",
    "    ax = plt.gca()\n",
    "    topks = 2\n",
    "    markers = ['*', 'o'] #, '*', 's', 'h']\n",
    "    for cls in classifiers:\n",
    "        x = stats_df[stats_df.classifier == cls][f\"{stat} p\"]\n",
    "        y = stats_df[stats_df.classifier == cls][f\"{stat} r\"]\n",
    "        color = next(ax._get_lines.prop_cycler)['color']\n",
    "        plt.plot(x[:-topks-1],y[:-topks-1], color=color, label=cls)\n",
    "        for i, marker in zip(range(1, topks+1), markers):\n",
    "            plt.plot([x.values[-i]], [y.values[-i]], marker, color=color)\n",
    "    plt.legend()\n",
    "    plt.xlim(0.0, 1.0)\n",
    "    plt.ylim(0.0, 1.0)\n",
    "    plt.xlabel(f\"{stat} precision\")\n",
    "    plt.ylabel(f\"{stat} recall\")\n",
    "    plt.xticks(np.linspace(0.0, 1.0, num=21))\n",
    "    plt.yticks(np.linspace(0.0, 1.0, num=21))"
   ]
  },
  {
   "cell_type": "code",
   "execution_count": 56,
   "metadata": {},
   "outputs": [
    {
     "data": {
      "image/png": "[encoded data removed]",
      "text/plain": [
       "<Figure size 720x720 with 1 Axes>"
      ]
     },
     "metadata": {
      "needs_background": "light"
     },
     "output_type": "display_data"
    }
   ],
   "source": [
    "plot_pr(\"micro\", [\"ulmfit\", \"nbsvm\", \"arxiv\", \"l2\"])"
   ]
  },
  {
   "cell_type": "code",
   "execution_count": 50,
   "metadata": {},
   "outputs": [
    {
     "data": {
      "text/html": [
       "<div>\n",
       "<style scoped>\n",
       "    .dataframe tbody tr th:only-of-type {\n",
       "        vertical-align: middle;\n",
       "    }\n",
       "\n",
       "    .dataframe tbody tr th {\n",
       "        vertical-align: top;\n",
       "    }\n",
       "\n",
       "    .dataframe thead th {\n",
       "        text-align: right;\n",
       "    }\n",
       "</style>\n",
       "<table border=\"1\" class=\"dataframe\">\n",
       "  <thead>\n",
       "    <tr style=\"text-align: right;\">\n",
       "      <th></th>\n",
       "      <th>classifier</th>\n",
       "      <th>macro f1</th>\n",
       "      <th>macro p</th>\n",
       "      <th>macro r</th>\n",
       "      <th>micro f1</th>\n",
       "      <th>micro p</th>\n",
       "      <th>micro r</th>\n",
       "      <th>threshold</th>\n",
       "    </tr>\n",
       "  </thead>\n",
       "  <tbody>\n",
       "    <tr>\n",
       "      <th>300</th>\n",
       "      <td>arxiv</td>\n",
       "      <td>0.504226</td>\n",
       "      <td>0.742235</td>\n",
       "      <td>0.409136</td>\n",
       "      <td>0.622119</td>\n",
       "      <td>0.847759</td>\n",
       "      <td>0.491343</td>\n",
       "      <td>top-1</td>\n",
       "    </tr>\n",
       "    <tr>\n",
       "      <th>301</th>\n",
       "      <td>nbsvm</td>\n",
       "      <td>0.484344</td>\n",
       "      <td>0.648219</td>\n",
       "      <td>0.410647</td>\n",
       "      <td>0.574968</td>\n",
       "      <td>0.783507</td>\n",
       "      <td>0.454103</td>\n",
       "      <td>top-1</td>\n",
       "    </tr>\n",
       "    <tr>\n",
       "      <th>302</th>\n",
       "      <td>ulmfit-noft</td>\n",
       "      <td>0.418279</td>\n",
       "      <td>0.616129</td>\n",
       "      <td>0.343419</td>\n",
       "      <td>0.590209</td>\n",
       "      <td>0.804277</td>\n",
       "      <td>0.466141</td>\n",
       "      <td>top-1</td>\n",
       "    </tr>\n",
       "    <tr>\n",
       "      <th>303</th>\n",
       "      <td>ulmfit-pw</td>\n",
       "      <td>0.462025</td>\n",
       "      <td>0.636499</td>\n",
       "      <td>0.391409</td>\n",
       "      <td>0.591035</td>\n",
       "      <td>0.805402</td>\n",
       "      <td>0.466793</td>\n",
       "      <td>top-1</td>\n",
       "    </tr>\n",
       "    <tr>\n",
       "      <th>304</th>\n",
       "      <td>ulmfit</td>\n",
       "      <td>0.427845</td>\n",
       "      <td>0.620184</td>\n",
       "      <td>0.351263</td>\n",
       "      <td>0.590360</td>\n",
       "      <td>0.804481</td>\n",
       "      <td>0.466259</td>\n",
       "      <td>top-1</td>\n",
       "    </tr>\n",
       "    <tr>\n",
       "      <th>305</th>\n",
       "      <td>l2</td>\n",
       "      <td>0.464341</td>\n",
       "      <td>0.697098</td>\n",
       "      <td>0.378360</td>\n",
       "      <td>0.608604</td>\n",
       "      <td>0.829343</td>\n",
       "      <td>0.480669</td>\n",
       "      <td>top-1</td>\n",
       "    </tr>\n",
       "    <tr>\n",
       "      <th>306</th>\n",
       "      <td>arxiv</td>\n",
       "      <td>0.381684</td>\n",
       "      <td>0.273991</td>\n",
       "      <td>0.732365</td>\n",
       "      <td>0.419022</td>\n",
       "      <td>0.281809</td>\n",
       "      <td>0.816651</td>\n",
       "      <td>top-5</td>\n",
       "    </tr>\n",
       "    <tr>\n",
       "      <th>307</th>\n",
       "      <td>nbsvm</td>\n",
       "      <td>0.399427</td>\n",
       "      <td>0.276695</td>\n",
       "      <td>0.816893</td>\n",
       "      <td>0.453981</td>\n",
       "      <td>0.305320</td>\n",
       "      <td>0.884784</td>\n",
       "      <td>top-5</td>\n",
       "    </tr>\n",
       "    <tr>\n",
       "      <th>308</th>\n",
       "      <td>ulmfit-noft</td>\n",
       "      <td>0.397588</td>\n",
       "      <td>0.285454</td>\n",
       "      <td>0.759389</td>\n",
       "      <td>0.456415</td>\n",
       "      <td>0.306957</td>\n",
       "      <td>0.889528</td>\n",
       "      <td>top-5</td>\n",
       "    </tr>\n",
       "    <tr>\n",
       "      <th>309</th>\n",
       "      <td>ulmfit-pw</td>\n",
       "      <td>0.385563</td>\n",
       "      <td>0.262235</td>\n",
       "      <td>0.824342</td>\n",
       "      <td>0.458362</td>\n",
       "      <td>0.308267</td>\n",
       "      <td>0.893323</td>\n",
       "      <td>top-5</td>\n",
       "    </tr>\n",
       "    <tr>\n",
       "      <th>310</th>\n",
       "      <td>ulmfit</td>\n",
       "      <td>0.403793</td>\n",
       "      <td>0.284425</td>\n",
       "      <td>0.781008</td>\n",
       "      <td>0.459549</td>\n",
       "      <td>0.309065</td>\n",
       "      <td>0.895636</td>\n",
       "      <td>top-5</td>\n",
       "    </tr>\n",
       "    <tr>\n",
       "      <th>311</th>\n",
       "      <td>l2</td>\n",
       "      <td>0.398258</td>\n",
       "      <td>0.277419</td>\n",
       "      <td>0.802105</td>\n",
       "      <td>0.459823</td>\n",
       "      <td>0.309249</td>\n",
       "      <td>0.896169</td>\n",
       "      <td>top-5</td>\n",
       "    </tr>\n",
       "  </tbody>\n",
       "</table>\n",
       "</div>"
      ],
      "text/plain": [
       "      classifier  macro f1   macro p   macro r  micro f1   micro p   micro r  \\\n",
       "300        arxiv  0.504226  0.742235  0.409136  0.622119  0.847759  0.491343   \n",
       "301        nbsvm  0.484344  0.648219  0.410647  0.574968  0.783507  0.454103   \n",
       "302  ulmfit-noft  0.418279  0.616129  0.343419  0.590209  0.804277  0.466141   \n",
       "303    ulmfit-pw  0.462025  0.636499  0.391409  0.591035  0.805402  0.466793   \n",
       "304       ulmfit  0.427845  0.620184  0.351263  0.590360  0.804481  0.466259   \n",
       "305           l2  0.464341  0.697098  0.378360  0.608604  0.829343  0.480669   \n",
       "306        arxiv  0.381684  0.273991  0.732365  0.419022  0.281809  0.816651   \n",
       "307        nbsvm  0.399427  0.276695  0.816893  0.453981  0.305320  0.884784   \n",
       "308  ulmfit-noft  0.397588  0.285454  0.759389  0.456415  0.306957  0.889528   \n",
       "309    ulmfit-pw  0.385563  0.262235  0.824342  0.458362  0.308267  0.893323   \n",
       "310       ulmfit  0.403793  0.284425  0.781008  0.459549  0.309065  0.895636   \n",
       "311           l2  0.398258  0.277419  0.802105  0.459823  0.309249  0.896169   \n",
       "\n",
       "    threshold  \n",
       "300     top-1  \n",
       "301     top-1  \n",
       "302     top-1  \n",
       "303     top-1  \n",
       "304     top-1  \n",
       "305     top-1  \n",
       "306     top-5  \n",
       "307     top-5  \n",
       "308     top-5  \n",
       "309     top-5  \n",
       "310     top-5  \n",
       "311     top-5  "
      ]
     },
     "execution_count": 50,
     "metadata": {},
     "output_type": "execute_result"
    }
   ],
   "source": [
    "stats_df[stats_df.threshold.isin([\"top-1\", \"top-5\"])]"
   ]
  },
  {
   "cell_type": "code",
   "execution_count": null,
   "metadata": {
    "scrolled": false
   },
   "outputs": [],
   "source": [
    "plot_pr(\"micro\", [\"ulmfit\", \"nbsvm\", \"arxiv\"])"
   ]
  },
  {
   "cell_type": "code",
   "execution_count": 71,
   "metadata": {},
   "outputs": [
    {
     "data": {
      "image/png": "[encoded data removed]",
      "text/plain": [
       "<Figure size 720x720 with 1 Axes>"
      ]
     },
     "metadata": {
      "needs_background": "light"
     },
     "output_type": "display_data"
    }
   ],
   "source": [
    "plot_pr(\"micro\", [\"ulmfit\", \"nbsvm\", \"arxiv\"])"
   ]
  },
  {
   "cell_type": "code",
   "execution_count": 73,
   "metadata": {},
   "outputs": [
    {
     "data": {
      "image/png": "[encoded data removed]",
      "text/plain": [
       "<Figure size 720x720 with 1 Axes>"
      ]
     },
     "metadata": {
      "needs_background": "light"
     },
     "output_type": "display_data"
    }
   ],
   "source": [
    "plot_pr(\"macro\", [\"ulmfit\", \"nbsvm\", \"arxiv\"])"
   ]
  },
  {
   "cell_type": "code",
   "execution_count": 72,
   "metadata": {},
   "outputs": [
    {
     "data": {
      "image/png": "[encoded data removed]",
      "text/plain": [
       "<Figure size 720x720 with 1 Axes>"
      ]
     },
     "metadata": {
      "needs_background": "light"
     },
     "output_type": "display_data"
    }
   ],
   "source": [
    "plot_pr(\"macro\", [\"ulmfit\", \"nbsvm\", \"arxiv\", \"l2\"])"
   ]
  },
  {
   "cell_type": "code",
   "execution_count": 32,
   "metadata": {},
   "outputs": [],
   "source": [
    "classes15 =\\\n",
    "    ['cs.LG', 'quant-ph', 'hep-ph', 'hep-th', 'cs.CV', 'stat.ML',\n",
    "       'cond-mat.mes-hall', 'cond-mat.mtrl-sci', 'gr-qc', 'astro-ph.GA',\n",
    "       'math.CO', 'math.AP', 'astro-ph.SR', 'math-ph', 'math.MP',\n",
    "       'astro-ph.HE', 'astro-ph.CO', 'cond-mat.str-el', 'math.PR',\n",
    "       'cs.IT', 'math.IT', 'math.OC', 'cond-mat.stat-mech', 'cs.AI',\n",
    "       'physics.optics', 'cs.CL', 'math.AG', 'hep-ex', 'math.NA',\n",
    "       'math.NT', 'nucl-th', 'math.DG', 'math.DS', 'cond-mat.soft',\n",
    "       'astro-ph.EP', 'astro-ph.IM', 'math.FA', 'cs.CR',\n",
    "       'cond-mat.supr-con', 'stat.ME', 'cs.DS', 'physics.flu-dyn',\n",
    "       'cs.SY', 'physics.ins-det', 'math.RT', 'cond-mat.quant-gas',\n",
    "       'cs.RO', 'cs.SI', 'math.CA', 'cs.NI', 'physics.comp-ph', 'cs.DC',\n",
    "       'math.ST', 'stat.TH', 'eess.SP', 'nucl-ex', 'physics.chem-ph',\n",
    "       'physics.soc-ph', 'physics.app-ph', 'math.GR', 'physics.atom-ph',\n",
    "       'stat.AP', 'math.GT', 'cs.NE', 'cs.LO', 'cs.CY', 'hep-lat',\n",
    "       'math.RA', 'physics.plasm-ph', 'math.CV', 'cs.IR',\n",
    "       'physics.bio-ph', 'cond-mat.dis-nn', 'math.AT', 'cs.NA', 'cs.DM',\n",
    "       'math.LO', 'eess.IV', 'cs.SE', 'cs.HC', 'math.QA', 'math.AC',\n",
    "       'cs.GT', 'math.MG', 'q-bio.NC', 'math.OA', 'cs.CC', 'cs.SD',\n",
    "       'q-bio.PE', 'stat.CO', 'math.SP', 'nlin.CD', 'q-bio.QM',\n",
    "       'physics.data-an', 'eess.AS', 'cs.DB', 'cs.PL', 'nlin.SI',\n",
    "       'math.CT', 'nlin.PS', 'cs.CG', 'physics.class-ph', 'math.SG',\n",
    "       'cond-mat.other', 'physics.acc-ph', 'physics.gen-ph', 'eess.SY',\n",
    "       'physics.med-ph', 'physics.space-ph', 'cs.MA', 'nlin.AO',\n",
    "       'physics.geo-ph', 'cs.CE', 'cs.MM', 'physics.ao-ph', 'cs.FL',\n",
    "       'math.KT', 'cs.DL', 'math.GN', 'physics.hist-ph', 'cs.GR', 'cs.ET',\n",
    "       'q-bio.BM', 'cs.PF', 'q-fin.MF', 'math.HO', 'q-bio.MN',\n",
    "       'physics.ed-ph', 'q-fin.EC', 'econ.EM', 'math.GM', 'cs.AR',\n",
    "       'q-bio.TO', 'q-fin.ST', 'q-bio.GN', 'q-fin.GN', 'q-bio.CB',\n",
    "       'cs.MS', 'physics.atm-clus', 'cs.SC', 'physics.pop-ph', 'q-fin.RM',\n",
    "       'q-fin.CP', 'cs.OH', 'q-bio.SC', 'econ.GN', 'stat.OT', 'q-fin.PM',\n",
    "       'q-fin.PR', 'q-fin.TR', 'econ.TH', 'nlin.CG', 'q-bio.OT', 'cs.OS',\n",
    "       'cs.GL']"
   ]
  },
  {
   "cell_type": "code",
   "execution_count": null,
   "metadata": {},
   "outputs": [],
   "source": []
  },
  {
   "cell_type": "code",
   "execution_count": 92,
   "metadata": {},
   "outputs": [
    {
     "data": {
      "text/plain": [
       "<BarContainer object of 176 artists>"
      ]
     },
     "execution_count": 92,
     "metadata": {},
     "output_type": "execute_result"
    },
    {
     "data": {
      "image/png": "[encoded data removed]",
      "text/plain": [
       "<Figure size 432x288 with 1 Axes>"
      ]
     },
     "metadata": {
      "needs_background": "light"
     },
     "output_type": "display_data"
    }
   ],
   "source": [
    "plt.bar(range(176), test_labels.sum(axis=0))"
   ]
  },
  {
   "cell_type": "code",
   "execution_count": 99,
   "metadata": {},
   "outputs": [
    {
     "data": {
      "text/plain": [
       "21"
      ]
     },
     "execution_count": 99,
     "metadata": {},
     "output_type": "execute_result"
    }
   ],
   "source": [
    "sum(test_labels.sum(axis=0) == 0)"
   ]
  },
  {
   "cell_type": "code",
   "execution_count": 98,
   "metadata": {},
   "outputs": [
    {
     "data": {
      "text/html": [
       "<style  type=\"text/css\" >\n",
       "    #T_bcb8e9d6_819d_11ea_9dfc_b7ef7639baa9row0_col5 {\n",
       "            background-color:  yellow;\n",
       "        }    #T_bcb8e9d6_819d_11ea_9dfc_b7ef7639baa9row1_col1 {\n",
       "            background-color:  yellow;\n",
       "        }    #T_bcb8e9d6_819d_11ea_9dfc_b7ef7639baa9row1_col4 {\n",
       "            background-color:  yellow;\n",
       "        }    #T_bcb8e9d6_819d_11ea_9dfc_b7ef7639baa9row2_col2 {\n",
       "            background-color:  yellow;\n",
       "        }    #T_bcb8e9d6_819d_11ea_9dfc_b7ef7639baa9row3_col1 {\n",
       "            background-color:  yellow;\n",
       "        }    #T_bcb8e9d6_819d_11ea_9dfc_b7ef7639baa9row3_col4 {\n",
       "            background-color:  yellow;\n",
       "        }    #T_bcb8e9d6_819d_11ea_9dfc_b7ef7639baa9row9_col0 {\n",
       "            background-color:  yellow;\n",
       "        }    #T_bcb8e9d6_819d_11ea_9dfc_b7ef7639baa9row11_col3 {\n",
       "            background-color:  yellow;\n",
       "        }</style><table id=\"T_bcb8e9d6_819d_11ea_9dfc_b7ef7639baa9\" ><thead>    <tr>        <th class=\"blank level0\" ></th>        <th class=\"col_heading level0 col0\" >micro p</th>        <th class=\"col_heading level0 col1\" >micro r</th>        <th class=\"col_heading level0 col2\" >micro f1</th>        <th class=\"col_heading level0 col3\" >macro p</th>        <th class=\"col_heading level0 col4\" >macro r</th>        <th class=\"col_heading level0 col5\" >macro f1</th>        <th class=\"col_heading level0 col6\" >threshold</th>        <th class=\"col_heading level0 col7\" >classifier</th>    </tr></thead><tbody>\n",
       "                <tr>\n",
       "                        <th id=\"T_bcb8e9d6_819d_11ea_9dfc_b7ef7639baa9level0_row0\" class=\"row_heading level0 row0\" >0</th>\n",
       "                        <td id=\"T_bcb8e9d6_819d_11ea_9dfc_b7ef7639baa9row0_col0\" class=\"data row0 col0\" >0.519106</td>\n",
       "                        <td id=\"T_bcb8e9d6_819d_11ea_9dfc_b7ef7639baa9row0_col1\" class=\"data row0 col1\" >0.795849</td>\n",
       "                        <td id=\"T_bcb8e9d6_819d_11ea_9dfc_b7ef7639baa9row0_col2\" class=\"data row0 col2\" >0.628356</td>\n",
       "                        <td id=\"T_bcb8e9d6_819d_11ea_9dfc_b7ef7639baa9row0_col3\" class=\"data row0 col3\" >0.397502</td>\n",
       "                        <td id=\"T_bcb8e9d6_819d_11ea_9dfc_b7ef7639baa9row0_col4\" class=\"data row0 col4\" >0.563681</td>\n",
       "                        <td id=\"T_bcb8e9d6_819d_11ea_9dfc_b7ef7639baa9row0_col5\" class=\"data row0 col5\" >0.451377</td>\n",
       "                        <td id=\"T_bcb8e9d6_819d_11ea_9dfc_b7ef7639baa9row0_col6\" class=\"data row0 col6\" >0.125</td>\n",
       "                        <td id=\"T_bcb8e9d6_819d_11ea_9dfc_b7ef7639baa9row0_col7\" class=\"data row0 col7\" >ulmfit</td>\n",
       "            </tr>\n",
       "            <tr>\n",
       "                        <th id=\"T_bcb8e9d6_819d_11ea_9dfc_b7ef7639baa9level0_row1\" class=\"row_heading level0 row1\" >1</th>\n",
       "                        <td id=\"T_bcb8e9d6_819d_11ea_9dfc_b7ef7639baa9row1_col0\" class=\"data row1 col0\" >0.275219</td>\n",
       "                        <td id=\"T_bcb8e9d6_819d_11ea_9dfc_b7ef7639baa9row1_col1\" class=\"data row1 col1\" >0.837</td>\n",
       "                        <td id=\"T_bcb8e9d6_819d_11ea_9dfc_b7ef7639baa9row1_col2\" class=\"data row1 col2\" >0.414232</td>\n",
       "                        <td id=\"T_bcb8e9d6_819d_11ea_9dfc_b7ef7639baa9row1_col3\" class=\"data row1 col3\" >0.208787</td>\n",
       "                        <td id=\"T_bcb8e9d6_819d_11ea_9dfc_b7ef7639baa9row1_col4\" class=\"data row1 col4\" >0.675549</td>\n",
       "                        <td id=\"T_bcb8e9d6_819d_11ea_9dfc_b7ef7639baa9row1_col5\" class=\"data row1 col5\" >0.303395</td>\n",
       "                        <td id=\"T_bcb8e9d6_819d_11ea_9dfc_b7ef7639baa9row1_col6\" class=\"data row1 col6\" >0.125</td>\n",
       "                        <td id=\"T_bcb8e9d6_819d_11ea_9dfc_b7ef7639baa9row1_col7\" class=\"data row1 col7\" >arxiv</td>\n",
       "            </tr>\n",
       "            <tr>\n",
       "                        <th id=\"T_bcb8e9d6_819d_11ea_9dfc_b7ef7639baa9level0_row2\" class=\"row_heading level0 row2\" >2</th>\n",
       "                        <td id=\"T_bcb8e9d6_819d_11ea_9dfc_b7ef7639baa9row2_col0\" class=\"data row2 col0\" >0.645424</td>\n",
       "                        <td id=\"T_bcb8e9d6_819d_11ea_9dfc_b7ef7639baa9row2_col1\" class=\"data row2 col1\" >0.696591</td>\n",
       "                        <td id=\"T_bcb8e9d6_819d_11ea_9dfc_b7ef7639baa9row2_col2\" class=\"data row2 col2\" >0.670032</td>\n",
       "                        <td id=\"T_bcb8e9d6_819d_11ea_9dfc_b7ef7639baa9row2_col3\" class=\"data row2 col3\" >0.476905</td>\n",
       "                        <td id=\"T_bcb8e9d6_819d_11ea_9dfc_b7ef7639baa9row2_col4\" class=\"data row2 col4\" >0.46244</td>\n",
       "                        <td id=\"T_bcb8e9d6_819d_11ea_9dfc_b7ef7639baa9row2_col5\" class=\"data row2 col5\" >0.449281</td>\n",
       "                        <td id=\"T_bcb8e9d6_819d_11ea_9dfc_b7ef7639baa9row2_col6\" class=\"data row2 col6\" >0.25</td>\n",
       "                        <td id=\"T_bcb8e9d6_819d_11ea_9dfc_b7ef7639baa9row2_col7\" class=\"data row2 col7\" >ulmfit</td>\n",
       "            </tr>\n",
       "            <tr>\n",
       "                        <th id=\"T_bcb8e9d6_819d_11ea_9dfc_b7ef7639baa9level0_row3\" class=\"row_heading level0 row3\" >3</th>\n",
       "                        <td id=\"T_bcb8e9d6_819d_11ea_9dfc_b7ef7639baa9row3_col0\" class=\"data row3 col0\" >0.275219</td>\n",
       "                        <td id=\"T_bcb8e9d6_819d_11ea_9dfc_b7ef7639baa9row3_col1\" class=\"data row3 col1\" >0.837</td>\n",
       "                        <td id=\"T_bcb8e9d6_819d_11ea_9dfc_b7ef7639baa9row3_col2\" class=\"data row3 col2\" >0.414232</td>\n",
       "                        <td id=\"T_bcb8e9d6_819d_11ea_9dfc_b7ef7639baa9row3_col3\" class=\"data row3 col3\" >0.208787</td>\n",
       "                        <td id=\"T_bcb8e9d6_819d_11ea_9dfc_b7ef7639baa9row3_col4\" class=\"data row3 col4\" >0.675549</td>\n",
       "                        <td id=\"T_bcb8e9d6_819d_11ea_9dfc_b7ef7639baa9row3_col5\" class=\"data row3 col5\" >0.303395</td>\n",
       "                        <td id=\"T_bcb8e9d6_819d_11ea_9dfc_b7ef7639baa9row3_col6\" class=\"data row3 col6\" >0.25</td>\n",
       "                        <td id=\"T_bcb8e9d6_819d_11ea_9dfc_b7ef7639baa9row3_col7\" class=\"data row3 col7\" >arxiv</td>\n",
       "            </tr>\n",
       "            <tr>\n",
       "                        <th id=\"T_bcb8e9d6_819d_11ea_9dfc_b7ef7639baa9level0_row4\" class=\"row_heading level0 row4\" >4</th>\n",
       "                        <td id=\"T_bcb8e9d6_819d_11ea_9dfc_b7ef7639baa9row4_col0\" class=\"data row4 col0\" >0.787475</td>\n",
       "                        <td id=\"T_bcb8e9d6_819d_11ea_9dfc_b7ef7639baa9row4_col1\" class=\"data row4 col1\" >0.539816</td>\n",
       "                        <td id=\"T_bcb8e9d6_819d_11ea_9dfc_b7ef7639baa9row4_col2\" class=\"data row4 col2\" >0.64054</td>\n",
       "                        <td id=\"T_bcb8e9d6_819d_11ea_9dfc_b7ef7639baa9row4_col3\" class=\"data row4 col3\" >0.546322</td>\n",
       "                        <td id=\"T_bcb8e9d6_819d_11ea_9dfc_b7ef7639baa9row4_col4\" class=\"data row4 col4\" >0.328543</td>\n",
       "                        <td id=\"T_bcb8e9d6_819d_11ea_9dfc_b7ef7639baa9row4_col5\" class=\"data row4 col5\" >0.390469</td>\n",
       "                        <td id=\"T_bcb8e9d6_819d_11ea_9dfc_b7ef7639baa9row4_col6\" class=\"data row4 col6\" >0.5</td>\n",
       "                        <td id=\"T_bcb8e9d6_819d_11ea_9dfc_b7ef7639baa9row4_col7\" class=\"data row4 col7\" >ulmfit</td>\n",
       "            </tr>\n",
       "            <tr>\n",
       "                        <th id=\"T_bcb8e9d6_819d_11ea_9dfc_b7ef7639baa9level0_row5\" class=\"row_heading level0 row5\" >5</th>\n",
       "                        <td id=\"T_bcb8e9d6_819d_11ea_9dfc_b7ef7639baa9row5_col0\" class=\"data row5 col0\" >0.286006</td>\n",
       "                        <td id=\"T_bcb8e9d6_819d_11ea_9dfc_b7ef7639baa9row5_col1\" class=\"data row5 col1\" >0.815061</td>\n",
       "                        <td id=\"T_bcb8e9d6_819d_11ea_9dfc_b7ef7639baa9row5_col2\" class=\"data row5 col2\" >0.423429</td>\n",
       "                        <td id=\"T_bcb8e9d6_819d_11ea_9dfc_b7ef7639baa9row5_col3\" class=\"data row5 col3\" >0.219256</td>\n",
       "                        <td id=\"T_bcb8e9d6_819d_11ea_9dfc_b7ef7639baa9row5_col4\" class=\"data row5 col4\" >0.658933</td>\n",
       "                        <td id=\"T_bcb8e9d6_819d_11ea_9dfc_b7ef7639baa9row5_col5\" class=\"data row5 col5\" >0.310304</td>\n",
       "                        <td id=\"T_bcb8e9d6_819d_11ea_9dfc_b7ef7639baa9row5_col6\" class=\"data row5 col6\" >0.5</td>\n",
       "                        <td id=\"T_bcb8e9d6_819d_11ea_9dfc_b7ef7639baa9row5_col7\" class=\"data row5 col7\" >arxiv</td>\n",
       "            </tr>\n",
       "            <tr>\n",
       "                        <th id=\"T_bcb8e9d6_819d_11ea_9dfc_b7ef7639baa9level0_row6\" class=\"row_heading level0 row6\" >6</th>\n",
       "                        <td id=\"T_bcb8e9d6_819d_11ea_9dfc_b7ef7639baa9row6_col0\" class=\"data row6 col0\" >0.888763</td>\n",
       "                        <td id=\"T_bcb8e9d6_819d_11ea_9dfc_b7ef7639baa9row6_col1\" class=\"data row6 col1\" >0.371894</td>\n",
       "                        <td id=\"T_bcb8e9d6_819d_11ea_9dfc_b7ef7639baa9row6_col2\" class=\"data row6 col2\" >0.524371</td>\n",
       "                        <td id=\"T_bcb8e9d6_819d_11ea_9dfc_b7ef7639baa9row6_col3\" class=\"data row6 col3\" >0.546353</td>\n",
       "                        <td id=\"T_bcb8e9d6_819d_11ea_9dfc_b7ef7639baa9row6_col4\" class=\"data row6 col4\" >0.207918</td>\n",
       "                        <td id=\"T_bcb8e9d6_819d_11ea_9dfc_b7ef7639baa9row6_col5\" class=\"data row6 col5\" >0.281957</td>\n",
       "                        <td id=\"T_bcb8e9d6_819d_11ea_9dfc_b7ef7639baa9row6_col6\" class=\"data row6 col6\" >0.75</td>\n",
       "                        <td id=\"T_bcb8e9d6_819d_11ea_9dfc_b7ef7639baa9row6_col7\" class=\"data row6 col7\" >ulmfit</td>\n",
       "            </tr>\n",
       "            <tr>\n",
       "                        <th id=\"T_bcb8e9d6_819d_11ea_9dfc_b7ef7639baa9level0_row7\" class=\"row_heading level0 row7\" >7</th>\n",
       "                        <td id=\"T_bcb8e9d6_819d_11ea_9dfc_b7ef7639baa9row7_col0\" class=\"data row7 col0\" >0.924555</td>\n",
       "                        <td id=\"T_bcb8e9d6_819d_11ea_9dfc_b7ef7639baa9row7_col1\" class=\"data row7 col1\" >0.156952</td>\n",
       "                        <td id=\"T_bcb8e9d6_819d_11ea_9dfc_b7ef7639baa9row7_col2\" class=\"data row7 col2\" >0.26835</td>\n",
       "                        <td id=\"T_bcb8e9d6_819d_11ea_9dfc_b7ef7639baa9row7_col3\" class=\"data row7 col3\" >0.593208</td>\n",
       "                        <td id=\"T_bcb8e9d6_819d_11ea_9dfc_b7ef7639baa9row7_col4\" class=\"data row7 col4\" >0.107194</td>\n",
       "                        <td id=\"T_bcb8e9d6_819d_11ea_9dfc_b7ef7639baa9row7_col5\" class=\"data row7 col5\" >0.164018</td>\n",
       "                        <td id=\"T_bcb8e9d6_819d_11ea_9dfc_b7ef7639baa9row7_col6\" class=\"data row7 col6\" >0.75</td>\n",
       "                        <td id=\"T_bcb8e9d6_819d_11ea_9dfc_b7ef7639baa9row7_col7\" class=\"data row7 col7\" >arxiv</td>\n",
       "            </tr>\n",
       "            <tr>\n",
       "                        <th id=\"T_bcb8e9d6_819d_11ea_9dfc_b7ef7639baa9level0_row8\" class=\"row_heading level0 row8\" >8</th>\n",
       "                        <td id=\"T_bcb8e9d6_819d_11ea_9dfc_b7ef7639baa9row8_col0\" class=\"data row8 col0\" >0.973022</td>\n",
       "                        <td id=\"T_bcb8e9d6_819d_11ea_9dfc_b7ef7639baa9row8_col1\" class=\"data row8 col1\" >0.128313</td>\n",
       "                        <td id=\"T_bcb8e9d6_819d_11ea_9dfc_b7ef7639baa9row8_col2\" class=\"data row8 col2\" >0.226727</td>\n",
       "                        <td id=\"T_bcb8e9d6_819d_11ea_9dfc_b7ef7639baa9row8_col3\" class=\"data row8 col3\" >0.397104</td>\n",
       "                        <td id=\"T_bcb8e9d6_819d_11ea_9dfc_b7ef7639baa9row8_col4\" class=\"data row8 col4\" >0.0634357</td>\n",
       "                        <td id=\"T_bcb8e9d6_819d_11ea_9dfc_b7ef7639baa9row8_col5\" class=\"data row8 col5\" >0.0996829</td>\n",
       "                        <td id=\"T_bcb8e9d6_819d_11ea_9dfc_b7ef7639baa9row8_col6\" class=\"data row8 col6\" >0.95</td>\n",
       "                        <td id=\"T_bcb8e9d6_819d_11ea_9dfc_b7ef7639baa9row8_col7\" class=\"data row8 col7\" >ulmfit</td>\n",
       "            </tr>\n",
       "            <tr>\n",
       "                        <th id=\"T_bcb8e9d6_819d_11ea_9dfc_b7ef7639baa9level0_row9\" class=\"row_heading level0 row9\" >9</th>\n",
       "                        <td id=\"T_bcb8e9d6_819d_11ea_9dfc_b7ef7639baa9row9_col0\" class=\"data row9 col0\" >1</td>\n",
       "                        <td id=\"T_bcb8e9d6_819d_11ea_9dfc_b7ef7639baa9row9_col1\" class=\"data row9 col1\" >0.000177883</td>\n",
       "                        <td id=\"T_bcb8e9d6_819d_11ea_9dfc_b7ef7639baa9row9_col2\" class=\"data row9 col2\" >0.000355703</td>\n",
       "                        <td id=\"T_bcb8e9d6_819d_11ea_9dfc_b7ef7639baa9row9_col3\" class=\"data row9 col3\" >0.0113636</td>\n",
       "                        <td id=\"T_bcb8e9d6_819d_11ea_9dfc_b7ef7639baa9row9_col4\" class=\"data row9 col4\" >9.66324e-05</td>\n",
       "                        <td id=\"T_bcb8e9d6_819d_11ea_9dfc_b7ef7639baa9row9_col5\" class=\"data row9 col5\" >0.000191633</td>\n",
       "                        <td id=\"T_bcb8e9d6_819d_11ea_9dfc_b7ef7639baa9row9_col6\" class=\"data row9 col6\" >0.95</td>\n",
       "                        <td id=\"T_bcb8e9d6_819d_11ea_9dfc_b7ef7639baa9row9_col7\" class=\"data row9 col7\" >arxiv</td>\n",
       "            </tr>\n",
       "            <tr>\n",
       "                        <th id=\"T_bcb8e9d6_819d_11ea_9dfc_b7ef7639baa9level0_row10\" class=\"row_heading level0 row10\" >10</th>\n",
       "                        <td id=\"T_bcb8e9d6_819d_11ea_9dfc_b7ef7639baa9row10_col0\" class=\"data row10 col0\" >0.796603</td>\n",
       "                        <td id=\"T_bcb8e9d6_819d_11ea_9dfc_b7ef7639baa9row10_col1\" class=\"data row10 col1\" >0.461666</td>\n",
       "                        <td id=\"T_bcb8e9d6_819d_11ea_9dfc_b7ef7639baa9row10_col2\" class=\"data row10 col2\" >0.584556</td>\n",
       "                        <td id=\"T_bcb8e9d6_819d_11ea_9dfc_b7ef7639baa9row10_col3\" class=\"data row10 col3\" >0.541692</td>\n",
       "                        <td id=\"T_bcb8e9d6_819d_11ea_9dfc_b7ef7639baa9row10_col4\" class=\"data row10 col4\" >0.300764</td>\n",
       "                        <td id=\"T_bcb8e9d6_819d_11ea_9dfc_b7ef7639baa9row10_col5\" class=\"data row10 col5\" >0.366353</td>\n",
       "                        <td id=\"T_bcb8e9d6_819d_11ea_9dfc_b7ef7639baa9row10_col6\" class=\"data row10 col6\" >top-1</td>\n",
       "                        <td id=\"T_bcb8e9d6_819d_11ea_9dfc_b7ef7639baa9row10_col7\" class=\"data row10 col7\" >ulmfit</td>\n",
       "            </tr>\n",
       "            <tr>\n",
       "                        <th id=\"T_bcb8e9d6_819d_11ea_9dfc_b7ef7639baa9level0_row11\" class=\"row_heading level0 row11\" >11</th>\n",
       "                        <td id=\"T_bcb8e9d6_819d_11ea_9dfc_b7ef7639baa9row11_col0\" class=\"data row11 col0\" >0.847862</td>\n",
       "                        <td id=\"T_bcb8e9d6_819d_11ea_9dfc_b7ef7639baa9row11_col1\" class=\"data row11 col1\" >0.491373</td>\n",
       "                        <td id=\"T_bcb8e9d6_819d_11ea_9dfc_b7ef7639baa9row11_col2\" class=\"data row11 col2\" >0.622171</td>\n",
       "                        <td id=\"T_bcb8e9d6_819d_11ea_9dfc_b7ef7639baa9row11_col3\" class=\"data row11 col3\" >0.648712</td>\n",
       "                        <td id=\"T_bcb8e9d6_819d_11ea_9dfc_b7ef7639baa9row11_col4\" class=\"data row11 col4\" >0.361714</td>\n",
       "                        <td id=\"T_bcb8e9d6_819d_11ea_9dfc_b7ef7639baa9row11_col5\" class=\"data row11 col5\" >0.442854</td>\n",
       "                        <td id=\"T_bcb8e9d6_819d_11ea_9dfc_b7ef7639baa9row11_col6\" class=\"data row11 col6\" >top-1</td>\n",
       "                        <td id=\"T_bcb8e9d6_819d_11ea_9dfc_b7ef7639baa9row11_col7\" class=\"data row11 col7\" >arxiv</td>\n",
       "            </tr>\n",
       "    </tbody></table>"
      ],
      "text/plain": [
       "<pandas.io.formats.style.Styler at 0x7fa6f3404990>"
      ]
     },
     "execution_count": 98,
     "metadata": {},
     "output_type": "execute_result"
    }
   ],
   "source": [
    "stats_df.style.highlight_max()"
   ]
  },
  {
   "cell_type": "code",
   "execution_count": 99,
   "metadata": {},
   "outputs": [],
   "source": [
    "from matplotlib import pyplot as plt\n",
    "%matplotlib inline"
   ]
  },
  {
   "cell_type": "code",
   "execution_count": 100,
   "metadata": {},
   "outputs": [
    {
     "data": {
      "text/plain": [
       "0     0.628356\n",
       "2     0.670032\n",
       "4     0.640540\n",
       "6     0.524371\n",
       "8     0.226727\n",
       "10    0.584556\n",
       "Name: micro f1, dtype: float64"
      ]
     },
     "execution_count": 100,
     "metadata": {},
     "output_type": "execute_result"
    }
   ],
   "source": [
    "stats_df[stats_df.classifier == \"ulmfit\"][\"micro f1\"]"
   ]
  },
  {
   "cell_type": "code",
   "execution_count": 88,
   "metadata": {},
   "outputs": [
    {
     "data": {
      "text/plain": [
       "array([[9496,   14],\n",
       "       [ 130,  134]])"
      ]
     },
     "execution_count": 88,
     "metadata": {},
     "output_type": "execute_result"
    }
   ],
   "source": [
    "test_cm[10]"
   ]
  },
  {
   "cell_type": "code",
   "execution_count": 87,
   "metadata": {},
   "outputs": [],
   "source": [
    "current_arxiv_stats, current_arxiv_cm = get_test_stats(current_arxiv_preds, test_labels, \"top-1\")"
   ]
  },
  {
   "cell_type": "code",
   "execution_count": 89,
   "metadata": {},
   "outputs": [
    {
     "data": {
      "text/plain": [
       "array([[9501,    9],\n",
       "       [  85,  179]])"
      ]
     },
     "execution_count": 89,
     "metadata": {},
     "output_type": "execute_result"
    }
   ],
   "source": [
    "current_arxiv_cm[10]"
   ]
  },
  {
   "cell_type": "code",
   "execution_count": 90,
   "metadata": {},
   "outputs": [
    {
     "data": {
      "text/plain": [
       "{'micro p': 0.7966032330673215,\n",
       " 'micro r': 0.46166617254669434,\n",
       " 'micro f1': 0.5845564773452457,\n",
       " 'macro p': 0.541691849804108,\n",
       " 'macro r': 0.3007641376532098,\n",
       " 'macro f1': 0.36635266221111384}"
      ]
     },
     "execution_count": 90,
     "metadata": {},
     "output_type": "execute_result"
    }
   ],
   "source": [
    "test_stats"
   ]
  },
  {
   "cell_type": "code",
   "execution_count": 91,
   "metadata": {},
   "outputs": [
    {
     "data": {
      "text/plain": [
       "{'micro p': 0.8478616738285246,\n",
       " 'micro r': 0.4913726652831307,\n",
       " 'micro f1': 0.6221705018957167,\n",
       " 'macro p': 0.6487122758800247,\n",
       " 'macro r': 0.3617137034916534,\n",
       " 'macro f1': 0.4428544074677056}"
      ]
     },
     "execution_count": 91,
     "metadata": {},
     "output_type": "execute_result"
    }
   ],
   "source": [
    "current_arxiv_stats"
   ]
  },
  {
   "cell_type": "markdown",
   "metadata": {},
   "source": [
    "## Test with Full Text\n",
    "\n",
    "This tests the ULMFiT classifier with full paper's text instead of title and abstract. Please not, however, that the classifier wasn't trained on full texts."
   ]
  },
  {
   "cell_type": "code",
   "execution_count": 113,
   "metadata": {},
   "outputs": [
    {
     "name": "stdout",
     "output_type": "stream",
     "text": [
      "14 files were not found\n"
     ]
    }
   ],
   "source": [
    "FULL_TEXT_PATH = Path(\"classifier_fulltext\")\n",
    "\n",
    "not_found = 0\n",
    "for i, idx in enumerate(test_df.index):\n",
    "    arxiv_id = test.iloc[i].arxiv_id\n",
    "    arxiv_id.replace(\"/\", \"_\")\n",
    "    filename = FULL_TEXT_PATH / f\"{arxiv_id}.txt\"\n",
    "    try:\n",
    "        with filename.open() as f:\n",
    "            test_df.loc[idx, \"fulltext\"] = f.read()\n",
    "    except FileNotFoundError:\n",
    "        test_df.loc[idx, \"fulltext\"] = test_df.loc[idx, \"abstract\"] + \"\\n\" + test_df.loc[idx, \"abstract\"]\n",
    "        not_found += 1\n",
    "\n",
    "print(f\"{not_found} files were not found\")"
   ]
  },
  {
   "cell_type": "code",
   "execution_count": 117,
   "metadata": {},
   "outputs": [],
   "source": [
    "ft_test_tl = TextList.from_df(test_df, MODELS_PATH, cols=[\"title\", \"fulltext\"], processor=processor)\n",
    "\n",
    "learn.data.add_test(ft_test_tl)"
   ]
  },
  {
   "cell_type": "code",
   "execution_count": 118,
   "metadata": {},
   "outputs": [],
   "source": [
    "ft_test_preds, _ = learn.get_preds(DatasetType.Test, ordered=True)"
   ]
  },
  {
   "cell_type": "code",
   "execution_count": 119,
   "metadata": {},
   "outputs": [
    {
     "name": "stderr",
     "output_type": "stream",
     "text": [
      "/home/ubuntu/anaconda3/envs/fastai/lib/python3.7/site-packages/sklearn/metrics/classification.py:1437: UndefinedMetricWarning: Precision is ill-defined and being set to 0.0 in labels with no predicted samples.\n",
      "  'precision', 'predicted', average, warn_for)\n",
      "/home/ubuntu/anaconda3/envs/fastai/lib/python3.7/site-packages/sklearn/metrics/classification.py:1439: UndefinedMetricWarning: Recall is ill-defined and being set to 0.0 in labels with no true samples.\n",
      "  'recall', 'true', average, warn_for)\n",
      "/home/ubuntu/anaconda3/envs/fastai/lib/python3.7/site-packages/sklearn/metrics/classification.py:1437: UndefinedMetricWarning: F-score is ill-defined and being set to 0.0 in labels with no predicted samples.\n",
      "  'precision', 'predicted', average, warn_for)\n",
      "/home/ubuntu/anaconda3/envs/fastai/lib/python3.7/site-packages/sklearn/metrics/classification.py:1439: UndefinedMetricWarning: F-score is ill-defined and being set to 0.0 in labels with no true samples.\n",
      "  'recall', 'true', average, warn_for)\n"
     ]
    }
   ],
   "source": [
    "test_stats_all = []\n",
    "for threshold in [0.125, 0.25, 0.5, 0.75, 0.95, \"top-1\"]:\n",
    "    test_stats, test_cm = get_test_stats(test_preds, test_labels, threshold)\n",
    "    test_stats['threshold'] = threshold\n",
    "    test_stats['classifier'] = \"ulmfit\"\n",
    "    test_stats_all.append(test_stats)\n",
    "\n",
    "    test_stats, test_cm = get_test_stats(ft_test_preds, test_labels, threshold)\n",
    "    test_stats['threshold'] = threshold\n",
    "    test_stats['classifier'] = \"ulmfit-fulltext\"\n",
    "    test_stats_all.append(test_stats)\n",
    "\n",
    "    \n",
    "    test_stats, test_cm = get_test_stats(current_arxiv_preds, test_labels, threshold)\n",
    "    test_stats['threshold'] = threshold\n",
    "    test_stats['classifier'] = \"arxiv\"\n",
    "    test_stats_all.append(test_stats)"
   ]
  },
  {
   "cell_type": "code",
   "execution_count": 120,
   "metadata": {},
   "outputs": [
    {
     "data": {
      "text/html": [
       "<style  type=\"text/css\" >\n",
       "    #T_3a56c458_81ad_11ea_9dfc_b7ef7639baa9row0_col5 {\n",
       "            background-color:  yellow;\n",
       "        }    #T_3a56c458_81ad_11ea_9dfc_b7ef7639baa9row2_col1 {\n",
       "            background-color:  yellow;\n",
       "        }    #T_3a56c458_81ad_11ea_9dfc_b7ef7639baa9row2_col4 {\n",
       "            background-color:  yellow;\n",
       "        }    #T_3a56c458_81ad_11ea_9dfc_b7ef7639baa9row3_col2 {\n",
       "            background-color:  yellow;\n",
       "        }    #T_3a56c458_81ad_11ea_9dfc_b7ef7639baa9row5_col1 {\n",
       "            background-color:  yellow;\n",
       "        }    #T_3a56c458_81ad_11ea_9dfc_b7ef7639baa9row5_col4 {\n",
       "            background-color:  yellow;\n",
       "        }    #T_3a56c458_81ad_11ea_9dfc_b7ef7639baa9row14_col0 {\n",
       "            background-color:  yellow;\n",
       "        }    #T_3a56c458_81ad_11ea_9dfc_b7ef7639baa9row17_col3 {\n",
       "            background-color:  yellow;\n",
       "        }</style><table id=\"T_3a56c458_81ad_11ea_9dfc_b7ef7639baa9\" ><thead>    <tr>        <th class=\"blank level0\" ></th>        <th class=\"col_heading level0 col0\" >micro p</th>        <th class=\"col_heading level0 col1\" >micro r</th>        <th class=\"col_heading level0 col2\" >micro f1</th>        <th class=\"col_heading level0 col3\" >macro p</th>        <th class=\"col_heading level0 col4\" >macro r</th>        <th class=\"col_heading level0 col5\" >macro f1</th>        <th class=\"col_heading level0 col6\" >threshold</th>        <th class=\"col_heading level0 col7\" >classifier</th>    </tr></thead><tbody>\n",
       "                <tr>\n",
       "                        <th id=\"T_3a56c458_81ad_11ea_9dfc_b7ef7639baa9level0_row0\" class=\"row_heading level0 row0\" >0</th>\n",
       "                        <td id=\"T_3a56c458_81ad_11ea_9dfc_b7ef7639baa9row0_col0\" class=\"data row0 col0\" >0.519106</td>\n",
       "                        <td id=\"T_3a56c458_81ad_11ea_9dfc_b7ef7639baa9row0_col1\" class=\"data row0 col1\" >0.795849</td>\n",
       "                        <td id=\"T_3a56c458_81ad_11ea_9dfc_b7ef7639baa9row0_col2\" class=\"data row0 col2\" >0.628356</td>\n",
       "                        <td id=\"T_3a56c458_81ad_11ea_9dfc_b7ef7639baa9row0_col3\" class=\"data row0 col3\" >0.397502</td>\n",
       "                        <td id=\"T_3a56c458_81ad_11ea_9dfc_b7ef7639baa9row0_col4\" class=\"data row0 col4\" >0.563681</td>\n",
       "                        <td id=\"T_3a56c458_81ad_11ea_9dfc_b7ef7639baa9row0_col5\" class=\"data row0 col5\" >0.451377</td>\n",
       "                        <td id=\"T_3a56c458_81ad_11ea_9dfc_b7ef7639baa9row0_col6\" class=\"data row0 col6\" >0.125</td>\n",
       "                        <td id=\"T_3a56c458_81ad_11ea_9dfc_b7ef7639baa9row0_col7\" class=\"data row0 col7\" >ulmfit</td>\n",
       "            </tr>\n",
       "            <tr>\n",
       "                        <th id=\"T_3a56c458_81ad_11ea_9dfc_b7ef7639baa9level0_row1\" class=\"row_heading level0 row1\" >1</th>\n",
       "                        <td id=\"T_3a56c458_81ad_11ea_9dfc_b7ef7639baa9row1_col0\" class=\"data row1 col0\" >0.423888</td>\n",
       "                        <td id=\"T_3a56c458_81ad_11ea_9dfc_b7ef7639baa9row1_col1\" class=\"data row1 col1\" >0.683071</td>\n",
       "                        <td id=\"T_3a56c458_81ad_11ea_9dfc_b7ef7639baa9row1_col2\" class=\"data row1 col2\" >0.523137</td>\n",
       "                        <td id=\"T_3a56c458_81ad_11ea_9dfc_b7ef7639baa9row1_col3\" class=\"data row1 col3\" >0.339298</td>\n",
       "                        <td id=\"T_3a56c458_81ad_11ea_9dfc_b7ef7639baa9row1_col4\" class=\"data row1 col4\" >0.494873</td>\n",
       "                        <td id=\"T_3a56c458_81ad_11ea_9dfc_b7ef7639baa9row1_col5\" class=\"data row1 col5\" >0.38021</td>\n",
       "                        <td id=\"T_3a56c458_81ad_11ea_9dfc_b7ef7639baa9row1_col6\" class=\"data row1 col6\" >0.125</td>\n",
       "                        <td id=\"T_3a56c458_81ad_11ea_9dfc_b7ef7639baa9row1_col7\" class=\"data row1 col7\" >ulmfit-fulltext</td>\n",
       "            </tr>\n",
       "            <tr>\n",
       "                        <th id=\"T_3a56c458_81ad_11ea_9dfc_b7ef7639baa9level0_row2\" class=\"row_heading level0 row2\" >2</th>\n",
       "                        <td id=\"T_3a56c458_81ad_11ea_9dfc_b7ef7639baa9row2_col0\" class=\"data row2 col0\" >0.275219</td>\n",
       "                        <td id=\"T_3a56c458_81ad_11ea_9dfc_b7ef7639baa9row2_col1\" class=\"data row2 col1\" >0.837</td>\n",
       "                        <td id=\"T_3a56c458_81ad_11ea_9dfc_b7ef7639baa9row2_col2\" class=\"data row2 col2\" >0.414232</td>\n",
       "                        <td id=\"T_3a56c458_81ad_11ea_9dfc_b7ef7639baa9row2_col3\" class=\"data row2 col3\" >0.208787</td>\n",
       "                        <td id=\"T_3a56c458_81ad_11ea_9dfc_b7ef7639baa9row2_col4\" class=\"data row2 col4\" >0.675549</td>\n",
       "                        <td id=\"T_3a56c458_81ad_11ea_9dfc_b7ef7639baa9row2_col5\" class=\"data row2 col5\" >0.303395</td>\n",
       "                        <td id=\"T_3a56c458_81ad_11ea_9dfc_b7ef7639baa9row2_col6\" class=\"data row2 col6\" >0.125</td>\n",
       "                        <td id=\"T_3a56c458_81ad_11ea_9dfc_b7ef7639baa9row2_col7\" class=\"data row2 col7\" >arxiv</td>\n",
       "            </tr>\n",
       "            <tr>\n",
       "                        <th id=\"T_3a56c458_81ad_11ea_9dfc_b7ef7639baa9level0_row3\" class=\"row_heading level0 row3\" >3</th>\n",
       "                        <td id=\"T_3a56c458_81ad_11ea_9dfc_b7ef7639baa9row3_col0\" class=\"data row3 col0\" >0.645424</td>\n",
       "                        <td id=\"T_3a56c458_81ad_11ea_9dfc_b7ef7639baa9row3_col1\" class=\"data row3 col1\" >0.696591</td>\n",
       "                        <td id=\"T_3a56c458_81ad_11ea_9dfc_b7ef7639baa9row3_col2\" class=\"data row3 col2\" >0.670032</td>\n",
       "                        <td id=\"T_3a56c458_81ad_11ea_9dfc_b7ef7639baa9row3_col3\" class=\"data row3 col3\" >0.476905</td>\n",
       "                        <td id=\"T_3a56c458_81ad_11ea_9dfc_b7ef7639baa9row3_col4\" class=\"data row3 col4\" >0.46244</td>\n",
       "                        <td id=\"T_3a56c458_81ad_11ea_9dfc_b7ef7639baa9row3_col5\" class=\"data row3 col5\" >0.449281</td>\n",
       "                        <td id=\"T_3a56c458_81ad_11ea_9dfc_b7ef7639baa9row3_col6\" class=\"data row3 col6\" >0.25</td>\n",
       "                        <td id=\"T_3a56c458_81ad_11ea_9dfc_b7ef7639baa9row3_col7\" class=\"data row3 col7\" >ulmfit</td>\n",
       "            </tr>\n",
       "            <tr>\n",
       "                        <th id=\"T_3a56c458_81ad_11ea_9dfc_b7ef7639baa9level0_row4\" class=\"row_heading level0 row4\" >4</th>\n",
       "                        <td id=\"T_3a56c458_81ad_11ea_9dfc_b7ef7639baa9row4_col0\" class=\"data row4 col0\" >0.558378</td>\n",
       "                        <td id=\"T_3a56c458_81ad_11ea_9dfc_b7ef7639baa9row4_col1\" class=\"data row4 col1\" >0.564305</td>\n",
       "                        <td id=\"T_3a56c458_81ad_11ea_9dfc_b7ef7639baa9row4_col2\" class=\"data row4 col2\" >0.561326</td>\n",
       "                        <td id=\"T_3a56c458_81ad_11ea_9dfc_b7ef7639baa9row4_col3\" class=\"data row4 col3\" >0.426493</td>\n",
       "                        <td id=\"T_3a56c458_81ad_11ea_9dfc_b7ef7639baa9row4_col4\" class=\"data row4 col4\" >0.389051</td>\n",
       "                        <td id=\"T_3a56c458_81ad_11ea_9dfc_b7ef7639baa9row4_col5\" class=\"data row4 col5\" >0.379359</td>\n",
       "                        <td id=\"T_3a56c458_81ad_11ea_9dfc_b7ef7639baa9row4_col6\" class=\"data row4 col6\" >0.25</td>\n",
       "                        <td id=\"T_3a56c458_81ad_11ea_9dfc_b7ef7639baa9row4_col7\" class=\"data row4 col7\" >ulmfit-fulltext</td>\n",
       "            </tr>\n",
       "            <tr>\n",
       "                        <th id=\"T_3a56c458_81ad_11ea_9dfc_b7ef7639baa9level0_row5\" class=\"row_heading level0 row5\" >5</th>\n",
       "                        <td id=\"T_3a56c458_81ad_11ea_9dfc_b7ef7639baa9row5_col0\" class=\"data row5 col0\" >0.275219</td>\n",
       "                        <td id=\"T_3a56c458_81ad_11ea_9dfc_b7ef7639baa9row5_col1\" class=\"data row5 col1\" >0.837</td>\n",
       "                        <td id=\"T_3a56c458_81ad_11ea_9dfc_b7ef7639baa9row5_col2\" class=\"data row5 col2\" >0.414232</td>\n",
       "                        <td id=\"T_3a56c458_81ad_11ea_9dfc_b7ef7639baa9row5_col3\" class=\"data row5 col3\" >0.208787</td>\n",
       "                        <td id=\"T_3a56c458_81ad_11ea_9dfc_b7ef7639baa9row5_col4\" class=\"data row5 col4\" >0.675549</td>\n",
       "                        <td id=\"T_3a56c458_81ad_11ea_9dfc_b7ef7639baa9row5_col5\" class=\"data row5 col5\" >0.303395</td>\n",
       "                        <td id=\"T_3a56c458_81ad_11ea_9dfc_b7ef7639baa9row5_col6\" class=\"data row5 col6\" >0.25</td>\n",
       "                        <td id=\"T_3a56c458_81ad_11ea_9dfc_b7ef7639baa9row5_col7\" class=\"data row5 col7\" >arxiv</td>\n",
       "            </tr>\n",
       "            <tr>\n",
       "                        <th id=\"T_3a56c458_81ad_11ea_9dfc_b7ef7639baa9level0_row6\" class=\"row_heading level0 row6\" >6</th>\n",
       "                        <td id=\"T_3a56c458_81ad_11ea_9dfc_b7ef7639baa9row6_col0\" class=\"data row6 col0\" >0.787475</td>\n",
       "                        <td id=\"T_3a56c458_81ad_11ea_9dfc_b7ef7639baa9row6_col1\" class=\"data row6 col1\" >0.539816</td>\n",
       "                        <td id=\"T_3a56c458_81ad_11ea_9dfc_b7ef7639baa9row6_col2\" class=\"data row6 col2\" >0.64054</td>\n",
       "                        <td id=\"T_3a56c458_81ad_11ea_9dfc_b7ef7639baa9row6_col3\" class=\"data row6 col3\" >0.546322</td>\n",
       "                        <td id=\"T_3a56c458_81ad_11ea_9dfc_b7ef7639baa9row6_col4\" class=\"data row6 col4\" >0.328543</td>\n",
       "                        <td id=\"T_3a56c458_81ad_11ea_9dfc_b7ef7639baa9row6_col5\" class=\"data row6 col5\" >0.390469</td>\n",
       "                        <td id=\"T_3a56c458_81ad_11ea_9dfc_b7ef7639baa9row6_col6\" class=\"data row6 col6\" >0.5</td>\n",
       "                        <td id=\"T_3a56c458_81ad_11ea_9dfc_b7ef7639baa9row6_col7\" class=\"data row6 col7\" >ulmfit</td>\n",
       "            </tr>\n",
       "            <tr>\n",
       "                        <th id=\"T_3a56c458_81ad_11ea_9dfc_b7ef7639baa9level0_row7\" class=\"row_heading level0 row7\" >7</th>\n",
       "                        <td id=\"T_3a56c458_81ad_11ea_9dfc_b7ef7639baa9row7_col0\" class=\"data row7 col0\" >0.736624</td>\n",
       "                        <td id=\"T_3a56c458_81ad_11ea_9dfc_b7ef7639baa9row7_col1\" class=\"data row7 col1\" >0.4</td>\n",
       "                        <td id=\"T_3a56c458_81ad_11ea_9dfc_b7ef7639baa9row7_col2\" class=\"data row7 col2\" >0.518464</td>\n",
       "                        <td id=\"T_3a56c458_81ad_11ea_9dfc_b7ef7639baa9row7_col3\" class=\"data row7 col3\" >0.505254</td>\n",
       "                        <td id=\"T_3a56c458_81ad_11ea_9dfc_b7ef7639baa9row7_col4\" class=\"data row7 col4\" >0.256326</td>\n",
       "                        <td id=\"T_3a56c458_81ad_11ea_9dfc_b7ef7639baa9row7_col5\" class=\"data row7 col5\" >0.31673</td>\n",
       "                        <td id=\"T_3a56c458_81ad_11ea_9dfc_b7ef7639baa9row7_col6\" class=\"data row7 col6\" >0.5</td>\n",
       "                        <td id=\"T_3a56c458_81ad_11ea_9dfc_b7ef7639baa9row7_col7\" class=\"data row7 col7\" >ulmfit-fulltext</td>\n",
       "            </tr>\n",
       "            <tr>\n",
       "                        <th id=\"T_3a56c458_81ad_11ea_9dfc_b7ef7639baa9level0_row8\" class=\"row_heading level0 row8\" >8</th>\n",
       "                        <td id=\"T_3a56c458_81ad_11ea_9dfc_b7ef7639baa9row8_col0\" class=\"data row8 col0\" >0.286006</td>\n",
       "                        <td id=\"T_3a56c458_81ad_11ea_9dfc_b7ef7639baa9row8_col1\" class=\"data row8 col1\" >0.815061</td>\n",
       "                        <td id=\"T_3a56c458_81ad_11ea_9dfc_b7ef7639baa9row8_col2\" class=\"data row8 col2\" >0.423429</td>\n",
       "                        <td id=\"T_3a56c458_81ad_11ea_9dfc_b7ef7639baa9row8_col3\" class=\"data row8 col3\" >0.219256</td>\n",
       "                        <td id=\"T_3a56c458_81ad_11ea_9dfc_b7ef7639baa9row8_col4\" class=\"data row8 col4\" >0.658933</td>\n",
       "                        <td id=\"T_3a56c458_81ad_11ea_9dfc_b7ef7639baa9row8_col5\" class=\"data row8 col5\" >0.310304</td>\n",
       "                        <td id=\"T_3a56c458_81ad_11ea_9dfc_b7ef7639baa9row8_col6\" class=\"data row8 col6\" >0.5</td>\n",
       "                        <td id=\"T_3a56c458_81ad_11ea_9dfc_b7ef7639baa9row8_col7\" class=\"data row8 col7\" >arxiv</td>\n",
       "            </tr>\n",
       "            <tr>\n",
       "                        <th id=\"T_3a56c458_81ad_11ea_9dfc_b7ef7639baa9level0_row9\" class=\"row_heading level0 row9\" >9</th>\n",
       "                        <td id=\"T_3a56c458_81ad_11ea_9dfc_b7ef7639baa9row9_col0\" class=\"data row9 col0\" >0.888763</td>\n",
       "                        <td id=\"T_3a56c458_81ad_11ea_9dfc_b7ef7639baa9row9_col1\" class=\"data row9 col1\" >0.371894</td>\n",
       "                        <td id=\"T_3a56c458_81ad_11ea_9dfc_b7ef7639baa9row9_col2\" class=\"data row9 col2\" >0.524371</td>\n",
       "                        <td id=\"T_3a56c458_81ad_11ea_9dfc_b7ef7639baa9row9_col3\" class=\"data row9 col3\" >0.546353</td>\n",
       "                        <td id=\"T_3a56c458_81ad_11ea_9dfc_b7ef7639baa9row9_col4\" class=\"data row9 col4\" >0.207918</td>\n",
       "                        <td id=\"T_3a56c458_81ad_11ea_9dfc_b7ef7639baa9row9_col5\" class=\"data row9 col5\" >0.281957</td>\n",
       "                        <td id=\"T_3a56c458_81ad_11ea_9dfc_b7ef7639baa9row9_col6\" class=\"data row9 col6\" >0.75</td>\n",
       "                        <td id=\"T_3a56c458_81ad_11ea_9dfc_b7ef7639baa9row9_col7\" class=\"data row9 col7\" >ulmfit</td>\n",
       "            </tr>\n",
       "            <tr>\n",
       "                        <th id=\"T_3a56c458_81ad_11ea_9dfc_b7ef7639baa9level0_row10\" class=\"row_heading level0 row10\" >10</th>\n",
       "                        <td id=\"T_3a56c458_81ad_11ea_9dfc_b7ef7639baa9row10_col0\" class=\"data row10 col0\" >0.865161</td>\n",
       "                        <td id=\"T_3a56c458_81ad_11ea_9dfc_b7ef7639baa9row10_col1\" class=\"data row10 col1\" >0.243107</td>\n",
       "                        <td id=\"T_3a56c458_81ad_11ea_9dfc_b7ef7639baa9row10_col2\" class=\"data row10 col2\" >0.379559</td>\n",
       "                        <td id=\"T_3a56c458_81ad_11ea_9dfc_b7ef7639baa9row10_col3\" class=\"data row10 col3\" >0.518191</td>\n",
       "                        <td id=\"T_3a56c458_81ad_11ea_9dfc_b7ef7639baa9row10_col4\" class=\"data row10 col4\" >0.147253</td>\n",
       "                        <td id=\"T_3a56c458_81ad_11ea_9dfc_b7ef7639baa9row10_col5\" class=\"data row10 col5\" >0.20723</td>\n",
       "                        <td id=\"T_3a56c458_81ad_11ea_9dfc_b7ef7639baa9row10_col6\" class=\"data row10 col6\" >0.75</td>\n",
       "                        <td id=\"T_3a56c458_81ad_11ea_9dfc_b7ef7639baa9row10_col7\" class=\"data row10 col7\" >ulmfit-fulltext</td>\n",
       "            </tr>\n",
       "            <tr>\n",
       "                        <th id=\"T_3a56c458_81ad_11ea_9dfc_b7ef7639baa9level0_row11\" class=\"row_heading level0 row11\" >11</th>\n",
       "                        <td id=\"T_3a56c458_81ad_11ea_9dfc_b7ef7639baa9row11_col0\" class=\"data row11 col0\" >0.924555</td>\n",
       "                        <td id=\"T_3a56c458_81ad_11ea_9dfc_b7ef7639baa9row11_col1\" class=\"data row11 col1\" >0.156952</td>\n",
       "                        <td id=\"T_3a56c458_81ad_11ea_9dfc_b7ef7639baa9row11_col2\" class=\"data row11 col2\" >0.26835</td>\n",
       "                        <td id=\"T_3a56c458_81ad_11ea_9dfc_b7ef7639baa9row11_col3\" class=\"data row11 col3\" >0.593208</td>\n",
       "                        <td id=\"T_3a56c458_81ad_11ea_9dfc_b7ef7639baa9row11_col4\" class=\"data row11 col4\" >0.107194</td>\n",
       "                        <td id=\"T_3a56c458_81ad_11ea_9dfc_b7ef7639baa9row11_col5\" class=\"data row11 col5\" >0.164018</td>\n",
       "                        <td id=\"T_3a56c458_81ad_11ea_9dfc_b7ef7639baa9row11_col6\" class=\"data row11 col6\" >0.75</td>\n",
       "                        <td id=\"T_3a56c458_81ad_11ea_9dfc_b7ef7639baa9row11_col7\" class=\"data row11 col7\" >arxiv</td>\n",
       "            </tr>\n",
       "            <tr>\n",
       "                        <th id=\"T_3a56c458_81ad_11ea_9dfc_b7ef7639baa9level0_row12\" class=\"row_heading level0 row12\" >12</th>\n",
       "                        <td id=\"T_3a56c458_81ad_11ea_9dfc_b7ef7639baa9row12_col0\" class=\"data row12 col0\" >0.973022</td>\n",
       "                        <td id=\"T_3a56c458_81ad_11ea_9dfc_b7ef7639baa9row12_col1\" class=\"data row12 col1\" >0.128313</td>\n",
       "                        <td id=\"T_3a56c458_81ad_11ea_9dfc_b7ef7639baa9row12_col2\" class=\"data row12 col2\" >0.226727</td>\n",
       "                        <td id=\"T_3a56c458_81ad_11ea_9dfc_b7ef7639baa9row12_col3\" class=\"data row12 col3\" >0.397104</td>\n",
       "                        <td id=\"T_3a56c458_81ad_11ea_9dfc_b7ef7639baa9row12_col4\" class=\"data row12 col4\" >0.0634357</td>\n",
       "                        <td id=\"T_3a56c458_81ad_11ea_9dfc_b7ef7639baa9row12_col5\" class=\"data row12 col5\" >0.0996829</td>\n",
       "                        <td id=\"T_3a56c458_81ad_11ea_9dfc_b7ef7639baa9row12_col6\" class=\"data row12 col6\" >0.95</td>\n",
       "                        <td id=\"T_3a56c458_81ad_11ea_9dfc_b7ef7639baa9row12_col7\" class=\"data row12 col7\" >ulmfit</td>\n",
       "            </tr>\n",
       "            <tr>\n",
       "                        <th id=\"T_3a56c458_81ad_11ea_9dfc_b7ef7639baa9level0_row13\" class=\"row_heading level0 row13\" >13</th>\n",
       "                        <td id=\"T_3a56c458_81ad_11ea_9dfc_b7ef7639baa9row13_col0\" class=\"data row13 col0\" >0.965079</td>\n",
       "                        <td id=\"T_3a56c458_81ad_11ea_9dfc_b7ef7639baa9row13_col1\" class=\"data row13 col1\" >0.072102</td>\n",
       "                        <td id=\"T_3a56c458_81ad_11ea_9dfc_b7ef7639baa9row13_col2\" class=\"data row13 col2\" >0.134179</td>\n",
       "                        <td id=\"T_3a56c458_81ad_11ea_9dfc_b7ef7639baa9row13_col3\" class=\"data row13 col3\" >0.314222</td>\n",
       "                        <td id=\"T_3a56c458_81ad_11ea_9dfc_b7ef7639baa9row13_col4\" class=\"data row13 col4\" >0.0378147</td>\n",
       "                        <td id=\"T_3a56c458_81ad_11ea_9dfc_b7ef7639baa9row13_col5\" class=\"data row13 col5\" >0.0614865</td>\n",
       "                        <td id=\"T_3a56c458_81ad_11ea_9dfc_b7ef7639baa9row13_col6\" class=\"data row13 col6\" >0.95</td>\n",
       "                        <td id=\"T_3a56c458_81ad_11ea_9dfc_b7ef7639baa9row13_col7\" class=\"data row13 col7\" >ulmfit-fulltext</td>\n",
       "            </tr>\n",
       "            <tr>\n",
       "                        <th id=\"T_3a56c458_81ad_11ea_9dfc_b7ef7639baa9level0_row14\" class=\"row_heading level0 row14\" >14</th>\n",
       "                        <td id=\"T_3a56c458_81ad_11ea_9dfc_b7ef7639baa9row14_col0\" class=\"data row14 col0\" >1</td>\n",
       "                        <td id=\"T_3a56c458_81ad_11ea_9dfc_b7ef7639baa9row14_col1\" class=\"data row14 col1\" >0.000177883</td>\n",
       "                        <td id=\"T_3a56c458_81ad_11ea_9dfc_b7ef7639baa9row14_col2\" class=\"data row14 col2\" >0.000355703</td>\n",
       "                        <td id=\"T_3a56c458_81ad_11ea_9dfc_b7ef7639baa9row14_col3\" class=\"data row14 col3\" >0.0113636</td>\n",
       "                        <td id=\"T_3a56c458_81ad_11ea_9dfc_b7ef7639baa9row14_col4\" class=\"data row14 col4\" >9.66324e-05</td>\n",
       "                        <td id=\"T_3a56c458_81ad_11ea_9dfc_b7ef7639baa9row14_col5\" class=\"data row14 col5\" >0.000191633</td>\n",
       "                        <td id=\"T_3a56c458_81ad_11ea_9dfc_b7ef7639baa9row14_col6\" class=\"data row14 col6\" >0.95</td>\n",
       "                        <td id=\"T_3a56c458_81ad_11ea_9dfc_b7ef7639baa9row14_col7\" class=\"data row14 col7\" >arxiv</td>\n",
       "            </tr>\n",
       "            <tr>\n",
       "                        <th id=\"T_3a56c458_81ad_11ea_9dfc_b7ef7639baa9level0_row15\" class=\"row_heading level0 row15\" >15</th>\n",
       "                        <td id=\"T_3a56c458_81ad_11ea_9dfc_b7ef7639baa9row15_col0\" class=\"data row15 col0\" >0.796603</td>\n",
       "                        <td id=\"T_3a56c458_81ad_11ea_9dfc_b7ef7639baa9row15_col1\" class=\"data row15 col1\" >0.461666</td>\n",
       "                        <td id=\"T_3a56c458_81ad_11ea_9dfc_b7ef7639baa9row15_col2\" class=\"data row15 col2\" >0.584556</td>\n",
       "                        <td id=\"T_3a56c458_81ad_11ea_9dfc_b7ef7639baa9row15_col3\" class=\"data row15 col3\" >0.541692</td>\n",
       "                        <td id=\"T_3a56c458_81ad_11ea_9dfc_b7ef7639baa9row15_col4\" class=\"data row15 col4\" >0.300764</td>\n",
       "                        <td id=\"T_3a56c458_81ad_11ea_9dfc_b7ef7639baa9row15_col5\" class=\"data row15 col5\" >0.366353</td>\n",
       "                        <td id=\"T_3a56c458_81ad_11ea_9dfc_b7ef7639baa9row15_col6\" class=\"data row15 col6\" >top-1</td>\n",
       "                        <td id=\"T_3a56c458_81ad_11ea_9dfc_b7ef7639baa9row15_col7\" class=\"data row15 col7\" >ulmfit</td>\n",
       "            </tr>\n",
       "            <tr>\n",
       "                        <th id=\"T_3a56c458_81ad_11ea_9dfc_b7ef7639baa9level0_row16\" class=\"row_heading level0 row16\" >16</th>\n",
       "                        <td id=\"T_3a56c458_81ad_11ea_9dfc_b7ef7639baa9row16_col0\" class=\"data row16 col0\" >0.659096</td>\n",
       "                        <td id=\"T_3a56c458_81ad_11ea_9dfc_b7ef7639baa9row16_col1\" class=\"data row16 col1\" >0.381975</td>\n",
       "                        <td id=\"T_3a56c458_81ad_11ea_9dfc_b7ef7639baa9row16_col2\" class=\"data row16 col2\" >0.483652</td>\n",
       "                        <td id=\"T_3a56c458_81ad_11ea_9dfc_b7ef7639baa9row16_col3\" class=\"data row16 col3\" >0.469528</td>\n",
       "                        <td id=\"T_3a56c458_81ad_11ea_9dfc_b7ef7639baa9row16_col4\" class=\"data row16 col4\" >0.252691</td>\n",
       "                        <td id=\"T_3a56c458_81ad_11ea_9dfc_b7ef7639baa9row16_col5\" class=\"data row16 col5\" >0.307217</td>\n",
       "                        <td id=\"T_3a56c458_81ad_11ea_9dfc_b7ef7639baa9row16_col6\" class=\"data row16 col6\" >top-1</td>\n",
       "                        <td id=\"T_3a56c458_81ad_11ea_9dfc_b7ef7639baa9row16_col7\" class=\"data row16 col7\" >ulmfit-fulltext</td>\n",
       "            </tr>\n",
       "            <tr>\n",
       "                        <th id=\"T_3a56c458_81ad_11ea_9dfc_b7ef7639baa9level0_row17\" class=\"row_heading level0 row17\" >17</th>\n",
       "                        <td id=\"T_3a56c458_81ad_11ea_9dfc_b7ef7639baa9row17_col0\" class=\"data row17 col0\" >0.847862</td>\n",
       "                        <td id=\"T_3a56c458_81ad_11ea_9dfc_b7ef7639baa9row17_col1\" class=\"data row17 col1\" >0.491373</td>\n",
       "                        <td id=\"T_3a56c458_81ad_11ea_9dfc_b7ef7639baa9row17_col2\" class=\"data row17 col2\" >0.622171</td>\n",
       "                        <td id=\"T_3a56c458_81ad_11ea_9dfc_b7ef7639baa9row17_col3\" class=\"data row17 col3\" >0.648712</td>\n",
       "                        <td id=\"T_3a56c458_81ad_11ea_9dfc_b7ef7639baa9row17_col4\" class=\"data row17 col4\" >0.361714</td>\n",
       "                        <td id=\"T_3a56c458_81ad_11ea_9dfc_b7ef7639baa9row17_col5\" class=\"data row17 col5\" >0.442854</td>\n",
       "                        <td id=\"T_3a56c458_81ad_11ea_9dfc_b7ef7639baa9row17_col6\" class=\"data row17 col6\" >top-1</td>\n",
       "                        <td id=\"T_3a56c458_81ad_11ea_9dfc_b7ef7639baa9row17_col7\" class=\"data row17 col7\" >arxiv</td>\n",
       "            </tr>\n",
       "    </tbody></table>"
      ],
      "text/plain": [
       "<pandas.io.formats.style.Styler at 0x7fa6e5b40450>"
      ]
     },
     "execution_count": 120,
     "metadata": {},
     "output_type": "execute_result"
    }
   ],
   "source": [
    "stats_df = pd.DataFrame(test_stats_all)\n",
    "\n",
    "stats_df.style.highlight_max()"
   ]
  },
  {
   "cell_type": "code",
   "execution_count": 134,
   "metadata": {},
   "outputs": [
    {
     "data": {
      "image/png": "[encoded data removed]",
      "text/plain": [
       "<Figure size 432x288 with 1 Axes>"
      ]
     },
     "metadata": {
      "needs_background": "light"
     },
     "output_type": "display_data"
    }
   ],
   "source": [
    "stat = \"macro r\"\n",
    "x = stats_df[stats_df.classifier == \"ulmfit\"][\"threshold\"]\n",
    "y1 = stats_df[stats_df.classifier == \"ulmfit\"][stat]\n",
    "y2 = stats_df[stats_df.classifier == \"ulmfit-fulltext\"][stat]\n",
    "y3 = stats_df[stats_df.classifier == \"arxiv\"][stat]\n",
    "plt.plot(np.array([y1,y2,y3]).T);"
   ]
  },
  {
   "cell_type": "code",
   "execution_count": 100,
   "metadata": {},
   "outputs": [
    {
     "data": {
      "text/plain": [
       "0     0.628356\n",
       "2     0.670032\n",
       "4     0.640540\n",
       "6     0.524371\n",
       "8     0.226727\n",
       "10    0.584556\n",
       "Name: micro f1, dtype: float64"
      ]
     },
     "execution_count": 100,
     "metadata": {},
     "output_type": "execute_result"
    }
   ],
   "source": []
  },
  {
   "cell_type": "markdown",
   "metadata": {},
   "source": [
    "# Test Model"
   ]
  },
  {
   "cell_type": "code",
   "execution_count": 9,
   "metadata": {},
   "outputs": [],
   "source": [
    "from fastai.text import *\n",
    "\n",
    "BASE_DIR = Path(\"./models/ulmfit_baseline\")\n",
    "VOCAB_PATH = BASE_DIR / \"data_lm_export_vocab.pkl\"\n",
    "\n",
    "processor = SPProcessor(sp_model=BASE_DIR / \"tmp\" / \"spm.model\", sp_vocab=BASE_DIR / \"tmp\" / \"spm.vocab\", n_cpus=4, mark_fields=True)\n",
    "vocab = Vocab.load(VOCAB_PATH)\n"
   ]
  },
  {
   "cell_type": "code",
   "execution_count": 10,
   "metadata": {},
   "outputs": [],
   "source": [
    "all_df = pd.DataFrame(train)"
   ]
  },
  {
   "cell_type": "code",
   "execution_count": 17,
   "metadata": {},
   "outputs": [],
   "source": [
    "all_df.date = pd.to_datetime(all_df.date, infer_datetime_format=True)\n",
    "# infer_datetime_format=True"
   ]
  },
  {
   "cell_type": "code",
   "execution_count": 18,
   "metadata": {},
   "outputs": [],
   "source": [
    "train_df = all_df[all_df.date.dt.year<2020]\n",
    "valid_df = all_df[~(all_df.date.dt.year<2020)]"
   ]
  },
  {
   "cell_type": "code",
   "execution_count": 19,
   "metadata": {},
   "outputs": [
    {
     "data": {
      "text/plain": [
       "(35005, 5)"
      ]
     },
     "execution_count": 19,
     "metadata": {},
     "output_type": "execute_result"
    }
   ],
   "source": [
    "valid_df.shape"
   ]
  },
  {
   "cell_type": "code",
   "execution_count": 20,
   "metadata": {},
   "outputs": [],
   "source": [
    "models_path = DATA_PATH / \"models\""
   ]
  },
  {
   "cell_type": "code",
   "execution_count": 21,
   "metadata": {},
   "outputs": [],
   "source": [
    "text_cols = [\"title\", \"abstract\"]\n",
    "valid_tl = TextList.from_df(valid_df, models_path, cols=text_cols, processor=processor)"
   ]
  },
  {
   "cell_type": "code",
   "execution_count": 22,
   "metadata": {},
   "outputs": [],
   "source": [
    "train_tl = TextList.from_df(train_df, models_path, cols=text_cols, processor=processor)"
   ]
  },
  {
   "cell_type": "code",
   "execution_count": 23,
   "metadata": {},
   "outputs": [],
   "source": [
    "# data_clas = ItemLists(models_path, train_tl, valid_tl)\\\n",
    "#     .label_from_df([\"categories\"], label_delim=\" \")\\\n",
    "#     .databunch(bs=64)"
   ]
  },
  {
   "cell_type": "code",
   "execution_count": 24,
   "metadata": {},
   "outputs": [
    {
     "name": "stderr",
     "output_type": "stream",
     "text": [
      "/home/ubuntu/anaconda3/envs/fastai/lib/python3.7/site-packages/torch/serialization.py:292: UserWarning: Couldn't retrieve source code for container of type BCEWithLogitsLoss. It won't be checked for correctness upon loading.\n",
      "  \"type \" + obj.__name__ + \". It won't be checked \"\n"
     ]
    }
   ],
   "source": [
    "# data_clas.save(\"data_clas_abs.pkl\")"
   ]
  },
  {
   "cell_type": "code",
   "execution_count": 25,
   "metadata": {},
   "outputs": [],
   "source": [
    "# data_clas = load_data(models_path, \"data_clas_abs.pkl\")"
   ]
  },
  {
   "cell_type": "code",
   "execution_count": 26,
   "metadata": {},
   "outputs": [],
   "source": [
    "learn = text_classifier_learner(data_clas, AWD_LSTM)"
   ]
  },
  {
   "cell_type": "code",
   "execution_count": 27,
   "metadata": {},
   "outputs": [
    {
     "data": {
      "text/plain": [
       "RNNLearner(data=TextClasDataBunch;\n",
       "\n",
       "Train: LabelList (1644347 items)\n",
       "x: TextList\n",
       "▁xxbos ▁xxfld ▁1 ▁xxmaj ▁stable ▁t ev ▁ - ▁xxmaj ▁black ▁xxmaj ▁hole ▁xxmaj ▁re m n ants ▁at ▁the ▁xxup ▁l hc : ▁xxmaj ▁discovery ▁through ▁di - jet ▁xxmaj ▁suppression , ▁mono - jet ▁xxmaj ▁emission ▁and ▁a ▁xxmaj ▁super sonic ▁xxmaj ▁b oom ▁in ▁the ▁ quar k - glu on ▁xxmaj ▁plasma ▁xxfld ▁2 ▁xxmaj ▁the ▁production ▁of ▁xxmaj ▁large ▁xxmaj ▁extra ▁xxmaj ▁dimension ▁xxup ▁( l x d ) ▁xxmaj ▁black ▁xxmaj ▁holes ▁( b hs ), ▁with ▁a ▁new , ▁fundamental ▁mass ▁scale ▁of ▁$ m _ f ▁= ▁1 $ ▁t ev , ▁has ▁been ▁predicted ▁to ▁occur ▁at ▁the ▁xxmaj ▁large ▁xxmaj ▁had ron ▁xxmaj ▁collider , ▁xxup ▁l hc , ▁with ▁the ▁for mid able ▁rate ▁of ▁$ 10 ^ 8 $ ▁per ▁year ▁in ▁p - p ▁collisions ▁at ▁full ▁energy , ▁14 ▁t ev , ▁and ▁at ▁full ▁lu min osity . ▁xxmaj ▁we ▁show ▁that ▁such ▁xxup ▁l x d - b h ▁formation ▁will ▁be ▁experimentally ▁observable ▁at ▁the ▁xxup ▁l hc ▁by ▁the ▁complete ▁disappearance ▁of ▁all ▁very ▁high ▁$ p _ t $ ▁( $ > ▁500 $ ▁g ev ) ▁back - to - back ▁correlated ▁di - jet s ▁of ▁total ▁mass ▁xxup ▁$ m ▁> ▁xxmaj ▁m _ f ▁= ▁1 $ ▁t ev . ▁xxmaj ▁we ▁suggest ▁to ▁complement ▁this ▁clear ▁cut - off ▁signal ▁at ▁xxup ▁$ m ▁> ▁2 * 500 $ ▁g ev ▁in ▁the ▁di - jet - correlation ▁function ▁by ▁detecting ▁the ▁subsequent , ▁xxmaj ▁ha w king - decay ▁products ▁of ▁the ▁l x d - b hs , ▁namely ▁either ▁multiple ▁high ▁energy ▁( $ > ▁100 $ ▁g ev ) ▁xxup ▁sm ▁mono - jet s ▁( i . e . ▁away - side ▁ jet ▁missing ), ▁sp ray ed ▁off ▁the ▁ eva po rating ▁b hs ▁is ent rop ically ▁into ▁all ▁directions ▁or ▁the ▁thermal ization ▁of ▁the ▁multiple ▁overlapping ▁xxmaj ▁ha w king - radi ation ▁in ▁a ▁h eck ler - ka pu sta - p las ma . ▁xxmaj ▁micro canonical ▁quantum ▁statistical ▁calculations ▁of ▁the ▁xxmaj ▁ha w king ▁ eva po ration ▁process ▁for ▁these ▁l x d - b hs ▁show ▁that ▁cold ▁black ▁hole ▁re m n ants ▁( b hr s ) ▁of ▁xxmaj ▁mass ▁$ ▁ \\ ▁sim ▁xxmaj ▁m _ f $ ▁remain ▁left over ▁as ▁the ▁as he s ▁of ▁these ▁spectacular ▁di - jet - s up pressed ▁events . ▁xxmaj ▁strong ▁di - jet ▁suppression ▁is ▁also ▁expected ▁with ▁xxmaj ▁heavy ▁xxmaj ▁ ion ▁beam s ▁at ▁the ▁xxup ▁l hc , ▁due ▁to ▁ quar k - glu on - p las ma ▁induced ▁ jet ▁attenuation ▁at ▁medium ▁to ▁low ▁ jet ▁energies , ▁$ p _ t ▁< ▁200 $ ▁g ev . ▁xxmaj ▁the ▁( mon o - ) jet s ▁in ▁these ▁events ▁can ▁be ▁used ▁to ▁trigger ▁for ▁xxmaj ▁t sun ami - e mission ▁of ▁secondary ▁compressed ▁q cd - m atter ▁at ▁well ▁defined ▁xxmaj ▁mach - angle s , ▁both ▁at ▁the ▁trigger ▁side ▁and ▁at ▁the ▁away side ▁( missing ) ▁ jet . ▁xxmaj ▁the ▁xxmaj ▁mach sh ock - angle s ▁allow ▁for ▁a ▁direct ▁measurement ▁of ▁both ▁the ▁equation ▁of ▁state ▁eos ▁and ▁the ▁speed ▁of ▁sound ▁$ c _ s $ ▁via ▁super sonic ▁ bang ▁in ▁the ▁\" big ▁ bang \" ▁matter .,▁xxbos ▁xxfld ▁1 ▁xxmaj ▁an ▁approach ▁toward ▁a ▁finite - dimensional ▁definition ▁of ▁twist ed ▁xxmaj ▁k - theory ▁xxfld ▁2 ▁xxmaj ▁this ▁is ▁an ▁expo s it ory ▁account ▁of ▁the ▁following ▁result : ▁we ▁can ▁construct ▁a ▁group ▁by ▁means ▁of ▁twist ed ▁xxmaj ▁z _2 - grade d ▁vectorial ▁bundles ▁which ▁is ▁isomorphic ▁to ▁xxmaj ▁k - theory ▁twist ed ▁by ▁any ▁degree ▁three ▁integral ▁co ho m ology ▁class .,▁xxbos ▁xxfld ▁1 ▁a ▁remarkable ▁sequence ▁of ▁integers ▁xxfld ▁2 ▁a ▁survey ▁of ▁properties ▁of ▁a ▁sequence ▁of ▁coefficients ▁appearing ▁in ▁the ▁evaluation ▁of ▁a ▁quartic ▁definite ▁integral ▁is ▁presented . ▁xxmaj ▁these ▁properties ▁are ▁of ▁analytical , ▁combinatorial ▁and ▁number - theoretical ▁nature .,▁xxbos ▁xxfld ▁1 ▁xxmaj ▁multivariate ▁ fuss - cat a lan ▁numbers ▁xxfld ▁2 ▁xxmaj ▁catalan ▁numbers ▁$ c ( n )= ▁ \\ ▁ frac { 1 }{ n +1 }{ 2 n ▁ \\ ▁choose ▁n } $ ▁enumerate ▁binary ▁trees ▁and ▁xxmaj ▁ dyck ▁paths . ▁xxmaj ▁the ▁distribution ▁of ▁paths ▁with ▁respect ▁to ▁their ▁number ▁$ k $ ▁of ▁factors ▁is ▁given ▁by ▁ballot ▁numbers ▁$ b ( n , k )= ▁ \\ ▁ frac { n - k }{ n + k }{ n + k ▁ \\ ▁choose ▁n } $ . ▁xxmaj ▁these ▁integers ▁are ▁known ▁to ▁satisfy ▁simple ▁recurrence , ▁which ▁may ▁be ▁visual ised ▁in ▁a ▁` ` cat a lan ▁triangle ' ' , ▁a ▁lower - triangular ▁two - dimensional ▁array . ▁xxmaj ▁it ▁is ▁surprising ▁that ▁the ▁extension ▁of ▁this ▁construction ▁to ▁3 ▁dimensions ▁generates ▁integers ▁$ b _3 ( n , k , l ) $ ▁that ▁give ▁a ▁2 - parameter ▁distribution ▁of ▁$ c _3 ( n )= ▁ \\ ▁ frac ▁1 ▁{ 2 n +1 } ▁{ 3 n ▁ \\ ▁choose ▁n } $ , ▁which ▁may ▁be ▁called ▁order -3 ▁ fuss - cat a lan ▁numbers , ▁and ▁enumerate ▁ternary ▁trees . ▁xxmaj ▁the ▁aim ▁of ▁this ▁paper ▁is ▁a ▁study ▁of ▁these ▁integers ▁$ b _3 ( n , k , l ) $ . ▁xxmaj ▁we ▁obtain ▁an ▁explicit ▁formula ▁and ▁a ▁description ▁in ▁terms ▁of ▁trees ▁and ▁paths . ▁xxmaj ▁finally , ▁we ▁extend ▁our ▁construction ▁to ▁$ p $ - dimensional ▁arrays , ▁and ▁in ▁this ▁case ▁we ▁obtain ▁a ▁$ ( p -1) $ - parameter ▁distribution ▁of ▁$ c _ p ( n )= ▁ \\ ▁ frac ▁1 ▁{ ( p -1) n +1 } ▁{ pn ▁ \\ ▁choose ▁n } $ , ▁the ▁number ▁of ▁$ p $ - ary ▁trees .,▁xxbos ▁xxfld ▁1 ▁xxmaj ▁electro weak ▁and ▁xxup ▁q cd ▁corrections ▁to ▁xxmaj ▁higgs ▁production ▁via ▁vector - bo son ▁fusion ▁at ▁the ▁xxup ▁l hc ▁xxfld ▁2 ▁xxmaj ▁the ▁ radi ative ▁corrections ▁of ▁the ▁strong ▁and ▁electro weak ▁interactions ▁are ▁calculated ▁at ▁next - to - leading ▁order ▁for ▁xxmaj ▁higgs - bo son ▁production ▁in ▁the ▁weak - bo son - fusion ▁channel ▁at ▁had ron ▁collider s . ▁xxmaj ▁specifically , ▁the ▁calculation ▁includes ▁all ▁weak - bo son ▁fusion ▁and ▁ quar k - - anti quar k ▁annihilation ▁diagrams ▁to ▁xxmaj ▁higgs - bo son ▁production ▁in ▁association ▁with ▁two ▁hard ▁j ets , ▁including ▁all ▁corresponding ▁interference s . ▁xxmaj ▁the ▁results ▁on ▁the ▁xxup ▁q cd ▁corrections ▁confirm ▁that ▁previously ▁made ▁approximations ▁of ▁ neglecting ▁s - channel ▁diagrams ▁and ▁interference s ▁are ▁well ▁suited ▁for ▁predictions ▁of ▁xxmaj ▁higgs ▁production ▁with ▁dedicated ▁vector - bo son ▁fusion ▁cuts ▁at ▁the ▁xxup ▁l hc . ▁xxmaj ▁the ▁electro weak ▁corrections , ▁which ▁also ▁include ▁real ▁corrections ▁from ▁incoming ▁photons ▁and ▁leading ▁heavy - hi g gs - bo son ▁effects ▁at ▁two - loop ▁order , ▁are ▁of ▁the ▁same ▁size ▁as ▁the ▁xxup ▁q cd ▁corrections , ▁v iz . ▁typically ▁at ▁the ▁level ▁of ▁5-10 % ▁for ▁a ▁xxmaj ▁higgs - bo son ▁mass ▁up ▁to ▁ \\ ▁sim ▁700 ▁g ev . ▁xxmaj ▁in ▁general , ▁both ▁types ▁of ▁corrections ▁do ▁not ▁simply ▁rescale ▁differential ▁distributions , ▁but ▁induce ▁distortions ▁at ▁the ▁level ▁of ▁10% . ▁xxmaj ▁the ▁discussed ▁corrections ▁have ▁been ▁implemented ▁in ▁a ▁flexible ▁xxmaj ▁monte ▁xxmaj ▁carlo ▁event ▁generator .\n",
       "y: MultiCategoryList\n",
       "hep-ph;astro-ph;hep-ex;nucl-ex;nucl-th,math.KT;math.AT,math.NT;math.CO,math.CO,hep-ph\n",
       "Path: notebooks/shared-notebooks/arxiv-class/models;\n",
       "\n",
       "Valid: LabelList (35005 items)\n",
       "x: TextList\n",
       "▁xxbos ▁xxfld ▁1 ▁xxmaj ▁light ▁speed ▁as ▁a ▁local ▁observable ▁for ▁soft ▁hair s ▁xxfld ▁2 ▁xxmaj ▁ einstein ▁observers ▁in ▁flat ▁space - time ▁are ▁inertial ▁observers ▁which ▁use ▁light ▁to ▁synchroniz e ▁their ▁ clock s . ▁xxmaj ▁for ▁such ▁observers , ▁speed ▁of ▁light ▁is ▁a ▁constant ▁by ▁construction . ▁xxmaj ▁however , ▁one ▁can ▁impose ▁xxup ▁ bms ▁super - translation s ▁on ▁flat ▁space - time ▁and ▁the ▁xxmaj ▁ einstein ▁observers ▁to ▁introduce ▁xxup ▁ bms ▁observers . ▁xxmaj ▁from ▁the ▁point ▁of ▁view ▁of ▁xxup ▁ bms ▁observers , ▁speed ▁of ▁light ▁is ▁not ▁a ▁constant ▁all ▁over ▁the ▁space - time ▁and ▁in ▁all ▁directions . ▁xxmaj ▁so ▁in ▁general , ▁ clock s ▁which ▁are ▁synchronized ▁for ▁xxmaj ▁ einstein ▁observers ▁are ▁not ▁synchronized ▁for ▁xxup ▁ bms ▁observers , ▁and ▁vice ▁versa . ▁xxmaj ▁based ▁on ▁this ▁fact , ▁we ▁propose ▁a ▁local ▁observable ▁for ▁detecting ▁the ▁soft ▁hair s , ▁which ▁is ▁the ▁variations ▁in ▁speed ▁of ▁light ▁for ▁such ▁observers . ▁xxmaj ▁we ▁also ▁investigate ▁the ▁relation ▁of ▁this ▁observable ▁to ▁gravitational ▁memory , ▁which ▁is ▁a ▁permanent ▁change ▁of ▁position ▁of ▁test ▁particles ▁at ▁infinity , ▁after ▁a ▁gravitational ▁wave ▁passes ▁completely ▁from ▁them . ▁xxmaj ▁it ▁is ▁shown ▁that ▁the ▁xxup ▁ bms ▁time ▁coordinate ▁is ▁the ▁physical ▁time ▁after ▁a ▁gravitational ▁wave , ▁and ▁it ▁is ▁the ▁legitimate ▁time ▁to ▁be ▁used ▁to ▁calculate ▁the ▁light ▁speed . ▁xxmaj ▁based ▁on ▁this ▁argument , ▁the ▁analysis ▁predicts ▁a ▁permanent ▁change ▁in ▁the ▁speed ▁of ▁light ▁ rays ▁which ▁propagate ▁in ▁asymptotics ▁after ▁a ▁gravitational ▁wave . ▁xxmaj ▁moreover , ▁it ▁is ▁explained ▁how ▁this ▁change ▁is ▁related ▁to ▁the ▁gravitational ▁memory ▁by ▁comparing ▁their ▁significance ▁in ▁observations .,▁xxbos ▁xxfld ▁1 ▁xxmaj ▁two - loop ▁ radi ative ▁see sa w , ▁xxup ▁l f v , ▁mu on ▁$ g -2 $ , ▁and ▁dark ▁matter ▁xxfld ▁2 ▁xxmaj ▁the ▁quartic ▁scalar ▁coupling ▁$ ▁ \\ ▁lambda _ 5 $ ▁term , ▁which ▁violate s ▁the ▁le p ton - number ▁by ▁two ▁units ▁in ▁the ▁xxmaj ▁ma ' s ▁model , ▁is ▁phenomeno logical ly ▁small ▁when ▁the ▁s izable ▁le p ton - fl a vor ▁violation ▁xxup ▁( l f v ) ▁processes ▁are ▁considered . ▁xxmaj ▁in ▁order ▁to ▁dynamically ▁generate ▁the ▁$ ▁ \\ ▁lambda _ 5 $ ▁parameter ▁through ▁quantum ▁loop ▁effects , ▁in ▁order ▁to ▁enhance ▁the ▁mu on ▁$ g -2 $ ▁and ▁to ▁explain ▁the ▁dark ▁matter ▁xxup ▁( dm ) ▁re lic ▁density ▁( $ ▁ \\ ▁xxmaj ▁omega _ { ▁ \\ ▁ rm ▁xxup ▁dm } $ ), ▁we ▁extend ▁the ▁xxmaj ▁ma - model ▁by ▁adding ▁a ▁$ z _2 $ - odd ▁vector - like ▁le p ton ▁double t ▁and ▁a ▁$ z _2 $ - even ▁xxmaj ▁major ana ▁single t . ▁xxmaj ▁with ▁the ▁new ▁couplings ▁to ▁the ▁xxmaj ▁higgs ▁and ▁gauge ▁bo son s , ▁the ▁observed ▁$ ▁ \\ ▁xxmaj ▁omega _ { ▁ \\ ▁ rm ▁xxup ▁dm } $ ▁can ▁be ▁explained ▁when ▁the ▁resulting ▁dm - n ucl e on ▁scattering ▁cross ▁sections ▁satisfy ▁the ▁current ▁upper ▁limits . ▁xxmaj ▁in ▁addition ▁to ▁the ▁ neutrino ▁data ▁and ▁xxup ▁l f v ▁constraints , ▁it ▁is ▁found ▁that ▁the ▁xxup ▁dm ▁re lic ▁density ▁can ▁significantly ▁exclude ▁the ▁free ▁parameter ▁space . ▁xxmaj ▁nevertheless , ▁in ▁the ▁model , ▁mu on ▁$ g -2 $ ▁can ▁be ▁enhanced ▁up ▁to ▁xxup ▁$ o ( 10 ^ { -9 } ) $ , ▁and ▁xxup ▁$ br ( ▁ \\ ▁ tau ▁ \\ ▁to ▁ \\ ▁mu ▁ \\ ▁gamma ) $ ▁can ▁be ▁as ▁large ▁as ▁the ▁current ▁upper ▁limit ▁when ▁the ▁parameters ▁are ▁taken ▁to ▁suppress ▁the ▁rare ▁$ ▁ \\ ▁mu ▁ \\ ▁to ▁( e ▁ \\ ▁gamma , ▁3 ▁e ) $ ▁decays .,▁xxbos ▁xxfld ▁1 ▁xxmaj ▁on ▁the ▁xxmaj ▁absence ▁of ▁high - red shift ▁a gn s : ▁xxmaj ▁little ▁xxmaj ▁growth ▁in ▁the ▁xxmaj ▁super mass ive ▁xxmaj ▁black ▁xxmaj ▁hole ▁xxmaj ▁population ▁at ▁xxmaj ▁high ▁xxmaj ▁red shift s ▁xxfld ▁2 ▁xxmaj ▁we ▁search ▁for ▁high - red shift ▁( z > 4.5 ) ▁xxmaj ▁x - ray ▁a gn s ▁in ▁the ▁deep ▁central ▁( off - axis ▁angle ▁< 5. 7 ' ) ▁region ▁of ▁the ▁7 ▁xxmaj ▁ms ▁xxmaj ▁chandra ▁xxmaj ▁deep ▁field - south ▁xxmaj ▁x - ray ▁image . ▁xxmaj ▁we ▁compile ▁an ▁initial ▁candidate ▁sample ▁from ▁direct ▁xxmaj ▁x - ray ▁detections . ▁xxmaj ▁we ▁then ▁probe ▁more ▁deeply ▁in ▁the ▁xxmaj ▁x - ray ▁data ▁by ▁using ▁pre - selected ▁samples ▁with ▁high ▁spatial ▁resolution ▁xxup ▁nir ▁/ ▁xxup ▁mir ▁xxup ▁( h st ▁1.6 ▁micro n ▁and ▁xxmaj ▁spi tzer ▁4.5 ▁micro n ) ▁and ▁sub m illi meter ▁xxup ▁( al ma ▁ 850 ▁micro n ) ▁observations . ▁xxmaj ▁the ▁combination ▁of ▁the ▁xxup ▁nir ▁/ ▁xxup ▁mir ▁and ▁sub m illi meter ▁pre - selection s ▁allows ▁us ▁to ▁find ▁xxmaj ▁x - ray ▁sources ▁with ▁a ▁wide ▁range ▁of ▁d ust ▁properties ▁and ▁spectral ▁energy ▁distributions ▁( s eds ). ▁xxmaj ▁we ▁use ▁the ▁s eds ▁from ▁the ▁optical ▁to ▁the ▁sub m illi meter ▁to ▁determine ▁if ▁previous ▁photometric ▁red shift s ▁were ▁plausible . ▁xxmaj ▁only ▁five ▁possible ▁z > 5 ▁xxmaj ▁x - ray ▁a gn s ▁are ▁found , ▁all ▁of ▁which ▁might ▁also ▁lie ▁at ▁lower ▁red shift s . ▁xxmaj ▁if ▁they ▁do ▁lie ▁at ▁high ▁red shift s , ▁then ▁two ▁are ▁xxmaj ▁comp ton - th ick ▁a gn s , ▁and ▁three ▁are ▁xxup ▁alma ▁ 850 ▁micro n ▁sources . ▁xxmaj ▁we ▁find ▁that ▁( i ) ▁the ▁number ▁density ▁of ▁xxmaj ▁x - ray ▁a gn s ▁is ▁dropping ▁rapidly ▁at ▁high ▁red shift s , ▁( ii ) ▁the ▁detected ▁a gn s ▁do ▁not ▁contribute ▁significantly ▁to ▁the ▁photo ion ization ▁at ▁z > 5, ▁and ▁( iii ) ▁the ▁measured ▁xxmaj ▁x - ray ▁light ▁density ▁over ▁z =5 -10 ▁implies ▁a ▁very ▁low ▁black ▁hole ▁acc re tion ▁density ▁with ▁very ▁little ▁growth ▁in ▁the ▁black ▁hole ▁mass ▁density ▁in ▁this ▁red shift ▁range .,▁xxbos ▁xxfld ▁1 ▁xxmaj ▁signatures ▁of ▁xxmaj ▁topological ▁xxmaj ▁super cond uct ivity ▁and ▁xxmaj ▁para fer m ion ▁xxmaj ▁zero ▁xxmaj ▁modes ▁in ▁xxmaj ▁fractional ▁xxmaj ▁quantum ▁xxmaj ▁hall ▁xxmaj ▁edges ▁xxfld ▁2 ▁xxmaj ▁para fer m ion ▁zero ▁modes ▁are ▁exotic ▁emergent ▁excitation s ▁that ▁can ▁be ▁considered ▁as ▁$ ▁ \\ ▁math bb { z } _ n $ ▁generalizations ▁of ▁xxmaj ▁major ana ▁f erm ions . ▁xxmaj ▁present ▁in ▁fractional ▁quantum ▁xxmaj ▁hall - super conductor ▁hybrid ▁systems , ▁among ▁others , ▁they ▁can ▁serve ▁as ▁potential ▁building ▁blocks ▁in ▁fault - tolerant ▁topological ▁quantum ▁computing . ▁xxmaj ▁we ▁propose ▁a ▁system ▁that ▁reveals ▁noise ▁and ▁current ▁signatures ▁indicative ▁of ▁para fer m ion ▁zero ▁modes . ▁xxmaj ▁the ▁system ▁is ▁ comprised ▁of ▁the ▁edge ▁excitation s ▁( \" quasi - particle s \") ▁of ▁a ▁fractional ▁quantum ▁xxmaj ▁hall ▁bulk ▁at ▁filling ▁factor ▁$ ▁u ▁= ▁1 ▁/ ▁m $ ▁( for ▁odd ▁integer ▁$ m $ ) ▁incident ▁upon ▁the ▁interface ▁of ▁a ▁super conductor , ▁and ▁in ▁the ▁presence ▁of ▁back - scattering . ▁xxmaj ▁using ▁perturbative ▁calculations , ▁we ▁derive ▁the ▁current ▁that ▁propagates ▁away ▁from ▁this ▁structure , ▁and ▁its ▁corresponding ▁noise ▁correlation ▁function . ▁xxmaj ▁renormalization ▁group ▁analysis ▁reveals ▁a ▁flow ▁from ▁a ▁xxup ▁uv ▁fixed ▁point ▁of ▁perfect ▁normal ▁reflection ▁towards ▁an ▁xxup ▁ir ▁fixed ▁point ▁of ▁perfect ▁xxmaj ▁andre ev ▁reflection . ▁xxmaj ▁the ▁power ▁law ▁dependence ▁of ▁the ▁differential ▁conductance ▁near ▁these ▁fixed ▁points ▁is ▁determined ▁by ▁$ m $ . ▁xxmaj ▁we ▁find ▁that ▁behavior ▁at ▁these ▁two ▁limits ▁is ▁physically ▁ distinguishable ; ▁whereas ▁near ▁perfect ▁xxmaj ▁andre ev ▁reflection , ▁the ▁system ▁deviates ▁from ▁equilibrium ▁via ▁tunnel ing ▁of ▁xxmaj ▁cooper ▁pairs ▁between ▁the ▁two ▁edges , ▁near ▁perfect ▁xxmaj ▁normal ▁reflection ▁this ▁is ▁done ▁via ▁tunnel ing ▁of ▁a ▁single ▁quasi - particle ▁to ▁an ▁emergent ▁para fer m ion ▁zero ▁mode ▁at ▁the ▁super conductor ▁interface . ▁xxmaj ▁these ▁results ▁are ▁for t ified ▁by ▁an ▁exact ▁solution .,▁xxbos ▁xxfld ▁1 ▁xxmaj ▁hel ical ▁xxmaj ▁ cher n ▁insulat or ▁phase ▁with ▁broken ▁time - re versa l ▁symmetry ▁in ▁mn bi $ _2 $ te $ _4 $ ▁xxfld ▁2 ▁a ▁per pet ual ▁quest ▁in ▁the ▁field ▁of ▁topological ▁quantum ▁matter ▁is ▁to ▁search ▁for ▁electronic ▁phases ▁with ▁unprecedented ▁band ▁topology ▁and ▁transport ▁phenomena . ▁xxmaj ▁the ▁most ▁prominent ▁example ▁is ▁the ▁discovery ▁of ▁topological ▁insulat ors , ▁in ▁which ▁band ▁inversion ▁leads ▁to ▁topologically ▁nontrivial ▁bulk ▁electronic ▁structure ▁and ▁metal lic ▁boundary ▁states . ▁xxmaj ▁in ▁two - dimensional ▁topological ▁insulat ors ▁with ▁time - re versa l ▁symmetry , ▁a ▁pair ▁of ▁hel ical ▁edge ▁states ▁gives ▁rise ▁to ▁the ▁quantum ▁spin ▁xxmaj ▁hall ▁effect . ▁xxmaj ▁when ▁the ▁time - re versa l ▁symmetry ▁is ▁broken ▁by ▁magnetic ▁order , ▁only ▁one ▁chi ral ▁edge ▁mode ▁remains ▁and ▁the ▁quantum ▁anomalous ▁xxmaj ▁hall ▁effect ▁emerges ▁in ▁zero ▁magnetic ▁field . ▁xxmaj ▁this ▁quantum ▁xxmaj ▁hall ▁phase ▁without ▁xxmaj ▁land au ▁levels , ▁first ▁observed ▁in ▁magnetic ally ▁do ped ▁topological ▁insulat ors , ▁is ▁now ▁called ▁the ▁xxmaj ▁ cher n ▁insulat or . ▁xxmaj ▁the ▁recently ▁discovered ▁mn bi 2 te 4 ▁combines ▁intrinsic ▁magnet ism ▁and ▁nontrivial ▁topology ▁in ▁one ▁material , ▁providing ▁an ▁ideal ▁platform ▁for ▁exploring ▁novel ▁topological ▁phases . ▁xxmaj ▁here , ▁we ▁investigate ▁the ▁transport ▁properties ▁of ▁ex f oli ated ▁mn bi 2 te 4 ▁in ▁exceeding ly ▁high ▁magnetic ▁fields ▁up ▁to ▁60 ▁xxup ▁t . ▁xxmaj ▁by ▁varying ▁the ▁gate ▁voltage , ▁we ▁observe ▁systematic ▁and ▁yet ▁uniquely ▁complex ▁evolution ▁of ▁quantized ▁xxmaj ▁hall ▁plateaus ▁with ▁xxmaj ▁ cher n ▁numbers ▁from ▁c ▁= ▁ -3 ▁to ▁+2 . ▁xxmaj ▁more ▁surprisingly , ▁a ▁novel ▁phase ▁characterized ▁by ▁an ▁extremely ▁broad ▁zero ▁xxmaj ▁hall ▁plateau ▁emerges ▁as ▁the ▁most ▁robust ▁ground ▁state ▁in ▁the ▁high ▁field ▁limit . ▁xxmaj ▁theoretical ▁calculations ▁reveal ▁that ▁this ▁c ▁= ▁0 ▁phase ▁arises ▁from ▁the ▁co existence ▁of ▁a ▁ conn ate ▁xxmaj ▁ cher n ▁band ▁with ▁c ▁= ▁ -1 ▁and ▁a ▁xxmaj ▁ ze eman - effect - induced ▁xxmaj ▁ cher n ▁band ▁with ▁c ▁= ▁+1 , ▁as ▁corroborate d ▁by ▁nonlocal ▁transport ▁measurements . ▁xxmaj ▁this ▁hel ical ▁xxmaj ▁ cher n ▁insulat or ▁phase ▁with ▁broken ▁time - re versa l ▁symmetry ▁represents ▁an ▁unexpected ▁new ▁member ▁of ▁the ▁quantum ▁xxmaj ▁hall ▁family , ▁and ▁manifests ▁a ▁new ▁route ▁to ▁change ▁the ▁band ▁topology ▁by ▁using ▁magnetic ▁field .\n",
       "y: MultiCategoryList\n",
       "gr-qc;hep-th,hep-ph;hep-ex,astro-ph.GA,cond-mat.mes-hall,cond-mat.mes-hall;cond-mat.mtrl-sci\n",
       "Path: notebooks/shared-notebooks/arxiv-class/models;\n",
       "\n",
       "Test: None, model=SequentialRNN(\n",
       "  (0): MultiBatchEncoder(\n",
       "    (module): AWD_LSTM(\n",
       "      (encoder): Embedding(30000, 400, padding_idx=1)\n",
       "      (encoder_dp): EmbeddingDropout(\n",
       "        (emb): Embedding(30000, 400, padding_idx=1)\n",
       "      )\n",
       "      (rnns): ModuleList(\n",
       "        (0): WeightDropout(\n",
       "          (module): LSTM(400, 1152, batch_first=True)\n",
       "        )\n",
       "        (1): WeightDropout(\n",
       "          (module): LSTM(1152, 1152, batch_first=True)\n",
       "        )\n",
       "        (2): WeightDropout(\n",
       "          (module): LSTM(1152, 400, batch_first=True)\n",
       "        )\n",
       "      )\n",
       "      (input_dp): RNNDropout()\n",
       "      (hidden_dps): ModuleList(\n",
       "        (0): RNNDropout()\n",
       "        (1): RNNDropout()\n",
       "        (2): RNNDropout()\n",
       "      )\n",
       "    )\n",
       "  )\n",
       "  (1): PoolingLinearClassifier(\n",
       "    (layers): Sequential(\n",
       "      (0): BatchNorm1d(1200, eps=1e-05, momentum=0.1, affine=True, track_running_stats=True)\n",
       "      (1): Dropout(p=0.4, inplace=False)\n",
       "      (2): Linear(in_features=1200, out_features=50, bias=True)\n",
       "      (3): ReLU(inplace=True)\n",
       "      (4): BatchNorm1d(50, eps=1e-05, momentum=0.1, affine=True, track_running_stats=True)\n",
       "      (5): Dropout(p=0.1, inplace=False)\n",
       "      (6): Linear(in_features=50, out_features=176, bias=True)\n",
       "    )\n",
       "  )\n",
       "), opt_func=functools.partial(<class 'torch.optim.adam.Adam'>, betas=(0.9, 0.99)), loss_func=FlattenedLoss of BCEWithLogitsLoss(), metrics=[], true_wd=True, bn_wd=True, wd=0.01, train_bn=True, path=PosixPath('notebooks/shared-notebooks/arxiv-class/models'), model_dir='models', callback_fns=[functools.partial(<class 'fastai.basic_train.Recorder'>, add_time=True, silent=False)], callbacks=[RNNTrainer\n",
       "learn: ...\n",
       "alpha: 2.0\n",
       "beta: 1.0], layer_groups=[Sequential(\n",
       "  (0): Embedding(30000, 400, padding_idx=1)\n",
       "  (1): EmbeddingDropout(\n",
       "    (emb): Embedding(30000, 400, padding_idx=1)\n",
       "  )\n",
       "), Sequential(\n",
       "  (0): WeightDropout(\n",
       "    (module): LSTM(400, 1152, batch_first=True)\n",
       "  )\n",
       "  (1): RNNDropout()\n",
       "), Sequential(\n",
       "  (0): WeightDropout(\n",
       "    (module): LSTM(1152, 1152, batch_first=True)\n",
       "  )\n",
       "  (1): RNNDropout()\n",
       "), Sequential(\n",
       "  (0): WeightDropout(\n",
       "    (module): LSTM(1152, 400, batch_first=True)\n",
       "  )\n",
       "  (1): RNNDropout()\n",
       "), Sequential(\n",
       "  (0): PoolingLinearClassifier(\n",
       "    (layers): Sequential(\n",
       "      (0): BatchNorm1d(1200, eps=1e-05, momentum=0.1, affine=True, track_running_stats=True)\n",
       "      (1): Dropout(p=0.4, inplace=False)\n",
       "      (2): Linear(in_features=1200, out_features=50, bias=True)\n",
       "      (3): ReLU(inplace=True)\n",
       "      (4): BatchNorm1d(50, eps=1e-05, momentum=0.1, affine=True, track_running_stats=True)\n",
       "      (5): Dropout(p=0.1, inplace=False)\n",
       "      (6): Linear(in_features=50, out_features=176, bias=True)\n",
       "    )\n",
       "  )\n",
       ")], add_time=True, silent=False)"
      ]
     },
     "execution_count": 27,
     "metadata": {},
     "output_type": "execute_result"
    }
   ],
   "source": [
    "learn.load(\"arxiv_class_sp30k_1_1_6_abstracts.pkl\")"
   ]
  },
  {
   "cell_type": "code",
   "execution_count": 80,
   "metadata": {},
   "outputs": [],
   "source": [
    "preds = learn.get_preds(ordered=True)"
   ]
  },
  {
   "cell_type": "code",
   "execution_count": 112,
   "metadata": {},
   "outputs": [],
   "source": [
    "from sklearn.metrics import multilabel_confusion_matrix"
   ]
  },
  {
   "cell_type": "code",
   "execution_count": 163,
   "metadata": {},
   "outputs": [],
   "source": [
    "def get_cm(preds, threshold=0.5):\n",
    "    y_true = preds[1].cpu().numpy() > 0.5\n",
    "    y_pred = preds[0].cpu().numpy() > threshold\n",
    "    return multilabel_confusion_matrix(y_true, y_pred)\n",
    "\n",
    "def get_test_cm(test_preds, test_labels, threshold=0.5):\n",
    "    y_true = test_labels\n",
    "    y_pred = test_preds.cpu().numpy() > threshold\n",
    "    return multilabel_confusion_matrix(y_true, y_pred)\n",
    "    "
   ]
  },
  {
   "cell_type": "code",
   "execution_count": 116,
   "metadata": {},
   "outputs": [],
   "source": [
    "cm = get_cm(preds)"
   ]
  },
  {
   "cell_type": "code",
   "execution_count": 125,
   "metadata": {},
   "outputs": [
    {
     "data": {
      "text/plain": [
       "array([[34578.704545,    47.676136],\n",
       "       [  186.948864,   191.670455]])"
      ]
     },
     "execution_count": 125,
     "metadata": {},
     "output_type": "execute_result"
    }
   ],
   "source": [
    "cm.mean(axis=0)"
   ]
  },
  {
   "cell_type": "code",
   "execution_count": 126,
   "metadata": {},
   "outputs": [],
   "source": [
    "cm2 = [m for m in cm if m[0,0] != 35005]"
   ]
  },
  {
   "cell_type": "code",
   "execution_count": 135,
   "metadata": {},
   "outputs": [],
   "source": [
    "def acc(cm):\n",
    "    return (cm[0,0] + cm[1,1]) / cm.sum()"
   ]
  },
  {
   "cell_type": "code",
   "execution_count": 137,
   "metadata": {},
   "outputs": [],
   "source": [
    "accs = [acc(m) for m in cm]"
   ]
  },
  {
   "cell_type": "code",
   "execution_count": 138,
   "metadata": {},
   "outputs": [
    {
     "data": {
      "text/plain": [
       "[1.0,\n",
       " 1.0,\n",
       " 1.0,\n",
       " 1.0,\n",
       " 0.9955720611341237,\n",
       " 0.9883445222111127,\n",
       " 0.9950864162262534,\n",
       " 0.9832595343522353,\n",
       " 0.9882588201685474,\n",
       " 0.9916583345236395,\n",
       " 0.9852592486787601,\n",
       " 1.0,\n",
       " 1.0,\n",
       " 1.0,\n",
       " 1.0,\n",
       " 1.0,\n",
       " 1.0,\n",
       " 1.0,\n",
       " 0.9936294815026425,\n",
       " 0.9778317383230967,\n",
       " 0.9780031424082274,\n",
       " 0.9973146693329524,\n",
       " 0.9942865304956435,\n",
       " 0.9928581631195543,\n",
       " 0.9845450649907156,\n",
       " 0.9857448935866305,\n",
       " 0.9966004856449079,\n",
       " 0.9748035994857878,\n",
       " 0.9985430652763891,\n",
       " 0.9958863019568633,\n",
       " 0.9965147836023425,\n",
       " 0.9972003999428654,\n",
       " 0.9902585344950722,\n",
       " 0.9888587344665047,\n",
       " 0.9792601056991859,\n",
       " 0.9899442936723325,\n",
       " 0.9959720039994286,\n",
       " 0.9899442936723325,\n",
       " 0.998428795886302,\n",
       " 0.9936294815026425,\n",
       " 0.9924296529067276,\n",
       " 0.9974289387230396,\n",
       " 0.997771746893301,\n",
       " 0.9999714326524782,\n",
       " 0.9980002856734752,\n",
       " 0.9958577346093416,\n",
       " 0.9911155549207256,\n",
       " 0.9924296529067276,\n",
       " 0.98317383230967,\n",
       " 0.9293529495786316,\n",
       " 0.9941151264105128,\n",
       " 0.9953435223539494,\n",
       " 0.9972003999428654,\n",
       " 0.9992286816169119,\n",
       " 0.9761748321668333,\n",
       " 0.9914869304385088,\n",
       " 0.9898014569347237,\n",
       " 0.9995143550921297,\n",
       " 0.9994572203970862,\n",
       " 0.9967718897300386,\n",
       " 0.9973432366804742,\n",
       " 0.9907441794029425,\n",
       " 0.9989144407941722,\n",
       " 0.996714755034995,\n",
       " 0.994743608055992,\n",
       " 0.9911726896157692,\n",
       " 0.9840022853878018,\n",
       " 1.0,\n",
       " 0.9974575060705614,\n",
       " 0.9964005142122554,\n",
       " 0.9984859305813455,\n",
       " 0.9970289958577346,\n",
       " 0.9732323953720897,\n",
       " 0.967804599342951,\n",
       " 0.9791458363090987,\n",
       " 1.0,\n",
       " 0.9891729752892444,\n",
       " 0.9899157263248107,\n",
       " 0.9965147836023425,\n",
       " 0.9852592486787601,\n",
       " 0.981202685330667,\n",
       " 0.9804885016426225,\n",
       " 0.9970861305527782,\n",
       " 0.9926867590344236,\n",
       " 0.9871446936151979,\n",
       " 0.9955149264390801,\n",
       " 0.9922296814740751,\n",
       " 0.9876589058705899,\n",
       " 0.9971146979002999,\n",
       " 0.995400657048993,\n",
       " 0.9924582202542493,\n",
       " 0.9882873875160691,\n",
       " 0.9917726039137266,\n",
       " 0.9986573346664762,\n",
       " 0.9985430652763891,\n",
       " 0.9950007141836881,\n",
       " 0.995400657048993,\n",
       " 0.9983145264962148,\n",
       " 0.98317383230967,\n",
       " 0.9980574203685187,\n",
       " 0.9970575632052564,\n",
       " 0.9958005999142979,\n",
       " 0.9804885016426225,\n",
       " 0.9864590772746751,\n",
       " 0.9927153263819455,\n",
       " 0.9978003142408227,\n",
       " 0.9794886444793601,\n",
       " 0.9882016854735037,\n",
       " 0.9969147264676474,\n",
       " 0.9945150692758178,\n",
       " 0.9929152978145979,\n",
       " 0.9971718325953435,\n",
       " 0.9970289958577346,\n",
       " 0.9919725753463791,\n",
       " 1.0,\n",
       " 0.9971718325953435,\n",
       " 0.9958577346093416,\n",
       " 0.9996286244822168,\n",
       " 0.9975146407656049,\n",
       " 0.9977431795457792,\n",
       " 0.9950864162262534,\n",
       " 0.992115412083988,\n",
       " 1.0,\n",
       " 0.9986573346664762,\n",
       " 0.9970289958577346,\n",
       " 0.9808598771604057,\n",
       " 0.9991144122268247,\n",
       " 0.9942579631481216,\n",
       " 0.9948293100985574,\n",
       " 0.9918011712612483,\n",
       " 0.9971718325953435,\n",
       " 0.9865733466647622,\n",
       " 0.9953720897014712,\n",
       " 0.9994286530495643,\n",
       " 0.9926581916869018,\n",
       " 0.9981145550635624,\n",
       " 0.9980002856734752,\n",
       " 0.9986001999714327,\n",
       " 0.9940008570204256,\n",
       " 0.9958863019568633,\n",
       " 0.9885444936437652,\n",
       " 0.9968575917726039,\n",
       " 0.9989715754892158,\n",
       " 0.9934580774175118,\n",
       " 0.998028853020997,\n",
       " 1.0,\n",
       " 1.0,\n",
       " 1.0,\n",
       " 0.9985430652763891,\n",
       " 0.9988573060991287,\n",
       " 0.9990001428367377,\n",
       " 0.9990287101842594,\n",
       " 0.9966290529924297,\n",
       " 0.999742893872304,\n",
       " 0.9971718325953435,\n",
       " 0.9951435509212969,\n",
       " 0.9992572489644337,\n",
       " 0.9987430367090415,\n",
       " 0.9992572489644337,\n",
       " 0.9964005142122554,\n",
       " 0.9992286816169119,\n",
       " 0.9980002856734752,\n",
       " 0.9994572203970862,\n",
       " 0.9990572775317812,\n",
       " 0.9992286816169119,\n",
       " 0.9987144693615198,\n",
       " 0.9992572489644337,\n",
       " 0.9794600771318384,\n",
       " 1.0,\n",
       " 0.9894586487644622,\n",
       " 0.9950007141836881,\n",
       " 0.9909727181831167,\n",
       " 0.947578917297529,\n",
       " 0.998943008141694,\n",
       " 0.9919725753463791,\n",
       " 1.0]"
      ]
     },
     "execution_count": 138,
     "metadata": {},
     "output_type": "execute_result"
    }
   ],
   "source": [
    "accs"
   ]
  },
  {
   "cell_type": "code",
   "execution_count": 136,
   "metadata": {},
   "outputs": [
    {
     "data": {
      "text/plain": [
       "0.9852592486787601"
      ]
     },
     "execution_count": 136,
     "metadata": {},
     "output_type": "execute_result"
    }
   ],
   "source": [
    "acc(cm2[6])"
   ]
  },
  {
   "cell_type": "code",
   "execution_count": 134,
   "metadata": {},
   "outputs": [
    {
     "data": {
      "text/plain": [
       "array([[33927,    64],\n",
       "       [  452,   562]])"
      ]
     },
     "execution_count": 134,
     "metadata": {},
     "output_type": "execute_result"
    }
   ],
   "source": [
    "cm2[6]"
   ]
  },
  {
   "cell_type": "code",
   "execution_count": 122,
   "metadata": {},
   "outputs": [
    {
     "data": {
      "text/plain": [
       "array([[35005,     0],\n",
       "       [    0,     0]])"
      ]
     },
     "execution_count": 122,
     "metadata": {},
     "output_type": "execute_result"
    }
   ],
   "source": [
    "cm[3]"
   ]
  },
  {
   "cell_type": "code",
   "execution_count": 90,
   "metadata": {},
   "outputs": [
    {
     "data": {
      "text/plain": [
       "(Text ▁xxbos ▁xxfld ▁1 ▁xxmaj ▁on ▁the ▁infinite ▁width ▁limit ▁of ▁neural ▁networks ▁with ▁a ▁standard ▁ parameterization ▁xxfld ▁2 ▁xxmaj ▁there ▁are ▁currently ▁two ▁ parameterization s ▁used ▁to ▁derive ▁fixed ▁kernels ▁corresponding ▁to ▁infinite ▁width ▁neural ▁networks , ▁the ▁xxup ▁n tk ▁( neural ▁xxmaj ▁tangent ▁xxmaj ▁kernel ) ▁ parameterization ▁and ▁the ▁naive ▁standard ▁ parameterization . ▁xxmaj ▁however , ▁the ▁extrapolation ▁of ▁both ▁of ▁these ▁ parameterization s ▁to ▁infinite ▁width ▁is ▁problematic . ▁xxmaj ▁the ▁standard ▁ parameterization ▁leads ▁to ▁a ▁divergent ▁neural ▁tangent ▁kernel ▁while ▁the ▁xxup ▁n tk ▁ parameterization ▁fails ▁to ▁capture ▁crucial ▁aspects ▁of ▁finite ▁width ▁networks ▁such ▁as : ▁the ▁dependence ▁of ▁training ▁dynamics ▁on ▁relative ▁layer ▁widths , ▁the ▁relative ▁training ▁dynamics ▁of ▁weights ▁and ▁biases , ▁and ▁a ▁non standard ▁learning ▁rate ▁scale . ▁xxmaj ▁here ▁we ▁propose ▁an ▁improved ▁extrapolation ▁of ▁the ▁standard ▁ parameterization ▁that ▁preserves ▁all ▁of ▁these ▁properties ▁as ▁width ▁is ▁taken ▁to ▁infinity ▁and ▁yields ▁a ▁well - defined ▁neural ▁tangent ▁kernel . ▁xxmaj ▁we ▁show ▁experimentally ▁that ▁the ▁resulting ▁kernels ▁typically ▁achieve ▁similar ▁accuracy ▁to ▁those ▁resulting ▁from ▁an ▁xxup ▁n tk ▁ parameterization , ▁but ▁with ▁better ▁correspondence ▁to ▁the ▁ parameterization ▁of ▁typical ▁finite ▁width ▁networks . ▁xxmaj ▁additionally , ▁with ▁careful ▁tuning ▁of ▁width ▁parameters , ▁the ▁improved ▁standard ▁ parameterization ▁kernels ▁can ▁outperform ▁those ▁stemming ▁from ▁an ▁xxup ▁n tk ▁ parameterization . ▁xxmaj ▁we ▁release ▁code ▁implementing ▁this ▁improved ▁standard ▁ parameterization ▁as ▁part ▁of ▁the ▁xxmaj ▁neural ▁xxmaj ▁tangent s ▁library ▁at ▁https : ▁/ ▁/ ▁github . com ▁/ ▁google ▁/ ▁neural - tangent s .,\n",
       " MultiCategory cs.LG;stat.ML)"
      ]
     },
     "execution_count": 90,
     "metadata": {},
     "output_type": "execute_result"
    }
   ],
   "source": [
    "data_clas.valid_ds[400]"
   ]
  },
  {
   "cell_type": "code",
   "execution_count": 92,
   "metadata": {},
   "outputs": [
    {
     "data": {
      "text/plain": [
       "49"
      ]
     },
     "execution_count": 92,
     "metadata": {},
     "output_type": "execute_result"
    }
   ],
   "source": [
    "y.c2i[\"cs.LG\"]"
   ]
  },
  {
   "cell_type": "code",
   "execution_count": 93,
   "metadata": {},
   "outputs": [
    {
     "data": {
      "text/plain": [
       "172"
      ]
     },
     "execution_count": 93,
     "metadata": {},
     "output_type": "execute_result"
    }
   ],
   "source": [
    "y.c2i[\"stat.ML\"]"
   ]
  },
  {
   "cell_type": "code",
   "execution_count": null,
   "metadata": {},
   "outputs": [],
   "source": [
    "preds = [learn.predict()]"
   ]
  },
  {
   "cell_type": "code",
   "execution_count": 37,
   "metadata": {},
   "outputs": [],
   "source": [
    "preds = [learn.predict(v) for v in valid_tl[::100][:10]]"
   ]
  },
  {
   "cell_type": "code",
   "execution_count": 79,
   "metadata": {},
   "outputs": [
    {
     "data": {
      "text/plain": [
       "tensor([0., 0., 0., 0., 0., 0., 0., 0., 1., 0., 0., 0., 0., 0., 0., 0., 0., 0.,\n",
       "        0., 0., 0., 0., 0., 0., 0., 0., 0., 0., 0., 0., 0., 0., 0., 0., 0., 0.,\n",
       "        0., 0., 0., 0., 0., 0., 0., 0., 0., 0., 0., 0., 0., 0., 0., 0., 0., 0.,\n",
       "        0., 0., 0., 0., 0., 0., 0., 0., 0., 0., 0., 0., 0., 0., 0., 0., 0., 0.,\n",
       "        0., 0., 0., 0., 1., 0., 0., 0., 0., 0., 0., 0., 0., 0., 0., 0., 0., 0.,\n",
       "        0., 0., 0., 0., 0., 0., 0., 0., 0., 0., 0., 0., 0., 0., 0., 0., 0., 0.,\n",
       "        0., 0., 0., 0., 0., 0., 0., 0., 0., 0., 0., 0., 0., 0., 0., 0., 0., 0.,\n",
       "        0., 0., 0., 0., 0., 0., 0., 0., 0., 0., 0., 0., 0., 0., 0., 0., 0., 0.,\n",
       "        0., 0., 0., 0., 0., 0., 0., 0., 0., 0., 0., 0., 0., 0., 0., 0., 0., 0.,\n",
       "        0., 0., 0., 0., 0., 0., 0., 0., 0., 0., 0., 0., 0., 0.])"
      ]
     },
     "execution_count": 79,
     "metadata": {},
     "output_type": "execute_result"
    }
   ],
   "source": [
    "preds[1][1]"
   ]
  },
  {
   "cell_type": "code",
   "execution_count": 39,
   "metadata": {},
   "outputs": [],
   "source": [
    "x = preds[0]"
   ]
  },
  {
   "cell_type": "code",
   "execution_count": 43,
   "metadata": {},
   "outputs": [
    {
     "data": {
      "text/plain": [
       "fastai.core.MultiCategory"
      ]
     },
     "execution_count": 43,
     "metadata": {},
     "output_type": "execute_result"
    }
   ],
   "source": [
    "type(x[0])"
   ]
  },
  {
   "cell_type": "code",
   "execution_count": 44,
   "metadata": {},
   "outputs": [],
   "source": [
    "y = x[0]"
   ]
  },
  {
   "cell_type": "code",
   "execution_count": 45,
   "metadata": {},
   "outputs": [
    {
     "data": {
      "text/plain": [
       "MultiCategory gr-qc"
      ]
     },
     "execution_count": 45,
     "metadata": {},
     "output_type": "execute_result"
    }
   ],
   "source": [
    "y"
   ]
  },
  {
   "cell_type": "code",
   "execution_count": 49,
   "metadata": {},
   "outputs": [
    {
     "data": {
      "text/plain": [
       "fastai.core.MultiCategory"
      ]
     },
     "execution_count": 49,
     "metadata": {},
     "output_type": "execute_result"
    }
   ],
   "source": [
    "type(y)"
   ]
  },
  {
   "cell_type": "code",
   "execution_count": 50,
   "metadata": {},
   "outputs": [
    {
     "data": {
      "text/plain": [
       "tensor([0., 0., 0., 0., 0., 0., 0., 0., 0., 0., 0., 0., 0., 0., 0., 0., 0., 0.,\n",
       "        0., 0., 0., 0., 0., 0., 0., 0., 0., 0., 0., 0., 0., 0., 0., 0., 0., 0.,\n",
       "        0., 0., 0., 0., 0., 0., 0., 0., 0., 0., 0., 0., 0., 0., 0., 0., 0., 0.,\n",
       "        0., 0., 0., 0., 0., 0., 0., 0., 0., 0., 0., 0., 0., 0., 0., 0., 0., 0.,\n",
       "        0., 0., 0., 0., 1., 0., 0., 0., 0., 0., 0., 0., 0., 0., 0., 0., 0., 0.,\n",
       "        0., 0., 0., 0., 0., 0., 0., 0., 0., 0., 0., 0., 0., 0., 0., 0., 0., 0.,\n",
       "        0., 0., 0., 0., 0., 0., 0., 0., 0., 0., 0., 0., 0., 0., 0., 0., 0., 0.,\n",
       "        0., 0., 0., 0., 0., 0., 0., 0., 0., 0., 0., 0., 0., 0., 0., 0., 0., 0.,\n",
       "        0., 0., 0., 0., 0., 0., 0., 0., 0., 0., 0., 0., 0., 0., 0., 0., 0., 0.,\n",
       "        0., 0., 0., 0., 0., 0., 0., 0., 0., 0., 0., 0., 0., 0.])"
      ]
     },
     "execution_count": 50,
     "metadata": {},
     "output_type": "execute_result"
    }
   ],
   "source": [
    "y.data"
   ]
  },
  {
   "cell_type": "code",
   "execution_count": 51,
   "metadata": {},
   "outputs": [
    {
     "data": {
      "text/plain": [
       "['gr-qc']"
      ]
     },
     "execution_count": 51,
     "metadata": {},
     "output_type": "execute_result"
    }
   ],
   "source": [
    "y.obj"
   ]
  },
  {
   "cell_type": "code",
   "execution_count": 52,
   "metadata": {},
   "outputs": [
    {
     "data": {
      "text/plain": [
       "[76]"
      ]
     },
     "execution_count": 52,
     "metadata": {},
     "output_type": "execute_result"
    }
   ],
   "source": [
    "y.raw"
   ]
  },
  {
   "cell_type": "code",
   "execution_count": 64,
   "metadata": {},
   "outputs": [
    {
     "data": {
      "text/plain": [
       "['__class__',\n",
       " '__delattr__',\n",
       " '__dict__',\n",
       " '__dir__',\n",
       " '__doc__',\n",
       " '__eq__',\n",
       " '__format__',\n",
       " '__ge__',\n",
       " '__getattribute__',\n",
       " '__gt__',\n",
       " '__hash__',\n",
       " '__init__',\n",
       " '__init_subclass__',\n",
       " '__le__',\n",
       " '__lt__',\n",
       " '__module__',\n",
       " '__ne__',\n",
       " '__new__',\n",
       " '__reduce__',\n",
       " '__reduce_ex__',\n",
       " '__repr__',\n",
       " '__setattr__',\n",
       " '__sizeof__',\n",
       " '__str__',\n",
       " '__subclasshook__',\n",
       " '__weakref__',\n",
       " 'apply_tfms',\n",
       " 'data',\n",
       " 'show',\n",
       " 'text']"
      ]
     },
     "execution_count": 64,
     "metadata": {},
     "output_type": "execute_result"
    }
   ],
   "source": [
    "dir(valid_tl[0])"
   ]
  },
  {
   "cell_type": "code",
   "execution_count": 65,
   "metadata": {},
   "outputs": [
    {
     "data": {
      "text/plain": [
       "array([   2,    4,   36,    5, ..., 3954,   18,  954,   12])"
      ]
     },
     "execution_count": 65,
     "metadata": {},
     "output_type": "execute_result"
    }
   ],
   "source": [
    "valid_tl[0].data"
   ]
  },
  {
   "cell_type": "code",
   "execution_count": 67,
   "metadata": {},
   "outputs": [],
   "source": [
    "y = data_clas.valid_ds.y"
   ]
  },
  {
   "cell_type": "code",
   "execution_count": 235,
   "metadata": {},
   "outputs": [
    {
     "data": {
      "text/plain": [
       "Text ▁xxbos ▁xxfld ▁1 ▁xxmaj ▁en vel oping ▁bra nes ▁and ▁bra ne world ▁singularities ▁xxfld ▁2 ▁xxmaj ▁the ▁existence ▁of ▁envelope s ▁is ▁studied ▁for ▁systems ▁of ▁differential ▁equations ▁in ▁connection ▁with ▁the ▁method ▁of ▁asymptotic ▁splitting s ▁which ▁allows ▁to ▁determine ▁the ▁singularity ▁structure ▁of ▁the ▁solutions . ▁xxmaj ▁the ▁result ▁is ▁applied ▁to ▁bra ne world s ▁consisting ▁of ▁a ▁3 - bra ne ▁in ▁a ▁five - dimensional ▁bulk , ▁in ▁the ▁presence ▁of ▁an ▁analog ▁of ▁a ▁bulk ▁perfect ▁fluid ▁parametrizing ▁a ▁generic ▁class ▁of ▁bulk ▁matter . ▁xxmaj ▁we ▁find ▁that ▁all ▁flat ▁bra ne ▁solutions ▁suffer ▁from ▁a ▁finite ▁distance ▁singularity ▁contrary ▁to ▁previous ▁claims . ▁xxmaj ▁we ▁then ▁study ▁the ▁possibility ▁of ▁avoiding ▁finite ▁distance ▁singularities ▁by ▁cutting ▁the ▁bulk ▁and ▁ glu ing ▁regular ▁solutions ▁at ▁the ▁position ▁of ▁the ▁bra ne . ▁xxmaj ▁further ▁imposing ▁physical ▁conditions ▁such ▁as ▁finite ▁xxmaj ▁ planck ▁mass ▁on ▁the ▁bra ne ▁and ▁positive ▁energy ▁conditions ▁on ▁the ▁bulk ▁fluid , ▁excludes ▁however ▁this ▁possibility , ▁as ▁well ."
      ]
     },
     "execution_count": 235,
     "metadata": {},
     "output_type": "execute_result"
    }
   ],
   "source": [
    "test_tl[0]"
   ]
  },
  {
   "cell_type": "code",
   "execution_count": 222,
   "metadata": {},
   "outputs": [
    {
     "data": {
      "text/plain": [
       "array([  2,   4,  36,   5, ...,  11,  30, 210,  12])"
      ]
     },
     "execution_count": 222,
     "metadata": {},
     "output_type": "execute_result"
    }
   ],
   "source": [
    "test_tl[0].data"
   ]
  },
  {
   "cell_type": "code",
   "execution_count": 72,
   "metadata": {},
   "outputs": [
    {
     "data": {
      "text/plain": [
       "84"
      ]
     },
     "execution_count": 72,
     "metadata": {},
     "output_type": "execute_result"
    }
   ],
   "source": [
    "y.c2i['math.AP']"
   ]
  },
  {
   "cell_type": "code",
   "execution_count": 73,
   "metadata": {},
   "outputs": [
    {
     "data": {
      "text/plain": [
       "'math.AP'"
      ]
     },
     "execution_count": 73,
     "metadata": {},
     "output_type": "execute_result"
    }
   ],
   "source": [
    "y.classes[84]"
   ]
  },
  {
   "cell_type": "code",
   "execution_count": 241,
   "metadata": {},
   "outputs": [],
   "source": [
    "test_df = all_df[all_df.arxiv_id.isin(test_no_version)]"
   ]
  },
  {
   "cell_type": "code",
   "execution_count": 248,
   "metadata": {},
   "outputs": [
    {
     "data": {
      "text/plain": [
       "(Text ▁xxbos ▁xxfld ▁1 ▁xxmaj ▁en vel oping ▁bra nes ▁and ▁bra ne world ▁singularities ▁xxfld ▁2 ▁xxmaj ▁the ▁existence ▁of ▁envelope s ▁is ▁studied ▁for ▁systems ▁of ▁differential ▁equations ▁in ▁connection ▁with ▁the ▁method ▁of ▁asymptotic ▁splitting s ▁which ▁allows ▁to ▁determine ▁the ▁singularity ▁structure ▁of ▁the ▁solutions . ▁xxmaj ▁the ▁result ▁is ▁applied ▁to ▁bra ne world s ▁consisting ▁of ▁a ▁3 - bra ne ▁in ▁a ▁five - dimensional ▁bulk , ▁in ▁the ▁presence ▁of ▁an ▁analog ▁of ▁a ▁bulk ▁perfect ▁fluid ▁parametrizing ▁a ▁generic ▁class ▁of ▁bulk ▁matter . ▁xxmaj ▁we ▁find ▁that ▁all ▁flat ▁bra ne ▁solutions ▁suffer ▁from ▁a ▁finite ▁distance ▁singularity ▁contrary ▁to ▁previous ▁claims . ▁xxmaj ▁we ▁then ▁study ▁the ▁possibility ▁of ▁avoiding ▁finite ▁distance ▁singularities ▁by ▁cutting ▁the ▁bulk ▁and ▁ glu ing ▁regular ▁solutions ▁at ▁the ▁position ▁of ▁the ▁bra ne . ▁xxmaj ▁further ▁imposing ▁physical ▁conditions ▁such ▁as ▁finite ▁xxmaj ▁ planck ▁mass ▁on ▁the ▁bra ne ▁and ▁positive ▁energy ▁conditions ▁on ▁the ▁bulk ▁fluid , ▁excludes ▁however ▁this ▁possibility , ▁as ▁well .,\n",
       " EmptyLabel )"
      ]
     },
     "execution_count": 248,
     "metadata": {},
     "output_type": "execute_result"
    }
   ],
   "source": [
    "learn.data.test_ds[0]"
   ]
  },
  {
   "cell_type": "code",
   "execution_count": 249,
   "metadata": {},
   "outputs": [],
   "source": [
    "test_preds, _ = learn.get_preds(DatasetType.Test, ordered=True)"
   ]
  },
  {
   "cell_type": "code",
   "execution_count": 157,
   "metadata": {},
   "outputs": [
    {
     "data": {
      "text/html": [
       "<div>\n",
       "<style scoped>\n",
       "    .dataframe tbody tr th:only-of-type {\n",
       "        vertical-align: middle;\n",
       "    }\n",
       "\n",
       "    .dataframe tbody tr th {\n",
       "        vertical-align: top;\n",
       "    }\n",
       "\n",
       "    .dataframe thead th {\n",
       "        text-align: right;\n",
       "    }\n",
       "</style>\n",
       "<table border=\"1\" class=\"dataframe\">\n",
       "  <thead>\n",
       "    <tr style=\"text-align: right;\">\n",
       "      <th></th>\n",
       "      <th>arxiv_id</th>\n",
       "      <th>categories</th>\n",
       "      <th>date</th>\n",
       "      <th>title</th>\n",
       "      <th>abstract</th>\n",
       "    </tr>\n",
       "  </thead>\n",
       "  <tbody>\n",
       "    <tr>\n",
       "      <td>498165</td>\n",
       "      <td>1406.0611</td>\n",
       "      <td>hep-th gr-qc</td>\n",
       "      <td>2014-06-03 07:50:04+00:00</td>\n",
       "      <td>Enveloping branes and braneworld singularities</td>\n",
       "      <td>The existence of envelopes is studied for sy...</td>\n",
       "    </tr>\n",
       "    <tr>\n",
       "      <td>498168</td>\n",
       "      <td>1410.1071</td>\n",
       "      <td>cond-mat.mtrl-sci cond-mat.dis-nn physics.comp-ph</td>\n",
       "      <td>2014-10-04 18:03:06+00:00</td>\n",
       "      <td>Inverse simulated annealing: Improvements and ...</td>\n",
       "      <td>An improved inverse simulated annealing meth...</td>\n",
       "    </tr>\n",
       "    <tr>\n",
       "      <td>498273</td>\n",
       "      <td>1212.5904</td>\n",
       "      <td>math.AG</td>\n",
       "      <td>2012-12-24 12:25:31+00:00</td>\n",
       "      <td>Mirror Transitions and the Batyrev-Borisov con...</td>\n",
       "      <td>We consider examples of extremal transitions...</td>\n",
       "    </tr>\n",
       "    <tr>\n",
       "      <td>498657</td>\n",
       "      <td>1411.3956</td>\n",
       "      <td>q-bio.NC</td>\n",
       "      <td>2014-11-14 16:24:42+00:00</td>\n",
       "      <td>Self-organization of microcircuits in networks...</td>\n",
       "      <td>The synaptic connectivity of cortical networ...</td>\n",
       "    </tr>\n",
       "    <tr>\n",
       "      <td>499313</td>\n",
       "      <td>1408.2094</td>\n",
       "      <td>math.HO</td>\n",
       "      <td>2014-08-09 13:25:55+00:00</td>\n",
       "      <td>Une nouvelle d\\'emonstration d'irrationalit\\'e...</td>\n",
       "      <td>To account for the first proof of existence ...</td>\n",
       "    </tr>\n",
       "  </tbody>\n",
       "</table>\n",
       "</div>"
      ],
      "text/plain": [
       "         arxiv_id                                         categories  \\\n",
       "498165  1406.0611                                       hep-th gr-qc   \n",
       "498168  1410.1071  cond-mat.mtrl-sci cond-mat.dis-nn physics.comp-ph   \n",
       "498273  1212.5904                                            math.AG   \n",
       "498657  1411.3956                                           q-bio.NC   \n",
       "499313  1408.2094                                            math.HO   \n",
       "\n",
       "                            date  \\\n",
       "498165 2014-06-03 07:50:04+00:00   \n",
       "498168 2014-10-04 18:03:06+00:00   \n",
       "498273 2012-12-24 12:25:31+00:00   \n",
       "498657 2014-11-14 16:24:42+00:00   \n",
       "499313 2014-08-09 13:25:55+00:00   \n",
       "\n",
       "                                                    title  \\\n",
       "498165     Enveloping branes and braneworld singularities   \n",
       "498168  Inverse simulated annealing: Improvements and ...   \n",
       "498273  Mirror Transitions and the Batyrev-Borisov con...   \n",
       "498657  Self-organization of microcircuits in networks...   \n",
       "499313  Une nouvelle d\\'emonstration d'irrationalit\\'e...   \n",
       "\n",
       "                                                 abstract  \n",
       "498165    The existence of envelopes is studied for sy...  \n",
       "498168    An improved inverse simulated annealing meth...  \n",
       "498273    We consider examples of extremal transitions...  \n",
       "498657    The synaptic connectivity of cortical networ...  \n",
       "499313    To account for the first proof of existence ...  "
      ]
     },
     "execution_count": 157,
     "metadata": {},
     "output_type": "execute_result"
    }
   ],
   "source": [
    "test_df.head()"
   ]
  },
  {
   "cell_type": "code",
   "execution_count": 250,
   "metadata": {},
   "outputs": [],
   "source": [
    "def get_test_labels(test_df, c2i):\n",
    "    out = np.zeros((len(test_df), len(c2i)), dtype=np.int8)\n",
    "    for i, (_, row) in enumerate(test_df.iterrows()):\n",
    "        for x in row.categories.split(' '):\n",
    "            out[i, c2i[x]] = 1\n",
    "    return out"
   ]
  },
  {
   "cell_type": "code",
   "execution_count": 251,
   "metadata": {},
   "outputs": [],
   "source": [
    "test_labels = get_test_labels(test_df, data_clas.valid_ds.y.c2i)"
   ]
  },
  {
   "cell_type": "code",
   "execution_count": 252,
   "metadata": {},
   "outputs": [],
   "source": [
    "test_cm = get_test_cm(test_preds, test_labels)"
   ]
  },
  {
   "cell_type": "code",
   "execution_count": 253,
   "metadata": {},
   "outputs": [
    {
     "data": {
      "text/plain": [
       "array([[10315,     0],\n",
       "       [    0,     0]])"
      ]
     },
     "execution_count": 253,
     "metadata": {},
     "output_type": "execute_result"
    }
   ],
   "source": [
    "test_cm[0]"
   ]
  },
  {
   "cell_type": "code",
   "execution_count": 254,
   "metadata": {},
   "outputs": [],
   "source": [
    "test_accs = [acc(m) for m in test_cm]"
   ]
  },
  {
   "cell_type": "code",
   "execution_count": 263,
   "metadata": {},
   "outputs": [
    {
     "data": {
      "text/plain": [
       "83"
      ]
     },
     "execution_count": 263,
     "metadata": {},
     "output_type": "execute_result"
    }
   ],
   "source": [
    "data_clas.valid_dl.y.c2i['math.AG']"
   ]
  },
  {
   "cell_type": "code",
   "execution_count": 264,
   "metadata": {},
   "outputs": [
    {
     "data": {
      "text/plain": [
       "array([[9980,   44],\n",
       "       [  82,  209]])"
      ]
     },
     "execution_count": 264,
     "metadata": {},
     "output_type": "execute_result"
    }
   ],
   "source": [
    "test_cm[83]"
   ]
  },
  {
   "cell_type": "code",
   "execution_count": null,
   "metadata": {},
   "outputs": [],
   "source": [
    "def p(cm):\n",
    "    tp = "
   ]
  },
  {
   "cell_type": "code",
   "execution_count": 255,
   "metadata": {},
   "outputs": [
    {
     "data": {
      "text/plain": [
       "[1.0,\n",
       " 1.0,\n",
       " 1.0,\n",
       " 1.0,\n",
       " 0.9926320891904993,\n",
       " 0.9803199224430441,\n",
       " 0.9953465826466311,\n",
       " 0.9838099854580707,\n",
       " 0.9840038778477945,\n",
       " 0.9919534658264663,\n",
       " 0.9866214251090645,\n",
       " 1.0,\n",
       " 1.0,\n",
       " 1.0,\n",
       " 1.0,\n",
       " 1.0,\n",
       " 1.0,\n",
       " 1.0,\n",
       " 0.9936015511391177,\n",
       " 0.9778962675714978,\n",
       " 0.9815802229762481,\n",
       " 0.9956374212312167,\n",
       " 0.9939893359185652,\n",
       " 0.9933107125545322,\n",
       " 0.9822588463402812,\n",
       " 0.9833252544837615,\n",
       " 0.9937954435288415,\n",
       " 0.9829374697043141,\n",
       " 0.998739699466796,\n",
       " 0.9959282598158022,\n",
       " 0.998739699466796,\n",
       " 0.9974793989335918,\n",
       " 0.9942801745031508,\n",
       " 0.9940862821134271,\n",
       " 0.9850702859912749,\n",
       " 0.9950557440620456,\n",
       " 0.9972855065438682,\n",
       " 0.9936015511391177,\n",
       " 0.9986427532719341,\n",
       " 0.9925351429956374,\n",
       " 0.9909840038778478,\n",
       " 0.9969946679592826,\n",
       " 0.9981580222976248,\n",
       " 1.0,\n",
       " 0.9978671837130393,\n",
       " 0.9959282598158022,\n",
       " 0.9961221522055259,\n",
       " 0.9959282598158022,\n",
       " 0.9880756180319923,\n",
       " 0.9639360155113912,\n",
       " 0.9934076587493941,\n",
       " 0.9966068831798351,\n",
       " 0.9976732913233156,\n",
       " 0.9991274842462433,\n",
       " 0.9936984973339796,\n",
       " 0.9927290353853612,\n",
       " 0.9946679592825982,\n",
       " 0.9995152690256908,\n",
       " 0.9999030538051381,\n",
       " 0.9983519146873485,\n",
       " 0.9974793989335918,\n",
       " 0.99476490547746,\n",
       " 0.9991274842462433,\n",
       " 0.9985458070770722,\n",
       " 0.9963160445952496,\n",
       " 0.9927290353853612,\n",
       " 0.9891420261754726,\n",
       " 1.0,\n",
       " 0.9983519146873485,\n",
       " 0.9989335918565196,\n",
       " 0.9989335918565196,\n",
       " 0.9975763451284537,\n",
       " 0.9939893359185652,\n",
       " 0.9900145419292293,\n",
       " 0.9969946679592826,\n",
       " 1.0,\n",
       " 0.9808046534173533,\n",
       " 0.984973339796413,\n",
       " 0.9946679592825982,\n",
       " 0.9822588463402812,\n",
       " 0.9727581192438197,\n",
       " 0.971885603490063,\n",
       " 0.9960252060106641,\n",
       " 0.9877847794474067,\n",
       " 0.9874939408628212,\n",
       " 0.9944740668928744,\n",
       " 0.9889481337857489,\n",
       " 0.984973339796413,\n",
       " 0.99738245273873,\n",
       " 0.9936015511391177,\n",
       " 0.9911778962675715,\n",
       " 0.9873969946679593,\n",
       " 0.9891420261754726,\n",
       " 0.9978671837130393,\n",
       " 0.9976732913233156,\n",
       " 0.9930198739699467,\n",
       " 0.9940862821134271,\n",
       " 0.9985458070770722,\n",
       " 0.9880756180319923,\n",
       " 0.9977702375181774,\n",
       " 0.9948618516723219,\n",
       " 0.9934076587493941,\n",
       " 0.971885603490063,\n",
       " 0.9880756180319923,\n",
       " 0.9918565196316045,\n",
       " 0.9960252060106641,\n",
       " 0.9813863305865245,\n",
       " 0.9851672321861367,\n",
       " 0.9945710130877363,\n",
       " 0.9937954435288415,\n",
       " 0.9893359185651963,\n",
       " 0.996703829374697,\n",
       " 0.9965099369849734,\n",
       " 0.9916626272418807,\n",
       " 1.0,\n",
       " 0.9961221522055259,\n",
       " 0.9956374212312167,\n",
       " 0.9996122152205525,\n",
       " 0.9963160445952496,\n",
       " 0.9972855065438682,\n",
       " 0.9918565196316045,\n",
       " 0.9904023267086767,\n",
       " 1.0,\n",
       " 0.998739699466796,\n",
       " 0.9984488608822104,\n",
       " 0.9936984973339796,\n",
       " 0.9990305380513815,\n",
       " 0.99476490547746,\n",
       " 0.9950557440620456,\n",
       " 0.9936015511391177,\n",
       " 0.9968977217644207,\n",
       " 0.9899175957343674,\n",
       " 0.9962190984003878,\n",
       " 0.9996122152205525,\n",
       " 0.9950557440620456,\n",
       " 0.9957343674260786,\n",
       " 0.9981580222976248,\n",
       " 0.9985458070770722,\n",
       " 0.9944740668928744,\n",
       " 0.9969946679592826,\n",
       " 0.9887542413960252,\n",
       " 0.9966068831798351,\n",
       " 0.9991274842462433,\n",
       " 0.9930198739699467,\n",
       " 0.9983519146873485,\n",
       " 1.0,\n",
       " 1.0,\n",
       " 1.0,\n",
       " 0.9986427532719341,\n",
       " 0.9995152690256908,\n",
       " 0.999321376635967,\n",
       " 0.9994183228308289,\n",
       " 0.9966068831798351,\n",
       " 0.9992244304411052,\n",
       " 0.9968977217644207,\n",
       " 0.9962190984003878,\n",
       " 0.9998061076102763,\n",
       " 0.998739699466796,\n",
       " 0.9990305380513815,\n",
       " 0.9975763451284537,\n",
       " 0.998739699466796,\n",
       " 0.9970916141541445,\n",
       " 0.9991274842462433,\n",
       " 0.999321376635967,\n",
       " 0.9985458070770722,\n",
       " 0.9985458070770722,\n",
       " 0.9990305380513815,\n",
       " 0.9791565681047019,\n",
       " 1.0,\n",
       " 0.9927290353853612,\n",
       " 0.995443528841493,\n",
       " 0.9905962190984003,\n",
       " 0.9641299079011149,\n",
       " 0.9992244304411052,\n",
       " 0.9916626272418807,\n",
       " 1.0]"
      ]
     },
     "execution_count": 255,
     "metadata": {},
     "output_type": "execute_result"
    }
   ],
   "source": [
    "test_accs"
   ]
  },
  {
   "cell_type": "code",
   "execution_count": 256,
   "metadata": {},
   "outputs": [],
   "source": [
    "test_cm2 = [m for m in test_cm if m[0,0] != 10315]"
   ]
  },
  {
   "cell_type": "code",
   "execution_count": 257,
   "metadata": {},
   "outputs": [],
   "source": [
    "test_cm3 = [m for m in test_cm if m[1,1] > 0]"
   ]
  },
  {
   "cell_type": "code",
   "execution_count": 265,
   "metadata": {},
   "outputs": [],
   "source": [
    "from sklearn.metrics import precision_score, recall_score"
   ]
  },
  {
   "cell_type": "code",
   "execution_count": 329,
   "metadata": {},
   "outputs": [],
   "source": [
    "def get_test_stats(test_preds, test_labels, threshold=0.5):\n",
    "    y_true = test_labels\n",
    "    if threshold <= 1.0:\n",
    "        y_pred = test_preds.cpu().numpy() > threshold\n",
    "    else:\n",
    "        idx = test_preds.cpu().argmax(1, keepdim=True)\n",
    "        one_hot = torch.FloatTensor(probs.shape)\n",
    "        y_pred = test_preds.cpu().numpy().argmax()\n",
    "    return precision_score(y_true, y_pred, average='micro'), recall_score(y_true, y_pred, average='micro')"
   ]
  },
  {
   "cell_type": "code",
   "execution_count": 330,
   "metadata": {},
   "outputs": [
    {
     "data": {
      "text/plain": [
       "(0.7869817646577807, 0.5383754754978742)"
      ]
     },
     "execution_count": 330,
     "metadata": {},
     "output_type": "execute_result"
    }
   ],
   "source": [
    "get_test_stats(test_preds, test_labels, 0.5)"
   ]
  },
  {
   "cell_type": "code",
   "execution_count": 331,
   "metadata": {},
   "outputs": [
    {
     "data": {
      "text/plain": [
       "(0.889008186820561, 0.3705526963526516)"
      ]
     },
     "execution_count": 331,
     "metadata": {},
     "output_type": "execute_result"
    }
   ],
   "source": [
    "get_test_stats(test_preds, test_labels, 0.75)"
   ]
  },
  {
   "cell_type": "code",
   "execution_count": 332,
   "metadata": {},
   "outputs": [
    {
     "data": {
      "text/plain": [
       "(0.6451395022600925, 0.6946184828820765)"
      ]
     },
     "execution_count": 332,
     "metadata": {},
     "output_type": "execute_result"
    }
   ],
   "source": [
    "get_test_stats(test_preds, test_labels, 0.25)"
   ]
  },
  {
   "cell_type": "code",
   "execution_count": 339,
   "metadata": {},
   "outputs": [
    {
     "data": {
      "text/plain": [
       "[('physics.optics', '1.1'),\n",
       " ('physics.app-ph', '0.53'),\n",
       " ('cond-mat.mes-hall', '0.25'),\n",
       " ('quant-ph', '0.13')]"
      ]
     },
     "execution_count": 339,
     "metadata": {},
     "output_type": "execute_result"
    }
   ],
   "source": [
    "[(x['category'], x['logodds']) for x in eval(test.output.iloc[0])['classifier']]"
   ]
  },
  {
   "cell_type": "code",
   "execution_count": 340,
   "metadata": {},
   "outputs": [
    {
     "ename": "ImportError",
     "evalue": "cannot import name 'sigmoid' from 'scipy.special' (/home/ubuntu/anaconda3/envs/fastai/lib/python3.7/site-packages/scipy/special/__init__.py)",
     "output_type": "error",
     "traceback": [
      "\u001b[0;31m---------------------------------------------------------------------------\u001b[0m",
      "\u001b[0;31mImportError\u001b[0m                               Traceback (most recent call last)",
      "\u001b[0;32m<ipython-input-340-3255bd86e53b>\u001b[0m in \u001b[0;36m<module>\u001b[0;34m\u001b[0m\n\u001b[0;32m----> 1\u001b[0;31m \u001b[0;32mfrom\u001b[0m \u001b[0mscipy\u001b[0m\u001b[0;34m.\u001b[0m\u001b[0mspecial\u001b[0m \u001b[0;32mimport\u001b[0m \u001b[0msigmoid\u001b[0m\u001b[0;34m\u001b[0m\u001b[0;34m\u001b[0m\u001b[0m\n\u001b[0m",
      "\u001b[0;31mImportError\u001b[0m: cannot import name 'sigmoid' from 'scipy.special' (/home/ubuntu/anaconda3/envs/fastai/lib/python3.7/site-packages/scipy/special/__init__.py)"
     ]
    }
   ],
   "source": [
    "from scipy.special import sigmoid"
   ]
  },
  {
   "cell_type": "code",
   "execution_count": null,
   "metadata": {},
   "outputs": [],
   "source": [
    "their_test_preds = "
   ]
  },
  {
   "cell_type": "code",
   "execution_count": 275,
   "metadata": {},
   "outputs": [
    {
     "data": {
      "text/plain": [
       "291"
      ]
     },
     "execution_count": 275,
     "metadata": {},
     "output_type": "execute_result"
    }
   ],
   "source": [
    "test_df.categories.str.contains(\"math.AG\").sum()"
   ]
  },
  {
   "cell_type": "code",
   "execution_count": 291,
   "metadata": {},
   "outputs": [
    {
     "data": {
      "text/plain": [
       "0       1907.06506\n",
       "1       1902.03608\n",
       "2       1808.08508\n",
       "3       1802.10202\n",
       "4       1701.06664\n",
       "           ...    \n",
       "9995    1603.01701\n",
       "9996    1507.04128\n",
       "9997     1411.1028\n",
       "9998    2001.00745\n",
       "9999    1908.02441\n",
       "Name: arxiv_id, Length: 10000, dtype: object"
      ]
     },
     "execution_count": 291,
     "metadata": {},
     "output_type": "execute_result"
    }
   ],
   "source": [
    "test_no_version"
   ]
  },
  {
   "cell_type": "code",
   "execution_count": 303,
   "metadata": {},
   "outputs": [],
   "source": [
    "test_full = test.copy(True)"
   ]
  },
  {
   "cell_type": "code",
   "execution_count": 304,
   "metadata": {},
   "outputs": [],
   "source": [
    "test_full[\"no_version\"] = test_no_version"
   ]
  },
  {
   "cell_type": "code",
   "execution_count": 305,
   "metadata": {},
   "outputs": [
    {
     "data": {
      "text/html": [
       "<div>\n",
       "<style scoped>\n",
       "    .dataframe tbody tr th:only-of-type {\n",
       "        vertical-align: middle;\n",
       "    }\n",
       "\n",
       "    .dataframe tbody tr th {\n",
       "        vertical-align: top;\n",
       "    }\n",
       "\n",
       "    .dataframe thead th {\n",
       "        text-align: right;\n",
       "    }\n",
       "</style>\n",
       "<table border=\"1\" class=\"dataframe\">\n",
       "  <thead>\n",
       "    <tr style=\"text-align: right;\">\n",
       "      <th></th>\n",
       "      <th>arxiv_id</th>\n",
       "      <th>tags</th>\n",
       "      <th>output</th>\n",
       "      <th>no_version</th>\n",
       "    </tr>\n",
       "  </thead>\n",
       "  <tbody>\n",
       "    <tr>\n",
       "      <td>9995</td>\n",
       "      <td>1603.01701v1</td>\n",
       "      <td>cond-mat.mes-hall quant-ph</td>\n",
       "      <td>{\"flags\":{},\"classifier\":[{\"topwords\":[{\"fidel...</td>\n",
       "      <td>1603.01701</td>\n",
       "    </tr>\n",
       "    <tr>\n",
       "      <td>9996</td>\n",
       "      <td>1507.04128v1</td>\n",
       "      <td>physics.class-ph cond-mat.mtrl-sci</td>\n",
       "      <td>{\"flags\":{},\"classifier\":[{\"topwords\":[{\"hall ...</td>\n",
       "      <td>1507.04128</td>\n",
       "    </tr>\n",
       "    <tr>\n",
       "      <td>9997</td>\n",
       "      <td>1411.1028v1</td>\n",
       "      <td>math.GR math.GT</td>\n",
       "      <td>{\"flags\":{},\"classifier\":[{\"topwords\":[{\"braid...</td>\n",
       "      <td>1411.1028</td>\n",
       "    </tr>\n",
       "    <tr>\n",
       "      <td>9998</td>\n",
       "      <td>2001.00745v1</td>\n",
       "      <td>cs.LG stat.ML</td>\n",
       "      <td>{\"flags\":{},\"classifier\":[{\"topwords\":[{\"blur\"...</td>\n",
       "      <td>2001.00745</td>\n",
       "    </tr>\n",
       "    <tr>\n",
       "      <td>9999</td>\n",
       "      <td>1908.02441v1</td>\n",
       "      <td>cs.LG cs.CV stat.ML</td>\n",
       "      <td>{\"flags\":{},\"classifier\":[{\"topwords\":[{\"subsp...</td>\n",
       "      <td>1908.02441</td>\n",
       "    </tr>\n",
       "  </tbody>\n",
       "</table>\n",
       "</div>"
      ],
      "text/plain": [
       "          arxiv_id                                tags  \\\n",
       "9995  1603.01701v1          cond-mat.mes-hall quant-ph   \n",
       "9996  1507.04128v1  physics.class-ph cond-mat.mtrl-sci   \n",
       "9997   1411.1028v1                     math.GR math.GT   \n",
       "9998  2001.00745v1                       cs.LG stat.ML   \n",
       "9999  1908.02441v1                 cs.LG cs.CV stat.ML   \n",
       "\n",
       "                                                 output  no_version  \n",
       "9995  {\"flags\":{},\"classifier\":[{\"topwords\":[{\"fidel...  1603.01701  \n",
       "9996  {\"flags\":{},\"classifier\":[{\"topwords\":[{\"hall ...  1507.04128  \n",
       "9997  {\"flags\":{},\"classifier\":[{\"topwords\":[{\"braid...   1411.1028  \n",
       "9998  {\"flags\":{},\"classifier\":[{\"topwords\":[{\"blur\"...  2001.00745  \n",
       "9999  {\"flags\":{},\"classifier\":[{\"topwords\":[{\"subsp...  1908.02441  "
      ]
     },
     "execution_count": 305,
     "metadata": {},
     "output_type": "execute_result"
    }
   ],
   "source": [
    "test_full.tail()"
   ]
  },
  {
   "cell_type": "code",
   "execution_count": 309,
   "metadata": {},
   "outputs": [],
   "source": [
    "mm = test_full.merge(test_df, left_on=\"no_version\", right_on=\"arxiv_id\")"
   ]
  },
  {
   "cell_type": "code",
   "execution_count": 318,
   "metadata": {},
   "outputs": [
    {
     "data": {
      "text/plain": [
       "53"
      ]
     },
     "execution_count": 318,
     "metadata": {},
     "output_type": "execute_result"
    }
   ],
   "source": [
    "sum(test_no_version.duplicated())"
   ]
  },
  {
   "cell_type": "code",
   "execution_count": 326,
   "metadata": {},
   "outputs": [
    {
     "data": {
      "text/plain": [
       "498165     False\n",
       "498168     False\n",
       "498273     False\n",
       "498657     False\n",
       "499313     False\n",
       "           ...  \n",
       "1679126    False\n",
       "1679169    False\n",
       "1679207    False\n",
       "1679231    False\n",
       "1679268    False\n",
       "Length: 10315, dtype: bool"
      ]
     },
     "execution_count": 326,
     "metadata": {},
     "output_type": "execute_result"
    }
   ],
   "source": [
    "test_df.duplicated()"
   ]
  },
  {
   "cell_type": "code",
   "execution_count": 328,
   "metadata": {},
   "outputs": [
    {
     "data": {
      "text/plain": [
       "9827"
      ]
     },
     "execution_count": 328,
     "metadata": {},
     "output_type": "execute_result"
    }
   ],
   "source": [
    "test_no_version.isin(test_df.arxiv_id).sum()"
   ]
  },
  {
   "cell_type": "code",
   "execution_count": null,
   "metadata": {},
   "outputs": [],
   "source": []
  }
 ],
 "metadata": {
  "kernelspec": {
   "display_name": "Python 3",
   "language": "python",
   "name": "python3"
  },
  "language_info": {
   "codemirror_mode": {
    "name": "ipython",
    "version": 3
   },
   "file_extension": ".py",
   "mimetype": "text/x-python",
   "name": "python",
   "nbconvert_exporter": "python",
   "pygments_lexer": "ipython3",
   "version": "3.6.8"
  }
 },
 "nbformat": 4,
 "nbformat_minor": 2
}
