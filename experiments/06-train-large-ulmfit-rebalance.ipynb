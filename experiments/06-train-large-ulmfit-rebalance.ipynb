{
 "cells": [
  {
   "cell_type": "markdown",
   "metadata": {},
   "source": [
    "# Train ULMFiT + sentencepiece arxiv categories large classifier on arxiv abstracts with classes weights\n",
    "\n",
    "This tunes the model trained in 04-train-large-ulmfit-sp notebook for one epoch with weighted loss."
   ]
  },
  {
   "cell_type": "code",
   "execution_count": 1,
   "metadata": {},
   "outputs": [
    {
     "name": "stdout",
     "output_type": "stream",
     "text": [
      "/home/ubuntu/paperswithcode/paper-extractor\n"
     ]
    }
   ],
   "source": [
    "%cd ~/paperswithcode/paper-extractor"
   ]
  },
  {
   "cell_type": "code",
   "execution_count": 2,
   "metadata": {},
   "outputs": [],
   "source": [
    "import pandas as pd, numpy as np\n",
    "from pathlib import Path\n",
    "\n",
    "DATA_PATH = Path(\"notebooks/shared-notebooks/arxiv-class\")\n",
    "TRAIN_PATH = DATA_PATH / \"arxiv-tag-classifier-data.json\"\n",
    "TEST_PATH = DATA_PATH / \"classifier.tsv\""
   ]
  },
  {
   "cell_type": "code",
   "execution_count": 3,
   "metadata": {},
   "outputs": [],
   "source": [
    "from fastai.text import *\n",
    "\n",
    "BASE_DIR = Path(\"./models/ulmfit_baseline\")\n",
    "VOCAB_PATH = BASE_DIR / \"data_lm_export_vocab.pkl\"\n",
    "MODELS_PATH = DATA_PATH / \"models\"\n",
    "\n",
    "processor = SPProcessor(sp_model=BASE_DIR / \"tmp\" / \"spm.model\", sp_vocab=BASE_DIR / \"tmp\" / \"spm.vocab\", n_cpus=8, mark_fields=True)\n",
    "vocab = Vocab.load(VOCAB_PATH)"
   ]
  },
  {
   "cell_type": "code",
   "execution_count": 4,
   "metadata": {},
   "outputs": [],
   "source": [
    "data_clas = load_data(MODELS_PATH, \"data_clas_abs.pkl\", bs=128, num_workers=16)"
   ]
  },
  {
   "cell_type": "code",
   "execution_count": 5,
   "metadata": {},
   "outputs": [],
   "source": [
    "def set_seed(seed=None):\n",
    "    if seed is not None:\n",
    "        torch.manual_seed(seed)\n",
    "        torch.backends.cudnn.deterministic = True\n",
    "        torch.backends.cudnn.benchmark = False\n",
    "        np.random.seed(seed)"
   ]
  },
  {
   "cell_type": "code",
   "execution_count": 12,
   "metadata": {},
   "outputs": [],
   "source": [
    "train_df = pd.read_pickle(DATA_PATH / \"train_df.pkl.gz\")"
   ]
  },
  {
   "cell_type": "code",
   "execution_count": 13,
   "metadata": {},
   "outputs": [
    {
     "data": {
      "text/plain": [
       "0    hep-ph astro-ph hep-ex nucl-ex nucl-th\n",
       "1                           math.KT math.AT\n",
       "2                           math.NT math.CO\n",
       "3                                   math.CO\n",
       "4                                    hep-ph\n",
       "Name: categories, dtype: object"
      ]
     },
     "execution_count": 13,
     "metadata": {},
     "output_type": "execute_result"
    }
   ],
   "source": [
    "train_df.categories.head()"
   ]
  },
  {
   "cell_type": "code",
   "execution_count": 14,
   "metadata": {},
   "outputs": [],
   "source": [
    "from collections import Counter\n",
    "c = Counter()\n",
    "for x in train_df.categories:\n",
    "    c.update(x.split(' '))"
   ]
  },
  {
   "cell_type": "code",
   "execution_count": 27,
   "metadata": {},
   "outputs": [],
   "source": [
    "ac = sum(c.values())"
   ]
  },
  {
   "cell_type": "code",
   "execution_count": 30,
   "metadata": {},
   "outputs": [
    {
     "data": {
      "text/plain": [
       "0.05591595534134918"
      ]
     },
     "execution_count": 30,
     "metadata": {},
     "output_type": "execute_result"
    }
   ],
   "source": [
    "147875 / ac"
   ]
  },
  {
   "cell_type": "code",
   "execution_count": 76,
   "metadata": {},
   "outputs": [],
   "source": [
    "def f(x):\n",
    "    if x < 1000:\n",
    "        x = 1000\n",
    "    return np.power(x, 0.5)\n",
    "n = sum([f(v) for v in c.values()])\n",
    "d = {k: f(v) / n for k, v in c.items()}\n",
    "s = Counter(d)"
   ]
  },
  {
   "cell_type": "code",
   "execution_count": 82,
   "metadata": {},
   "outputs": [
    {
     "data": {
      "text/plain": [
       "12.16038650701531"
      ]
     },
     "execution_count": 82,
     "metadata": {},
     "output_type": "execute_result"
    }
   ],
   "source": [
    "s.most_common(1)[0][1] / s.most_common()[-20][1]"
   ]
  },
  {
   "cell_type": "code",
   "execution_count": 83,
   "metadata": {},
   "outputs": [
    {
     "data": {
      "text/plain": [
       "0.021683353602918804"
      ]
     },
     "execution_count": 83,
     "metadata": {},
     "output_type": "execute_result"
    }
   ],
   "source": [
    "s.most_common(1)[0][1]"
   ]
  },
  {
   "cell_type": "code",
   "execution_count": 81,
   "metadata": {},
   "outputs": [
    {
     "data": {
      "text/plain": [
       "188.14946944422888"
      ]
     },
     "execution_count": 81,
     "metadata": {},
     "output_type": "execute_result"
    }
   ],
   "source": [
    "sum([c[x] / len(train_df) / s[x] for x in c])"
   ]
  },
  {
   "cell_type": "code",
   "execution_count": 86,
   "metadata": {},
   "outputs": [],
   "source": [
    "ss = {k: 1 / v / 188 for k, v in s.items()}"
   ]
  },
  {
   "cell_type": "code",
   "execution_count": 89,
   "metadata": {},
   "outputs": [
    {
     "data": {
      "text/plain": [
       "[('cmp-lg', 2.983067478247558),\n",
       " ('adap-org', 2.983067478247558),\n",
       " ('dg-ga', 2.983067478247558),\n",
       " ('funct-an', 2.983067478247558),\n",
       " ('patt-sol', 2.983067478247558),\n",
       " ('atom-ph', 2.983067478247558),\n",
       " ('chem-ph', 2.983067478247558),\n",
       " ('mtrl-th', 2.983067478247558),\n",
       " ('acc-phys', 2.983067478247558),\n",
       " ('supr-con', 2.983067478247558),\n",
       " ('ao-sci', 2.983067478247558),\n",
       " ('plasm-ph', 2.983067478247558),\n",
       " ('comp-gas', 2.983067478247558),\n",
       " ('q-bio.OT', 2.983067478247558),\n",
       " ('cs.GL', 2.983067478247558),\n",
       " ('bayes-an', 2.983067478247558),\n",
       " ('cs.OS', 2.983067478247558),\n",
       " ('stat.OT', 2.983067478247558),\n",
       " ('econ.TH', 2.983067478247558),\n",
       " ('econ.GN', 2.983067478247558),\n",
       " ('econ.EM', 2.9522301170196155),\n",
       " ('q-fin.TR', 2.870458019295076),\n",
       " ('q-fin.PM', 2.845536961690038),\n",
       " ('q-fin.EC', 2.8174762971327314),\n",
       " ('nlin.CG', 2.7391810145560704),\n",
       " ('q-bio', 2.7277055513866273),\n",
       " ('solv-int', 2.7040691179026126),\n",
       " ('q-fin.MF', 2.6284828388234383),\n",
       " ('q-fin.CP', 2.5974110250767937),\n",
       " ('q-bio.SC', 2.575056838140844),\n",
       " ('q-fin.RM', 2.5655160241655444),\n",
       " ('q-bio.TO', 2.541197787899752),\n",
       " ('cs.MS', 2.536599995481658),\n",
       " ('alg-geom', 2.5050993944085693),\n",
       " ('cs.AR', 2.464587633789228),\n",
       " ('q-fin.PR', 2.4454659026520424),\n",
       " ('q-alg', 2.4430044366003494),\n",
       " ('q-bio.CB', 2.398379594618523),\n",
       " ('cs.SC', 2.3597972457740632),\n",
       " ('physics.pop-ph', 2.3315178121463447),\n",
       " ('cs.ET', 2.230272385435345),\n",
       " ('cs.OH', 2.169862305115948),\n",
       " ('cs.GR', 2.1539656638904683),\n",
       " ('q-fin.GN', 2.122655559122235),\n",
       " ('physics.atm-clus', 2.1114597591519852),\n",
       " ('q-bio.GN', 2.106715492058177),\n",
       " ('eess.SY', 2.099398670925564),\n",
       " ('cs.PF', 2.048779155545391),\n",
       " ('physics.ed-ph', 2.009813822785523),\n",
       " ('chao-dyn', 1.9409892529782518),\n",
       " ('q-fin.ST', 1.9368934702900444),\n",
       " ('math.HO', 1.9069797999476437),\n",
       " ('cs.MM', 1.900004438959077),\n",
       " ('eess.AS', 1.8415400231674806),\n",
       " ('q-bio.MN', 1.8276623572500887),\n",
       " ('math.GM', 1.810748590171615),\n",
       " ('cs.FL', 1.729786866200838),\n",
       " ('cs.MA', 1.724287655352886),\n",
       " ('cs.DL', 1.721414319486571),\n",
       " ('physics.hist-ph', 1.671507613400914),\n",
       " ('physics.med-ph', 1.6577714469754619),\n",
       " ('cs.SD', 1.6320176060816207),\n",
       " ('cs.CE', 1.6194634380640167),\n",
       " ('q-bio.BM', 1.5942888985990002),\n",
       " ('physics.ao-ph', 1.593833712608681),\n",
       " ('math.GN', 1.572651515872954),\n",
       " ('physics.space-ph', 1.5282717650563022),\n",
       " ('physics.geo-ph', 1.4891158887145048),\n",
       " ('eess.IV', 1.4748516474560993),\n",
       " ('cs.CG', 1.447000270724658),\n",
       " ('cs.PL', 1.4049831756988937),\n",
       " ('math.KT', 1.4042046622154485),\n",
       " ('stat.CO', 1.3937437456064128),\n",
       " ('cs.DB', 1.365852770363594),\n",
       " ('physics.acc-ph', 1.3340683325660831),\n",
       " ('cs.HC', 1.3261352493471086),\n",
       " ('nlin.AO', 1.3256113957815976),\n",
       " ('q-bio.NC', 1.2780402395271568),\n",
       " ('math.CT', 1.271521959014559),\n",
       " ('q-bio.QM', 1.2573247166905481),\n",
       " ('cs.NA', 1.254320086352471),\n",
       " ('physics.class-ph', 1.2314535209790385),\n",
       " ('cs.GT', 1.2075118249671095),\n",
       " ('physics.app-ph', 1.183235342072368),\n",
       " ('cs.SE', 1.1534067254303397),\n",
       " ('eess.SP', 1.1451335789387465),\n",
       " ('q-bio.PE', 1.1424430998524375),\n",
       " ('physics.data-an', 1.1416898129908972),\n",
       " ('cs.IR', 1.1412719636144633),\n",
       " ('math.SG', 1.1339921029545708),\n",
       " ('math.SP', 1.1290268192050208),\n",
       " ('cs.CY', 1.120235508949959),\n",
       " ('nlin.PS', 1.1188950894199416),\n",
       " ('cs.CC', 1.1184231477092086),\n",
       " ('physics.gen-ph', 1.1045368203803119),\n",
       " ('cs.NE', 1.1038560113998723),\n",
       " ('math.MG', 1.079235936566818),\n",
       " ('cs.RO', 1.0291335553587413),\n",
       " ('cs.DM', 1.010657827701578),\n",
       " ('math.LO', 0.9945768677271487),\n",
       " ('math.AC', 0.9758283350652055),\n",
       " ('stat.AP', 0.9725555645215708),\n",
       " ('nlin.SI', 0.9683957038323721),\n",
       " ('math.OA', 0.9593394353492303),\n",
       " ('physics.bio-ph', 0.9468862709181202),\n",
       " ('physics.plasm-ph', 0.9335314192681318),\n",
       " ('cs.LO', 0.9318446561998813),\n",
       " ('cs.SY', 0.9201565446064792),\n",
       " ('cs.DC', 0.9085180380637847),\n",
       " ('math.AT', 0.9002884631369422),\n",
       " ('cs.SI', 0.8949649928426716),\n",
       " ('math.CV', 0.8543999703017913),\n",
       " ('math.RA', 0.8466564219376715),\n",
       " ('nlin.CD', 0.8392192831000066),\n",
       " ('stat.ME', 0.8345428295474618),\n",
       " ('physics.chem-ph', 0.8328822405430204),\n",
       " ('physics.comp-ph', 0.8325577957328668),\n",
       " ('cond-mat.other', 0.8287897450567604),\n",
       " ('cs.CR', 0.8273222382943228),\n",
       " ('cs.NI', 0.8237815231284343),\n",
       " ('physics.ins-det', 0.8124299328376121),\n",
       " ('cond-mat', 0.7962068826620693),\n",
       " ('math.ST', 0.7862165080911514),\n",
       " ('stat.TH', 0.7862165080911514),\n",
       " ('physics.soc-ph', 0.783445931714239),\n",
       " ('cs.DS', 0.7793710415858924),\n",
       " ('cond-mat.quant-gas', 0.7750711397709346),\n",
       " ('physics.atom-ph', 0.7709188503931879),\n",
       " ('math.QA', 0.7586304018754704),\n",
       " ('physics.flu-dyn', 0.7536507847242776),\n",
       " ('math.GR', 0.753410378075294),\n",
       " ('math.CA', 0.7411490736478239),\n",
       " ('math.GT', 0.7244168897434398),\n",
       " ('astro-ph.IM', 0.7215503394319226),\n",
       " ('cs.CL', 0.7189888874797756),\n",
       " ('astro-ph.EP', 0.7086690618730768),\n",
       " ('cond-mat.dis-nn', 0.7027839556552803),\n",
       " ('math.RT', 0.6882128885566028),\n",
       " ('nucl-ex', 0.6800278315442712),\n",
       " ('math.NA', 0.6672677508803101),\n",
       " ('math.FA', 0.6470420756403259),\n",
       " ('cs.AI', 0.6320114954482792),\n",
       " ('hep-lat', 0.6201280843168108),\n",
       " ('math.DS', 0.6076640818118642),\n",
       " ('math.OC', 0.6047352012380426),\n",
       " ('physics.optics', 0.5660765149746476),\n",
       " ('math.NT', 0.5608597571068338),\n",
       " ('cond-mat.soft', 0.5524388487948724),\n",
       " ('cs.IT', 0.5390538092496249),\n",
       " ('math.IT', 0.5390538092496249),\n",
       " ('math.DG', 0.5336017207585165),\n",
       " ('cond-mat.supr-con', 0.5053071638383464),\n",
       " ('stat.ML', 0.5011966366500924),\n",
       " ('cs.CV', 0.4951260164482605),\n",
       " ('astro-ph.HE', 0.49119715831011285),\n",
       " ('math.PR', 0.4810773448186307),\n",
       " ('math.AG', 0.4770923673594718),\n",
       " ('math.AP', 0.47506133938684325),\n",
       " ('astro-ph.GA', 0.47168796724985573),\n",
       " ('hep-ex', 0.46741273516211795),\n",
       " ('astro-ph.SR', 0.46293918777723186),\n",
       " ('math.CO', 0.451953983101412),\n",
       " ('nucl-th', 0.44961217019142175),\n",
       " ('cs.LG', 0.42757282706017585),\n",
       " ('astro-ph.CO', 0.4220298503464515),\n",
       " ('cond-mat.str-el', 0.4001000877626888),\n",
       " ('cond-mat.stat-mech', 0.39402623633599365),\n",
       " ('math-ph', 0.38476302096890297),\n",
       " ('math.MP', 0.38476302096890297),\n",
       " ('cond-mat.mtrl-sci', 0.3781097001608856),\n",
       " ('cond-mat.mes-hall', 0.36600264169869406),\n",
       " ('gr-qc', 0.3327650519864227),\n",
       " ('quant-ph', 0.30986324513217034),\n",
       " ('astro-ph', 0.29086421991480704),\n",
       " ('hep-th', 0.2566360860400667),\n",
       " ('hep-ph', 0.24531025198307885)]"
      ]
     },
     "execution_count": 89,
     "metadata": {},
     "output_type": "execute_result"
    }
   ],
   "source": [
    "Counter(ss).most_common()"
   ]
  },
  {
   "cell_type": "code",
   "execution_count": 88,
   "metadata": {},
   "outputs": [
    {
     "data": {
      "text/plain": [
       "1.00079505023526"
      ]
     },
     "execution_count": 88,
     "metadata": {},
     "output_type": "execute_result"
    }
   ],
   "source": [
    "sum([c[x] / len(train_df) * ss[x] for x in c])"
   ]
  },
  {
   "cell_type": "code",
   "execution_count": 94,
   "metadata": {},
   "outputs": [],
   "source": [
    "pos_weight = torch.FloatTensor([ss[x] for x in data_clas.train_dl.y.classes]).cuda()"
   ]
  },
  {
   "cell_type": "code",
   "execution_count": null,
   "metadata": {},
   "outputs": [],
   "source": []
  },
  {
   "cell_type": "code",
   "execution_count": 103,
   "metadata": {},
   "outputs": [],
   "source": [
    "set_seed(42)\n",
    "lin_ftrs = [len(data_clas.valid_dl.y.classes) * 2] # 352\n",
    "learn = text_classifier_learner(data_clas, AWD_LSTM, lin_ftrs=lin_ftrs).to_fp16()\n",
    "micro_f1 = MultiLabelFbeta(learn, beta=1.0)\n",
    "learn.metrics = [micro_f1]"
   ]
  },
  {
   "cell_type": "code",
   "execution_count": 104,
   "metadata": {},
   "outputs": [],
   "source": [
    "learn.loss_func = nn.BCEWithLogitsLoss(pos_weight=pos_weight)\n",
    "#BCEWithLogitsFlat(pos_weight=pos_weight)"
   ]
  },
  {
   "cell_type": "code",
   "execution_count": 105,
   "metadata": {},
   "outputs": [],
   "source": [
    "learn.load(\"arxiv_large_class_sp30k_1_1_ft_1_1_6_abstracts.pkl\");"
   ]
  },
  {
   "cell_type": "code",
   "execution_count": 106,
   "metadata": {},
   "outputs": [
    {
     "data": {
      "text/html": [
       "<table border=\"1\" class=\"dataframe\">\n",
       "  <thead>\n",
       "    <tr style=\"text-align: left;\">\n",
       "      <th>epoch</th>\n",
       "      <th>train_loss</th>\n",
       "      <th>valid_loss</th>\n",
       "      <th>multi_label_fbeta</th>\n",
       "      <th>micro_fbeta</th>\n",
       "      <th>time</th>\n",
       "    </tr>\n",
       "  </thead>\n",
       "  <tbody>\n",
       "    <tr>\n",
       "      <td>0</td>\n",
       "      <td>0.013375</td>\n",
       "      <td>0.016208</td>\n",
       "      <td>0.656061</td>\n",
       "      <td>36:22</td>\n",
       "    </tr>\n",
       "  </tbody>\n",
       "</table>"
      ],
      "text/plain": [
       "<IPython.core.display.HTML object>"
      ]
     },
     "metadata": {},
     "output_type": "display_data"
    }
   ],
   "source": [
    "learn.unfreeze()\n",
    "learn.fit_one_cycle(1, slice(2e-3/100, 2e-3))"
   ]
  },
  {
   "cell_type": "code",
   "execution_count": 107,
   "metadata": {},
   "outputs": [],
   "source": [
    "learn.save(\"arxiv_large_class_sp30k_1_1_ft_1_1_6_pos_weight_1_abstracts.pkl\")"
   ]
  },
  {
   "cell_type": "code",
   "execution_count": 8,
   "metadata": {},
   "outputs": [
    {
     "data": {
      "text/html": [
       "<table border=\"1\" class=\"dataframe\">\n",
       "  <thead>\n",
       "    <tr style=\"text-align: left;\">\n",
       "      <th>epoch</th>\n",
       "      <th>train_loss</th>\n",
       "      <th>valid_loss</th>\n",
       "      <th>multi_label_fbeta</th>\n",
       "      <th>micro_fbeta</th>\n",
       "      <th>time</th>\n",
       "    </tr>\n",
       "  </thead>\n",
       "  <tbody>\n",
       "    <tr>\n",
       "      <td>0</td>\n",
       "      <td>0.022476</td>\n",
       "      <td>0.021277</td>\n",
       "      <td>0.610026</td>\n",
       "      <td>17:22</td>\n",
       "    </tr>\n",
       "  </tbody>\n",
       "</table>"
      ],
      "text/plain": [
       "<IPython.core.display.HTML object>"
      ]
     },
     "metadata": {},
     "output_type": "display_data"
    }
   ],
   "source": [
    "learn.fit_one_cycle(1, 1e-2)"
   ]
  },
  {
   "cell_type": "code",
   "execution_count": 9,
   "metadata": {},
   "outputs": [
    {
     "data": {
      "text/html": [
       "<table border=\"1\" class=\"dataframe\">\n",
       "  <thead>\n",
       "    <tr style=\"text-align: left;\">\n",
       "      <th>epoch</th>\n",
       "      <th>train_loss</th>\n",
       "      <th>valid_loss</th>\n",
       "      <th>multi_label_fbeta</th>\n",
       "      <th>micro_fbeta</th>\n",
       "      <th>time</th>\n",
       "    </tr>\n",
       "  </thead>\n",
       "  <tbody>\n",
       "    <tr>\n",
       "      <td>0</td>\n",
       "      <td>0.020063</td>\n",
       "      <td>0.020329</td>\n",
       "      <td>0.637803</td>\n",
       "      <td>24:33</td>\n",
       "    </tr>\n",
       "  </tbody>\n",
       "</table>"
      ],
      "text/plain": [
       "<IPython.core.display.HTML object>"
      ]
     },
     "metadata": {},
     "output_type": "display_data"
    }
   ],
   "source": [
    "learn.freeze_to(-2)\n",
    "learn.fit_one_cycle(1, slice(5e-3/2., 5e-3))"
   ]
  },
  {
   "cell_type": "code",
   "execution_count": 9,
   "metadata": {},
   "outputs": [
    {
     "data": {
      "text/html": [
       "<table border=\"1\" class=\"dataframe\">\n",
       "  <thead>\n",
       "    <tr style=\"text-align: left;\">\n",
       "      <th>epoch</th>\n",
       "      <th>train_loss</th>\n",
       "      <th>valid_loss</th>\n",
       "      <th>multi_label_fbeta</th>\n",
       "      <th>micro_fbeta</th>\n",
       "      <th>time</th>\n",
       "    </tr>\n",
       "  </thead>\n",
       "  <tbody>\n",
       "    <tr>\n",
       "      <td>0</td>\n",
       "      <td>0.019959</td>\n",
       "      <td>0.019981</td>\n",
       "      <td>0.640732</td>\n",
       "      <td>14:45</td>\n",
       "    </tr>\n",
       "  </tbody>\n",
       "</table>"
      ],
      "text/plain": [
       "<IPython.core.display.HTML object>"
      ]
     },
     "metadata": {},
     "output_type": "display_data"
    }
   ],
   "source": [
    "# old results\n",
    "learn.freeze_to(-2)\n",
    "learn.fit_one_cycle(1, slice(5e-3/2., 5e-3))"
   ]
  },
  {
   "cell_type": "code",
   "execution_count": 10,
   "metadata": {},
   "outputs": [
    {
     "data": {
      "text/html": [
       "<table border=\"1\" class=\"dataframe\">\n",
       "  <thead>\n",
       "    <tr style=\"text-align: left;\">\n",
       "      <th>epoch</th>\n",
       "      <th>train_loss</th>\n",
       "      <th>valid_loss</th>\n",
       "      <th>multi_label_fbeta</th>\n",
       "      <th>micro_fbeta</th>\n",
       "      <th>time</th>\n",
       "    </tr>\n",
       "  </thead>\n",
       "  <tbody>\n",
       "    <tr>\n",
       "      <td>0</td>\n",
       "      <td>0.018740</td>\n",
       "      <td>0.020213</td>\n",
       "      <td>0.643172</td>\n",
       "      <td>41:41</td>\n",
       "    </tr>\n",
       "    <tr>\n",
       "      <td>1</td>\n",
       "      <td>0.017784</td>\n",
       "      <td>0.019404</td>\n",
       "      <td>0.653917</td>\n",
       "      <td>42:13</td>\n",
       "    </tr>\n",
       "    <tr>\n",
       "      <td>2</td>\n",
       "      <td>0.017556</td>\n",
       "      <td>0.018888</td>\n",
       "      <td>0.659366</td>\n",
       "      <td>40:29</td>\n",
       "    </tr>\n",
       "    <tr>\n",
       "      <td>3</td>\n",
       "      <td>0.017756</td>\n",
       "      <td>0.018624</td>\n",
       "      <td>0.664363</td>\n",
       "      <td>37:27</td>\n",
       "    </tr>\n",
       "    <tr>\n",
       "      <td>4</td>\n",
       "      <td>0.016774</td>\n",
       "      <td>0.018277</td>\n",
       "      <td>0.669639</td>\n",
       "      <td>41:15</td>\n",
       "    </tr>\n",
       "    <tr>\n",
       "      <td>5</td>\n",
       "      <td>0.016667</td>\n",
       "      <td>0.018294</td>\n",
       "      <td>0.670396</td>\n",
       "      <td>40:32</td>\n",
       "    </tr>\n",
       "  </tbody>\n",
       "</table>"
      ],
      "text/plain": [
       "<IPython.core.display.HTML object>"
      ]
     },
     "metadata": {},
     "output_type": "display_data"
    }
   ],
   "source": [
    "learn.unfreeze()\n",
    "learn.fit_one_cycle(6, slice(2e-3/100, 2e-3))"
   ]
  },
  {
   "cell_type": "code",
   "execution_count": 11,
   "metadata": {},
   "outputs": [],
   "source": [
    "learn.save(\"arxiv_large_class_sp30k_1_1_ft_1_1_6_abstracts.pkl\")"
   ]
  },
  {
   "cell_type": "code",
   "execution_count": null,
   "metadata": {},
   "outputs": [],
   "source": [
    "# %%javascript\n",
    "# IPython.notebook.save_notebook()"
   ]
  }
 ],
 "metadata": {
  "kernelspec": {
   "display_name": "Python (fastai)",
   "language": "python",
   "name": "fastai"
  },
  "language_info": {
   "codemirror_mode": {
    "name": "ipython",
    "version": 3
   },
   "file_extension": ".py",
   "mimetype": "text/x-python",
   "name": "python",
   "nbconvert_exporter": "python",
   "pygments_lexer": "ipython3",
   "version": "3.7.4"
  }
 },
 "nbformat": 4,
 "nbformat_minor": 2
}
