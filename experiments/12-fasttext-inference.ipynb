{
 "cells": [
  {
   "cell_type": "markdown",
   "metadata": {},
   "source": [
    "# fastText\n",
    "\n",
    "Short notebook showing how to run classification with a trained fastText model. The model is available at https://github.com/arXiv/arxiv-classifier/releases/download/ulmfit-models-v1.0/model-unbalanced-2M-100d-softmax.bin.xz and was trained on full texts."
   ]
  },
  {
   "cell_type": "code",
   "execution_count": 1,
   "metadata": {},
   "outputs": [
    {
     "name": "stderr",
     "output_type": "stream",
     "text": [
      "Warning : `load_model` does not return WordVectorModel or SupervisedModel any more, but a `FastText` object which is very similar.\n"
     ]
    }
   ],
   "source": [
    "from pathlib import Path\n",
    "\n",
    "import fasttext\n",
    "\n",
    "MODEL_PATH = Path('/mnt/efs/fasttext')\n",
    "model_name = 'model-unbalanced-2M-100d-softmax.bin'\n",
    "\n",
    "model = fasttext.load_model(str(MODEL_PATH / model_name))"
   ]
  },
  {
   "cell_type": "code",
   "execution_count": 2,
   "metadata": {},
   "outputs": [],
   "source": [
    "import re, string\n",
    "\n",
    "re_tok = re.compile(f'([{string.punctuation}“”¨«»®´·º½¾¿¡§£₤‘’])')\n",
    "def tokenize(s): return re_tok.sub(r' \\1 ', s).lower().split()\n",
    "\n",
    "def convert_to_fasttext(text):\n",
    "    line = ' '.join(text.split('\\n'))\n",
    "    line = ' '.join(tokenize(line))\n",
    "    return line"
   ]
  },
  {
   "cell_type": "code",
   "execution_count": 3,
   "metadata": {},
   "outputs": [],
   "source": [
    "def predict(model, text, topk=5):\n",
    "    text = convert_to_fasttext(text)\n",
    "    labels, probs = model.predict(text, k=topk)\n",
    "    # remove '__label__' prefix\n",
    "    labels = [label[9:] for label in labels]\n",
    "    return list(zip(labels, probs))"
   ]
  },
  {
   "cell_type": "code",
   "execution_count": 4,
   "metadata": {},
   "outputs": [
    {
     "data": {
      "text/plain": [
       "[('math.OC', 0.7141464352607727),\n",
       " ('cs.MA', 0.27467426657676697),\n",
       " ('q-fin.MF', 0.010656964965164661),\n",
       " ('cs.LO', 0.0002896013902500272),\n",
       " ('eess.SY', 0.00016926857642829418)]"
      ]
     },
     "execution_count": 4,
     "metadata": {},
     "output_type": "execute_result"
    }
   ],
   "source": [
    "predict(model, \"In this paper we prove that P=NP.\")"
   ]
  },
  {
   "cell_type": "code",
   "execution_count": null,
   "metadata": {},
   "outputs": [],
   "source": []
  }
 ],
 "metadata": {
  "kernelspec": {
   "display_name": "Python 3",
   "language": "python",
   "name": "python3"
  },
  "language_info": {
   "codemirror_mode": {
    "name": "ipython",
    "version": 3
   },
   "file_extension": ".py",
   "mimetype": "text/x-python",
   "name": "python",
   "nbconvert_exporter": "python",
   "pygments_lexer": "ipython3",
   "version": "3.6.8"
  }
 },
 "nbformat": 4,
 "nbformat_minor": 2
}
